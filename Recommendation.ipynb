{
  "nbformat": 4,
  "nbformat_minor": 0,
  "metadata": {
    "colab": {
      "name": "ML Final Project",
      "provenance": [],
      "collapsed_sections": []
    },
    "kernelspec": {
      "name": "python3",
      "display_name": "Python 3"
    },
    "language_info": {
      "name": "python"
    }
  },
  "cells": [
    {
      "cell_type": "code",
      "execution_count": 1,
      "metadata": {
        "id": "7pUY5i52kRet"
      },
      "outputs": [],
      "source": [
        "import numpy as np\n",
        "import pandas as pd \n",
        "import matplotlib.pyplot as plt\n",
        "import seaborn as sns\n",
        "import missingno as msno\n",
        "from sklearn.model_selection import train_test_split,KFold\n",
        "from sklearn.metrics import confusion_matrix\n",
        "from sklearn import base\n",
        "from scipy.stats import norm\n",
        "import random as rnd\n",
        "from sklearn.pipeline import Pipeline\n",
        "from sklearn.preprocessing import StandardScaler, OneHotEncoder\n",
        "from sklearn.compose import ColumnTransformer\n",
        "from sklearn.impute import SimpleImputer\n",
        "import time\n",
        "from tqdm import tqdm\n",
        "from random import seed\n",
        "from random import randrange\n",
        "from csv import reader\n",
        "from math import sqrt\n"
      ]
    },
    {
      "cell_type": "code",
      "source": [
        "df=pd.read_csv(\"/content/in-vehicle-coupon-recommendation.csv\")"
      ],
      "metadata": {
        "id": "Q8u18rGQsPmk"
      },
      "execution_count": 2,
      "outputs": []
    },
    {
      "cell_type": "markdown",
      "source": [
        "## Data Exploration"
      ],
      "metadata": {
        "id": "nXFx6Rcnz3WL"
      }
    },
    {
      "cell_type": "code",
      "source": [
        "df.info()"
      ],
      "metadata": {
        "colab": {
          "base_uri": "https://localhost:8080/"
        },
        "id": "4Gt3Hb67sfWq",
        "outputId": "177e9566-9dcb-4bd7-d079-930e1123a0c5"
      },
      "execution_count": 3,
      "outputs": [
        {
          "output_type": "stream",
          "name": "stdout",
          "text": [
            "<class 'pandas.core.frame.DataFrame'>\n",
            "RangeIndex: 12684 entries, 0 to 12683\n",
            "Data columns (total 26 columns):\n",
            " #   Column                Non-Null Count  Dtype \n",
            "---  ------                --------------  ----- \n",
            " 0   destination           12684 non-null  object\n",
            " 1   passanger             12684 non-null  object\n",
            " 2   weather               12684 non-null  object\n",
            " 3   temperature           12684 non-null  int64 \n",
            " 4   time                  12684 non-null  object\n",
            " 5   coupon                12684 non-null  object\n",
            " 6   expiration            12684 non-null  object\n",
            " 7   gender                12684 non-null  object\n",
            " 8   age                   12684 non-null  object\n",
            " 9   maritalStatus         12684 non-null  object\n",
            " 10  has_children          12684 non-null  int64 \n",
            " 11  education             12684 non-null  object\n",
            " 12  occupation            12684 non-null  object\n",
            " 13  income                12684 non-null  object\n",
            " 14  car                   108 non-null    object\n",
            " 15  Bar                   12577 non-null  object\n",
            " 16  CoffeeHouse           12467 non-null  object\n",
            " 17  CarryAway             12533 non-null  object\n",
            " 18  RestaurantLessThan20  12554 non-null  object\n",
            " 19  Restaurant20To50      12495 non-null  object\n",
            " 20  toCoupon_GEQ5min      12684 non-null  int64 \n",
            " 21  toCoupon_GEQ15min     12684 non-null  int64 \n",
            " 22  toCoupon_GEQ25min     12684 non-null  int64 \n",
            " 23  direction_same        12684 non-null  int64 \n",
            " 24  direction_opp         12684 non-null  int64 \n",
            " 25  Y                     12684 non-null  int64 \n",
            "dtypes: int64(8), object(18)\n",
            "memory usage: 2.5+ MB\n"
          ]
        }
      ]
    },
    {
      "cell_type": "code",
      "source": [
        "df.head()"
      ],
      "metadata": {
        "colab": {
          "base_uri": "https://localhost:8080/",
          "height": 386
        },
        "id": "_YSP-pyxsgOe",
        "outputId": "82328004-3f8c-4da8-dfa7-d2943ee4a651"
      },
      "execution_count": 4,
      "outputs": [
        {
          "output_type": "execute_result",
          "data": {
            "text/plain": [
              "       destination  passanger weather  temperature  time  \\\n",
              "0  No Urgent Place      Alone   Sunny           55   2PM   \n",
              "1  No Urgent Place  Friend(s)   Sunny           80  10AM   \n",
              "2  No Urgent Place  Friend(s)   Sunny           80  10AM   \n",
              "3  No Urgent Place  Friend(s)   Sunny           80   2PM   \n",
              "4  No Urgent Place  Friend(s)   Sunny           80   2PM   \n",
              "\n",
              "                  coupon expiration  gender age      maritalStatus  ...  \\\n",
              "0        Restaurant(<20)         1d  Female  21  Unmarried partner  ...   \n",
              "1           Coffee House         2h  Female  21  Unmarried partner  ...   \n",
              "2  Carry out & Take away         2h  Female  21  Unmarried partner  ...   \n",
              "3           Coffee House         2h  Female  21  Unmarried partner  ...   \n",
              "4           Coffee House         1d  Female  21  Unmarried partner  ...   \n",
              "\n",
              "   CoffeeHouse CarryAway RestaurantLessThan20 Restaurant20To50  \\\n",
              "0        never       NaN                  4~8              1~3   \n",
              "1        never       NaN                  4~8              1~3   \n",
              "2        never       NaN                  4~8              1~3   \n",
              "3        never       NaN                  4~8              1~3   \n",
              "4        never       NaN                  4~8              1~3   \n",
              "\n",
              "  toCoupon_GEQ5min toCoupon_GEQ15min toCoupon_GEQ25min direction_same  \\\n",
              "0                1                 0                 0              0   \n",
              "1                1                 0                 0              0   \n",
              "2                1                 1                 0              0   \n",
              "3                1                 1                 0              0   \n",
              "4                1                 1                 0              0   \n",
              "\n",
              "  direction_opp  Y  \n",
              "0             1  1  \n",
              "1             1  0  \n",
              "2             1  1  \n",
              "3             1  0  \n",
              "4             1  0  \n",
              "\n",
              "[5 rows x 26 columns]"
            ],
            "text/html": [
              "\n",
              "  <div id=\"df-7bbb682a-b460-44e4-bdb1-0b9a83447cff\">\n",
              "    <div class=\"colab-df-container\">\n",
              "      <div>\n",
              "<style scoped>\n",
              "    .dataframe tbody tr th:only-of-type {\n",
              "        vertical-align: middle;\n",
              "    }\n",
              "\n",
              "    .dataframe tbody tr th {\n",
              "        vertical-align: top;\n",
              "    }\n",
              "\n",
              "    .dataframe thead th {\n",
              "        text-align: right;\n",
              "    }\n",
              "</style>\n",
              "<table border=\"1\" class=\"dataframe\">\n",
              "  <thead>\n",
              "    <tr style=\"text-align: right;\">\n",
              "      <th></th>\n",
              "      <th>destination</th>\n",
              "      <th>passanger</th>\n",
              "      <th>weather</th>\n",
              "      <th>temperature</th>\n",
              "      <th>time</th>\n",
              "      <th>coupon</th>\n",
              "      <th>expiration</th>\n",
              "      <th>gender</th>\n",
              "      <th>age</th>\n",
              "      <th>maritalStatus</th>\n",
              "      <th>...</th>\n",
              "      <th>CoffeeHouse</th>\n",
              "      <th>CarryAway</th>\n",
              "      <th>RestaurantLessThan20</th>\n",
              "      <th>Restaurant20To50</th>\n",
              "      <th>toCoupon_GEQ5min</th>\n",
              "      <th>toCoupon_GEQ15min</th>\n",
              "      <th>toCoupon_GEQ25min</th>\n",
              "      <th>direction_same</th>\n",
              "      <th>direction_opp</th>\n",
              "      <th>Y</th>\n",
              "    </tr>\n",
              "  </thead>\n",
              "  <tbody>\n",
              "    <tr>\n",
              "      <th>0</th>\n",
              "      <td>No Urgent Place</td>\n",
              "      <td>Alone</td>\n",
              "      <td>Sunny</td>\n",
              "      <td>55</td>\n",
              "      <td>2PM</td>\n",
              "      <td>Restaurant(&lt;20)</td>\n",
              "      <td>1d</td>\n",
              "      <td>Female</td>\n",
              "      <td>21</td>\n",
              "      <td>Unmarried partner</td>\n",
              "      <td>...</td>\n",
              "      <td>never</td>\n",
              "      <td>NaN</td>\n",
              "      <td>4~8</td>\n",
              "      <td>1~3</td>\n",
              "      <td>1</td>\n",
              "      <td>0</td>\n",
              "      <td>0</td>\n",
              "      <td>0</td>\n",
              "      <td>1</td>\n",
              "      <td>1</td>\n",
              "    </tr>\n",
              "    <tr>\n",
              "      <th>1</th>\n",
              "      <td>No Urgent Place</td>\n",
              "      <td>Friend(s)</td>\n",
              "      <td>Sunny</td>\n",
              "      <td>80</td>\n",
              "      <td>10AM</td>\n",
              "      <td>Coffee House</td>\n",
              "      <td>2h</td>\n",
              "      <td>Female</td>\n",
              "      <td>21</td>\n",
              "      <td>Unmarried partner</td>\n",
              "      <td>...</td>\n",
              "      <td>never</td>\n",
              "      <td>NaN</td>\n",
              "      <td>4~8</td>\n",
              "      <td>1~3</td>\n",
              "      <td>1</td>\n",
              "      <td>0</td>\n",
              "      <td>0</td>\n",
              "      <td>0</td>\n",
              "      <td>1</td>\n",
              "      <td>0</td>\n",
              "    </tr>\n",
              "    <tr>\n",
              "      <th>2</th>\n",
              "      <td>No Urgent Place</td>\n",
              "      <td>Friend(s)</td>\n",
              "      <td>Sunny</td>\n",
              "      <td>80</td>\n",
              "      <td>10AM</td>\n",
              "      <td>Carry out &amp; Take away</td>\n",
              "      <td>2h</td>\n",
              "      <td>Female</td>\n",
              "      <td>21</td>\n",
              "      <td>Unmarried partner</td>\n",
              "      <td>...</td>\n",
              "      <td>never</td>\n",
              "      <td>NaN</td>\n",
              "      <td>4~8</td>\n",
              "      <td>1~3</td>\n",
              "      <td>1</td>\n",
              "      <td>1</td>\n",
              "      <td>0</td>\n",
              "      <td>0</td>\n",
              "      <td>1</td>\n",
              "      <td>1</td>\n",
              "    </tr>\n",
              "    <tr>\n",
              "      <th>3</th>\n",
              "      <td>No Urgent Place</td>\n",
              "      <td>Friend(s)</td>\n",
              "      <td>Sunny</td>\n",
              "      <td>80</td>\n",
              "      <td>2PM</td>\n",
              "      <td>Coffee House</td>\n",
              "      <td>2h</td>\n",
              "      <td>Female</td>\n",
              "      <td>21</td>\n",
              "      <td>Unmarried partner</td>\n",
              "      <td>...</td>\n",
              "      <td>never</td>\n",
              "      <td>NaN</td>\n",
              "      <td>4~8</td>\n",
              "      <td>1~3</td>\n",
              "      <td>1</td>\n",
              "      <td>1</td>\n",
              "      <td>0</td>\n",
              "      <td>0</td>\n",
              "      <td>1</td>\n",
              "      <td>0</td>\n",
              "    </tr>\n",
              "    <tr>\n",
              "      <th>4</th>\n",
              "      <td>No Urgent Place</td>\n",
              "      <td>Friend(s)</td>\n",
              "      <td>Sunny</td>\n",
              "      <td>80</td>\n",
              "      <td>2PM</td>\n",
              "      <td>Coffee House</td>\n",
              "      <td>1d</td>\n",
              "      <td>Female</td>\n",
              "      <td>21</td>\n",
              "      <td>Unmarried partner</td>\n",
              "      <td>...</td>\n",
              "      <td>never</td>\n",
              "      <td>NaN</td>\n",
              "      <td>4~8</td>\n",
              "      <td>1~3</td>\n",
              "      <td>1</td>\n",
              "      <td>1</td>\n",
              "      <td>0</td>\n",
              "      <td>0</td>\n",
              "      <td>1</td>\n",
              "      <td>0</td>\n",
              "    </tr>\n",
              "  </tbody>\n",
              "</table>\n",
              "<p>5 rows × 26 columns</p>\n",
              "</div>\n",
              "      <button class=\"colab-df-convert\" onclick=\"convertToInteractive('df-7bbb682a-b460-44e4-bdb1-0b9a83447cff')\"\n",
              "              title=\"Convert this dataframe to an interactive table.\"\n",
              "              style=\"display:none;\">\n",
              "        \n",
              "  <svg xmlns=\"http://www.w3.org/2000/svg\" height=\"24px\"viewBox=\"0 0 24 24\"\n",
              "       width=\"24px\">\n",
              "    <path d=\"M0 0h24v24H0V0z\" fill=\"none\"/>\n",
              "    <path d=\"M18.56 5.44l.94 2.06.94-2.06 2.06-.94-2.06-.94-.94-2.06-.94 2.06-2.06.94zm-11 1L8.5 8.5l.94-2.06 2.06-.94-2.06-.94L8.5 2.5l-.94 2.06-2.06.94zm10 10l.94 2.06.94-2.06 2.06-.94-2.06-.94-.94-2.06-.94 2.06-2.06.94z\"/><path d=\"M17.41 7.96l-1.37-1.37c-.4-.4-.92-.59-1.43-.59-.52 0-1.04.2-1.43.59L10.3 9.45l-7.72 7.72c-.78.78-.78 2.05 0 2.83L4 21.41c.39.39.9.59 1.41.59.51 0 1.02-.2 1.41-.59l7.78-7.78 2.81-2.81c.8-.78.8-2.07 0-2.86zM5.41 20L4 18.59l7.72-7.72 1.47 1.35L5.41 20z\"/>\n",
              "  </svg>\n",
              "      </button>\n",
              "      \n",
              "  <style>\n",
              "    .colab-df-container {\n",
              "      display:flex;\n",
              "      flex-wrap:wrap;\n",
              "      gap: 12px;\n",
              "    }\n",
              "\n",
              "    .colab-df-convert {\n",
              "      background-color: #E8F0FE;\n",
              "      border: none;\n",
              "      border-radius: 50%;\n",
              "      cursor: pointer;\n",
              "      display: none;\n",
              "      fill: #1967D2;\n",
              "      height: 32px;\n",
              "      padding: 0 0 0 0;\n",
              "      width: 32px;\n",
              "    }\n",
              "\n",
              "    .colab-df-convert:hover {\n",
              "      background-color: #E2EBFA;\n",
              "      box-shadow: 0px 1px 2px rgba(60, 64, 67, 0.3), 0px 1px 3px 1px rgba(60, 64, 67, 0.15);\n",
              "      fill: #174EA6;\n",
              "    }\n",
              "\n",
              "    [theme=dark] .colab-df-convert {\n",
              "      background-color: #3B4455;\n",
              "      fill: #D2E3FC;\n",
              "    }\n",
              "\n",
              "    [theme=dark] .colab-df-convert:hover {\n",
              "      background-color: #434B5C;\n",
              "      box-shadow: 0px 1px 3px 1px rgba(0, 0, 0, 0.15);\n",
              "      filter: drop-shadow(0px 1px 2px rgba(0, 0, 0, 0.3));\n",
              "      fill: #FFFFFF;\n",
              "    }\n",
              "  </style>\n",
              "\n",
              "      <script>\n",
              "        const buttonEl =\n",
              "          document.querySelector('#df-7bbb682a-b460-44e4-bdb1-0b9a83447cff button.colab-df-convert');\n",
              "        buttonEl.style.display =\n",
              "          google.colab.kernel.accessAllowed ? 'block' : 'none';\n",
              "\n",
              "        async function convertToInteractive(key) {\n",
              "          const element = document.querySelector('#df-7bbb682a-b460-44e4-bdb1-0b9a83447cff');\n",
              "          const dataTable =\n",
              "            await google.colab.kernel.invokeFunction('convertToInteractive',\n",
              "                                                     [key], {});\n",
              "          if (!dataTable) return;\n",
              "\n",
              "          const docLinkHtml = 'Like what you see? Visit the ' +\n",
              "            '<a target=\"_blank\" href=https://colab.research.google.com/notebooks/data_table.ipynb>data table notebook</a>'\n",
              "            + ' to learn more about interactive tables.';\n",
              "          element.innerHTML = '';\n",
              "          dataTable['output_type'] = 'display_data';\n",
              "          await google.colab.output.renderOutput(dataTable, element);\n",
              "          const docLink = document.createElement('div');\n",
              "          docLink.innerHTML = docLinkHtml;\n",
              "          element.appendChild(docLink);\n",
              "        }\n",
              "      </script>\n",
              "    </div>\n",
              "  </div>\n",
              "  "
            ]
          },
          "metadata": {},
          "execution_count": 4
        }
      ]
    },
    {
      "cell_type": "code",
      "source": [
        "(df.isna().sum()/len(df)).sort_values(ascending=False)"
      ],
      "metadata": {
        "colab": {
          "base_uri": "https://localhost:8080/"
        },
        "id": "0WH5AkzMslak",
        "outputId": "ab276c09-815b-4cf4-e105-da31006c5cdb"
      },
      "execution_count": 5,
      "outputs": [
        {
          "output_type": "execute_result",
          "data": {
            "text/plain": [
              "car                     0.991485\n",
              "CoffeeHouse             0.017108\n",
              "Restaurant20To50        0.014901\n",
              "CarryAway               0.011905\n",
              "RestaurantLessThan20    0.010249\n",
              "Bar                     0.008436\n",
              "destination             0.000000\n",
              "passanger               0.000000\n",
              "direction_opp           0.000000\n",
              "direction_same          0.000000\n",
              "toCoupon_GEQ25min       0.000000\n",
              "toCoupon_GEQ15min       0.000000\n",
              "toCoupon_GEQ5min        0.000000\n",
              "income                  0.000000\n",
              "occupation              0.000000\n",
              "education               0.000000\n",
              "has_children            0.000000\n",
              "maritalStatus           0.000000\n",
              "age                     0.000000\n",
              "gender                  0.000000\n",
              "expiration              0.000000\n",
              "coupon                  0.000000\n",
              "time                    0.000000\n",
              "temperature             0.000000\n",
              "weather                 0.000000\n",
              "Y                       0.000000\n",
              "dtype: float64"
            ]
          },
          "metadata": {},
          "execution_count": 5
        }
      ]
    },
    {
      "cell_type": "code",
      "source": [
        "df.describe()"
      ],
      "metadata": {
        "colab": {
          "base_uri": "https://localhost:8080/",
          "height": 300
        },
        "id": "sGNPwl9ZzdKg",
        "outputId": "220c2448-f3a3-4997-bb3a-5f4de15ff901"
      },
      "execution_count": 6,
      "outputs": [
        {
          "output_type": "execute_result",
          "data": {
            "text/plain": [
              "        temperature  has_children  toCoupon_GEQ5min  toCoupon_GEQ15min  \\\n",
              "count  12684.000000  12684.000000           12684.0       12684.000000   \n",
              "mean      63.301798      0.414144               1.0           0.561495   \n",
              "std       19.154486      0.492593               0.0           0.496224   \n",
              "min       30.000000      0.000000               1.0           0.000000   \n",
              "25%       55.000000      0.000000               1.0           0.000000   \n",
              "50%       80.000000      0.000000               1.0           1.000000   \n",
              "75%       80.000000      1.000000               1.0           1.000000   \n",
              "max       80.000000      1.000000               1.0           1.000000   \n",
              "\n",
              "       toCoupon_GEQ25min  direction_same  direction_opp             Y  \n",
              "count       12684.000000    12684.000000   12684.000000  12684.000000  \n",
              "mean            0.119126        0.214759       0.785241      0.568433  \n",
              "std             0.323950        0.410671       0.410671      0.495314  \n",
              "min             0.000000        0.000000       0.000000      0.000000  \n",
              "25%             0.000000        0.000000       1.000000      0.000000  \n",
              "50%             0.000000        0.000000       1.000000      1.000000  \n",
              "75%             0.000000        0.000000       1.000000      1.000000  \n",
              "max             1.000000        1.000000       1.000000      1.000000  "
            ],
            "text/html": [
              "\n",
              "  <div id=\"df-6548ff0c-5ed0-4731-8075-7a67bc2a031f\">\n",
              "    <div class=\"colab-df-container\">\n",
              "      <div>\n",
              "<style scoped>\n",
              "    .dataframe tbody tr th:only-of-type {\n",
              "        vertical-align: middle;\n",
              "    }\n",
              "\n",
              "    .dataframe tbody tr th {\n",
              "        vertical-align: top;\n",
              "    }\n",
              "\n",
              "    .dataframe thead th {\n",
              "        text-align: right;\n",
              "    }\n",
              "</style>\n",
              "<table border=\"1\" class=\"dataframe\">\n",
              "  <thead>\n",
              "    <tr style=\"text-align: right;\">\n",
              "      <th></th>\n",
              "      <th>temperature</th>\n",
              "      <th>has_children</th>\n",
              "      <th>toCoupon_GEQ5min</th>\n",
              "      <th>toCoupon_GEQ15min</th>\n",
              "      <th>toCoupon_GEQ25min</th>\n",
              "      <th>direction_same</th>\n",
              "      <th>direction_opp</th>\n",
              "      <th>Y</th>\n",
              "    </tr>\n",
              "  </thead>\n",
              "  <tbody>\n",
              "    <tr>\n",
              "      <th>count</th>\n",
              "      <td>12684.000000</td>\n",
              "      <td>12684.000000</td>\n",
              "      <td>12684.0</td>\n",
              "      <td>12684.000000</td>\n",
              "      <td>12684.000000</td>\n",
              "      <td>12684.000000</td>\n",
              "      <td>12684.000000</td>\n",
              "      <td>12684.000000</td>\n",
              "    </tr>\n",
              "    <tr>\n",
              "      <th>mean</th>\n",
              "      <td>63.301798</td>\n",
              "      <td>0.414144</td>\n",
              "      <td>1.0</td>\n",
              "      <td>0.561495</td>\n",
              "      <td>0.119126</td>\n",
              "      <td>0.214759</td>\n",
              "      <td>0.785241</td>\n",
              "      <td>0.568433</td>\n",
              "    </tr>\n",
              "    <tr>\n",
              "      <th>std</th>\n",
              "      <td>19.154486</td>\n",
              "      <td>0.492593</td>\n",
              "      <td>0.0</td>\n",
              "      <td>0.496224</td>\n",
              "      <td>0.323950</td>\n",
              "      <td>0.410671</td>\n",
              "      <td>0.410671</td>\n",
              "      <td>0.495314</td>\n",
              "    </tr>\n",
              "    <tr>\n",
              "      <th>min</th>\n",
              "      <td>30.000000</td>\n",
              "      <td>0.000000</td>\n",
              "      <td>1.0</td>\n",
              "      <td>0.000000</td>\n",
              "      <td>0.000000</td>\n",
              "      <td>0.000000</td>\n",
              "      <td>0.000000</td>\n",
              "      <td>0.000000</td>\n",
              "    </tr>\n",
              "    <tr>\n",
              "      <th>25%</th>\n",
              "      <td>55.000000</td>\n",
              "      <td>0.000000</td>\n",
              "      <td>1.0</td>\n",
              "      <td>0.000000</td>\n",
              "      <td>0.000000</td>\n",
              "      <td>0.000000</td>\n",
              "      <td>1.000000</td>\n",
              "      <td>0.000000</td>\n",
              "    </tr>\n",
              "    <tr>\n",
              "      <th>50%</th>\n",
              "      <td>80.000000</td>\n",
              "      <td>0.000000</td>\n",
              "      <td>1.0</td>\n",
              "      <td>1.000000</td>\n",
              "      <td>0.000000</td>\n",
              "      <td>0.000000</td>\n",
              "      <td>1.000000</td>\n",
              "      <td>1.000000</td>\n",
              "    </tr>\n",
              "    <tr>\n",
              "      <th>75%</th>\n",
              "      <td>80.000000</td>\n",
              "      <td>1.000000</td>\n",
              "      <td>1.0</td>\n",
              "      <td>1.000000</td>\n",
              "      <td>0.000000</td>\n",
              "      <td>0.000000</td>\n",
              "      <td>1.000000</td>\n",
              "      <td>1.000000</td>\n",
              "    </tr>\n",
              "    <tr>\n",
              "      <th>max</th>\n",
              "      <td>80.000000</td>\n",
              "      <td>1.000000</td>\n",
              "      <td>1.0</td>\n",
              "      <td>1.000000</td>\n",
              "      <td>1.000000</td>\n",
              "      <td>1.000000</td>\n",
              "      <td>1.000000</td>\n",
              "      <td>1.000000</td>\n",
              "    </tr>\n",
              "  </tbody>\n",
              "</table>\n",
              "</div>\n",
              "      <button class=\"colab-df-convert\" onclick=\"convertToInteractive('df-6548ff0c-5ed0-4731-8075-7a67bc2a031f')\"\n",
              "              title=\"Convert this dataframe to an interactive table.\"\n",
              "              style=\"display:none;\">\n",
              "        \n",
              "  <svg xmlns=\"http://www.w3.org/2000/svg\" height=\"24px\"viewBox=\"0 0 24 24\"\n",
              "       width=\"24px\">\n",
              "    <path d=\"M0 0h24v24H0V0z\" fill=\"none\"/>\n",
              "    <path d=\"M18.56 5.44l.94 2.06.94-2.06 2.06-.94-2.06-.94-.94-2.06-.94 2.06-2.06.94zm-11 1L8.5 8.5l.94-2.06 2.06-.94-2.06-.94L8.5 2.5l-.94 2.06-2.06.94zm10 10l.94 2.06.94-2.06 2.06-.94-2.06-.94-.94-2.06-.94 2.06-2.06.94z\"/><path d=\"M17.41 7.96l-1.37-1.37c-.4-.4-.92-.59-1.43-.59-.52 0-1.04.2-1.43.59L10.3 9.45l-7.72 7.72c-.78.78-.78 2.05 0 2.83L4 21.41c.39.39.9.59 1.41.59.51 0 1.02-.2 1.41-.59l7.78-7.78 2.81-2.81c.8-.78.8-2.07 0-2.86zM5.41 20L4 18.59l7.72-7.72 1.47 1.35L5.41 20z\"/>\n",
              "  </svg>\n",
              "      </button>\n",
              "      \n",
              "  <style>\n",
              "    .colab-df-container {\n",
              "      display:flex;\n",
              "      flex-wrap:wrap;\n",
              "      gap: 12px;\n",
              "    }\n",
              "\n",
              "    .colab-df-convert {\n",
              "      background-color: #E8F0FE;\n",
              "      border: none;\n",
              "      border-radius: 50%;\n",
              "      cursor: pointer;\n",
              "      display: none;\n",
              "      fill: #1967D2;\n",
              "      height: 32px;\n",
              "      padding: 0 0 0 0;\n",
              "      width: 32px;\n",
              "    }\n",
              "\n",
              "    .colab-df-convert:hover {\n",
              "      background-color: #E2EBFA;\n",
              "      box-shadow: 0px 1px 2px rgba(60, 64, 67, 0.3), 0px 1px 3px 1px rgba(60, 64, 67, 0.15);\n",
              "      fill: #174EA6;\n",
              "    }\n",
              "\n",
              "    [theme=dark] .colab-df-convert {\n",
              "      background-color: #3B4455;\n",
              "      fill: #D2E3FC;\n",
              "    }\n",
              "\n",
              "    [theme=dark] .colab-df-convert:hover {\n",
              "      background-color: #434B5C;\n",
              "      box-shadow: 0px 1px 3px 1px rgba(0, 0, 0, 0.15);\n",
              "      filter: drop-shadow(0px 1px 2px rgba(0, 0, 0, 0.3));\n",
              "      fill: #FFFFFF;\n",
              "    }\n",
              "  </style>\n",
              "\n",
              "      <script>\n",
              "        const buttonEl =\n",
              "          document.querySelector('#df-6548ff0c-5ed0-4731-8075-7a67bc2a031f button.colab-df-convert');\n",
              "        buttonEl.style.display =\n",
              "          google.colab.kernel.accessAllowed ? 'block' : 'none';\n",
              "\n",
              "        async function convertToInteractive(key) {\n",
              "          const element = document.querySelector('#df-6548ff0c-5ed0-4731-8075-7a67bc2a031f');\n",
              "          const dataTable =\n",
              "            await google.colab.kernel.invokeFunction('convertToInteractive',\n",
              "                                                     [key], {});\n",
              "          if (!dataTable) return;\n",
              "\n",
              "          const docLinkHtml = 'Like what you see? Visit the ' +\n",
              "            '<a target=\"_blank\" href=https://colab.research.google.com/notebooks/data_table.ipynb>data table notebook</a>'\n",
              "            + ' to learn more about interactive tables.';\n",
              "          element.innerHTML = '';\n",
              "          dataTable['output_type'] = 'display_data';\n",
              "          await google.colab.output.renderOutput(dataTable, element);\n",
              "          const docLink = document.createElement('div');\n",
              "          docLink.innerHTML = docLinkHtml;\n",
              "          element.appendChild(docLink);\n",
              "        }\n",
              "      </script>\n",
              "    </div>\n",
              "  </div>\n",
              "  "
            ]
          },
          "metadata": {},
          "execution_count": 6
        }
      ]
    },
    {
      "cell_type": "code",
      "source": [
        "df.car.unique()"
      ],
      "metadata": {
        "colab": {
          "base_uri": "https://localhost:8080/"
        },
        "id": "j1q8_R6ts-RZ",
        "outputId": "bbe14638-3288-49cd-9347-48538237f410"
      },
      "execution_count": 7,
      "outputs": [
        {
          "output_type": "execute_result",
          "data": {
            "text/plain": [
              "array([nan, 'Scooter and motorcycle', 'crossover', 'Mazda5',\n",
              "       'do not drive', 'Car that is too old to install Onstar :D'],\n",
              "      dtype=object)"
            ]
          },
          "metadata": {},
          "execution_count": 7
        }
      ]
    },
    {
      "cell_type": "markdown",
      "source": [
        "# Missing Values Analysis"
      ],
      "metadata": {
        "id": "JYkp35L70GTB"
      }
    },
    {
      "cell_type": "code",
      "source": [
        "na_columns = ['Bar', 'CoffeeHouse', 'CarryAway', 'RestaurantLessThan20', 'Restaurant20To50']\n",
        "na_df = df[na_columns]\n",
        "msno.matrix(na_df, figsize=(10, 8))\n",
        "plt.show()"
      ],
      "metadata": {
        "colab": {
          "base_uri": "https://localhost:8080/",
          "height": 625
        },
        "id": "baKWWF_GtzrC",
        "outputId": "560e4c52-7b5b-492a-8102-fef457aa45d2"
      },
      "execution_count": 8,
      "outputs": [
        {
          "output_type": "display_data",
          "data": {
            "text/plain": [
              "<Figure size 720x576 with 2 Axes>"
            ],
            "image/png": "[encoded data removed]"
          },
          "metadata": {
            "needs_background": "light"
          }
        }
      ]
    },
    {
      "cell_type": "code",
      "source": [
        "msno.heatmap(na_df, figsize=(10, 8));\n"
      ],
      "metadata": {
        "colab": {
          "base_uri": "https://localhost:8080/",
          "height": 617
        },
        "id": "czqHxM-1v96B",
        "outputId": "5defc23d-da3c-4236-921f-0f9ea4cf94d5"
      },
      "execution_count": 9,
      "outputs": [
        {
          "output_type": "display_data",
          "data": {
            "text/plain": [
              "<Figure size 720x576 with 2 Axes>"
            ],
            "image/png": "[encoded data removed]"
          },
          "metadata": {
            "needs_background": "light"
          }
        }
      ]
    },
    {
      "cell_type": "code",
      "source": [
        "df.iloc[:,(df.dtypes==\"int64\").values].nunique()"
      ],
      "metadata": {
        "colab": {
          "base_uri": "https://localhost:8080/"
        },
        "id": "mg0K-_VNwD6G",
        "outputId": "8f4ffffb-a0d7-4143-baad-1c2929a515e5"
      },
      "execution_count": 10,
      "outputs": [
        {
          "output_type": "execute_result",
          "data": {
            "text/plain": [
              "temperature          3\n",
              "has_children         2\n",
              "toCoupon_GEQ5min     1\n",
              "toCoupon_GEQ15min    2\n",
              "toCoupon_GEQ25min    2\n",
              "direction_same       2\n",
              "direction_opp        2\n",
              "Y                    2\n",
              "dtype: int64"
            ]
          },
          "metadata": {},
          "execution_count": 10
        }
      ]
    },
    {
      "cell_type": "code",
      "source": [
        "df.drop(columns=['toCoupon_GEQ5min','car'], inplace=True)\n"
      ],
      "metadata": {
        "id": "YD5DWKyQztSc"
      },
      "execution_count": 11,
      "outputs": []
    },
    {
      "cell_type": "code",
      "source": [
        "clean_df = df.copy()\n"
      ],
      "metadata": {
        "id": "b_AvAiBc0bql"
      },
      "execution_count": 12,
      "outputs": []
    },
    {
      "cell_type": "code",
      "source": [
        "fig, axes = plt.subplots(9, 2, figsize=(20,50))\n",
        "axes = axes.flatten()\n",
        "\n",
        "for ax, col in zip(axes, clean_df.select_dtypes('object').columns):\n",
        "    sns.countplot(y=col, data=clean_df, ax=ax, \n",
        "                  palette=\"husl\", order=clean_df[col].value_counts().index);\n",
        "\n",
        "plt.tight_layout()\n",
        "plt.show()"
      ],
      "metadata": {
        "colab": {
          "base_uri": "https://localhost:8080/",
          "height": 1000
        },
        "id": "_iNmmeJ43L0d",
        "outputId": "b57acab3-0b89-4015-cf3b-711eec5ae115"
      },
      "execution_count": 13,
      "outputs": [
        {
          "output_type": "display_data",
          "data": {
            "text/plain": [
              "<Figure size 1440x3600 with 18 Axes>"
            ],
            "image/png": "[encoded data removed]"
          },
          "metadata": {
            "needs_background": "light"
          }
        }
      ]
    },
    {
      "cell_type": "code",
      "source": [
        "frequency_map = {\n",
        "    'never': 0,\n",
        "    'less1': 1,\n",
        "    '1~3': 2,\n",
        "    '4~8': 3,\n",
        "    'gt8': 4\n",
        "}\n",
        "age_map = {\n",
        "    'below21': 0,\n",
        "    '21': 1,\n",
        "    '26': 2,\n",
        "    '31': 3,\n",
        "    '36': 4,\n",
        "    '41': 5,\n",
        "    '46': 6,\n",
        "    '50plus': 7\n",
        "}\n",
        "income_map = {\n",
        "    'Less than $12500': 0,\n",
        "    '$12500 - $24999': 1,\n",
        "    '$25000 - $37499': 2,\n",
        "    '$37500 - $49999': 3,\n",
        "    '$50000 - $62499': 4,\n",
        "    '$62500 - $74999': 5,\n",
        "    '$75000 - $87499': 6,\n",
        "    '$87500 - $99999': 7,\n",
        "    '$100000 or More': 8\n",
        "}"
      ],
      "metadata": {
        "id": "P2aiwEdw3QfJ"
      },
      "execution_count": 14,
      "outputs": []
    },
    {
      "cell_type": "code",
      "source": [
        "frequency_cols = ['Restaurant20To50', 'RestaurantLessThan20', \n",
        "                  'CarryAway', 'CoffeeHouse', 'Bar']"
      ],
      "metadata": {
        "id": "PLKF2aqH3yzT"
      },
      "execution_count": 15,
      "outputs": []
    },
    {
      "cell_type": "code",
      "source": [
        "for col in frequency_cols:\n",
        "    clean_df[col] = clean_df[col].map(frequency_map)\n",
        "clean_df.age = clean_df.age.map(age_map)\n",
        "clean_df.income = clean_df.income.map(income_map)"
      ],
      "metadata": {
        "id": "4pg2TFqu3025"
      },
      "execution_count": 16,
      "outputs": []
    },
    {
      "cell_type": "code",
      "source": [
        "fig, axes = plt.subplots(3, 3, figsize=(20, 15))\n",
        "axes = axes.flatten()\n",
        "\n",
        "for ax, col in zip(axes, ['destination', 'passanger', 'weather', 'time', \n",
        "                          'coupon', 'expiration', 'gender', 'maritalStatus',\n",
        "                          'education']):\n",
        "    sns.countplot(y=col, hue='Y', data=clean_df, ax=ax, palette='Paired')\n",
        "plt.tight_layout()\n",
        "plt.show()"
      ],
      "metadata": {
        "colab": {
          "base_uri": "https://localhost:8080/",
          "height": 1000
        },
        "id": "UeqSJbMq324x",
        "outputId": "2d0e41b0-c2fd-4004-f137-d89bc3bacf14"
      },
      "execution_count": 17,
      "outputs": [
        {
          "output_type": "display_data",
          "data": {
            "text/plain": [
              "<Figure size 1440x1080 with 9 Axes>"
            ],
            "image/png": "[encoded data removed]"
          },
          "metadata": {
            "needs_background": "light"
          }
        }
      ]
    },
    {
      "cell_type": "code",
      "source": [
        "plt.subplots(figsize=(15, 20))\n",
        "sns.countplot(y ='occupation', hue='Y', data=clean_df, palette='Paired');\n",
        "plt.show()"
      ],
      "metadata": {
        "colab": {
          "base_uri": "https://localhost:8080/",
          "height": 1000
        },
        "id": "qrjtMuGM39DE",
        "outputId": "0ff61beb-a550-4d30-c9b7-40625a91d1b9"
      },
      "execution_count": 18,
      "outputs": [
        {
          "output_type": "display_data",
          "data": {
            "text/plain": [
              "<Figure size 1080x1440 with 1 Axes>"
            ],
            "image/png": "[encoded data removed]"
          },
          "metadata": {
            "needs_background": "light"
          }
        }
      ]
    },
    {
      "cell_type": "code",
      "source": [
        "cmap = sns.color_palette('vlag', as_cmap=True)\n",
        "sns.heatmap(clean_df.select_dtypes('int64', 'float64').corr(), cmap=cmap)\n",
        "plt.show()"
      ],
      "metadata": {
        "colab": {
          "base_uri": "https://localhost:8080/",
          "height": 365
        },
        "id": "xDBQdfDA4JfF",
        "outputId": "96af1441-38ae-44bd-9597-77274b65fac1"
      },
      "execution_count": 19,
      "outputs": [
        {
          "output_type": "display_data",
          "data": {
            "text/plain": [
              "<Figure size 432x288 with 2 Axes>"
            ],
            "image/png": "[encoded data removed]"
          },
          "metadata": {
            "needs_background": "light"
          }
        }
      ]
    },
    {
      "cell_type": "code",
      "source": [
        "clean_df.drop(columns=['direction_opp'], inplace=True)\n"
      ],
      "metadata": {
        "id": "2lnpTTXM8jZj"
      },
      "execution_count": 20,
      "outputs": []
    },
    {
      "cell_type": "code",
      "source": [
        "clean_df['distance'] = None\n",
        "clean_df.loc[clean_df['toCoupon_GEQ15min'] == 0, 'distance'] = 0\n",
        "clean_df.loc[(clean_df['toCoupon_GEQ15min'] == 1) & \\\n",
        "             (clean_df['toCoupon_GEQ25min'] == 0), 'distance'] = 1\n",
        "clean_df.loc[clean_df['toCoupon_GEQ25min'] == 1, 'distance'] = 2\n",
        "clean_df.distance.isna().sum()"
      ],
      "metadata": {
        "colab": {
          "base_uri": "https://localhost:8080/"
        },
        "id": "xBbg-eNJ8tOr",
        "outputId": "8291b18f-2532-43aa-fcba-d3b95d2220b7"
      },
      "execution_count": 21,
      "outputs": [
        {
          "output_type": "execute_result",
          "data": {
            "text/plain": [
              "0"
            ]
          },
          "metadata": {},
          "execution_count": 21
        }
      ]
    },
    {
      "cell_type": "code",
      "source": [
        "clean_df.distance = clean_df.distance.astype('int64')\n",
        "clean_df.distance.value_counts()\n"
      ],
      "metadata": {
        "colab": {
          "base_uri": "https://localhost:8080/"
        },
        "id": "rZoOXPru9Vbo",
        "outputId": "793bd9a3-1272-4f6e-dae3-a71279b6c23a"
      },
      "execution_count": 22,
      "outputs": [
        {
          "output_type": "execute_result",
          "data": {
            "text/plain": [
              "1    5611\n",
              "0    5562\n",
              "2    1511\n",
              "Name: distance, dtype: int64"
            ]
          },
          "metadata": {},
          "execution_count": 22
        }
      ]
    },
    {
      "cell_type": "code",
      "source": [
        "clean_df.drop(columns=['toCoupon_GEQ15min', 'toCoupon_GEQ25min'], inplace=True)\n"
      ],
      "metadata": {
        "id": "JxjCZl0H9X6u"
      },
      "execution_count": 23,
      "outputs": []
    },
    {
      "cell_type": "code",
      "source": [
        "clean_df.info()\n"
      ],
      "metadata": {
        "colab": {
          "base_uri": "https://localhost:8080/"
        },
        "id": "jdeo6Gi99beA",
        "outputId": "4d5530a5-4484-4a6b-9916-c03cdc0de808"
      },
      "execution_count": 24,
      "outputs": [
        {
          "output_type": "stream",
          "name": "stdout",
          "text": [
            "<class 'pandas.core.frame.DataFrame'>\n",
            "RangeIndex: 12684 entries, 0 to 12683\n",
            "Data columns (total 22 columns):\n",
            " #   Column                Non-Null Count  Dtype  \n",
            "---  ------                --------------  -----  \n",
            " 0   destination           12684 non-null  object \n",
            " 1   passanger             12684 non-null  object \n",
            " 2   weather               12684 non-null  object \n",
            " 3   temperature           12684 non-null  int64  \n",
            " 4   time                  12684 non-null  object \n",
            " 5   coupon                12684 non-null  object \n",
            " 6   expiration            12684 non-null  object \n",
            " 7   gender                12684 non-null  object \n",
            " 8   age                   12684 non-null  int64  \n",
            " 9   maritalStatus         12684 non-null  object \n",
            " 10  has_children          12684 non-null  int64  \n",
            " 11  education             12684 non-null  object \n",
            " 12  occupation            12684 non-null  object \n",
            " 13  income                12684 non-null  int64  \n",
            " 14  Bar                   12577 non-null  float64\n",
            " 15  CoffeeHouse           12467 non-null  float64\n",
            " 16  CarryAway             12533 non-null  float64\n",
            " 17  RestaurantLessThan20  12554 non-null  float64\n",
            " 18  Restaurant20To50      12495 non-null  float64\n",
            " 19  direction_same        12684 non-null  int64  \n",
            " 20  Y                     12684 non-null  int64  \n",
            " 21  distance              12684 non-null  int64  \n",
            "dtypes: float64(5), int64(7), object(10)\n",
            "memory usage: 2.1+ MB\n"
          ]
        }
      ]
    },
    {
      "cell_type": "code",
      "source": [
        "clean_df.head(1)"
      ],
      "metadata": {
        "colab": {
          "base_uri": "https://localhost:8080/",
          "height": 191
        },
        "id": "QDv1u8VC9dLf",
        "outputId": "98188975-67e1-45ed-8a95-548bbb4259c2"
      },
      "execution_count": 25,
      "outputs": [
        {
          "output_type": "execute_result",
          "data": {
            "text/plain": [
              "       destination passanger weather  temperature time           coupon  \\\n",
              "0  No Urgent Place     Alone   Sunny           55  2PM  Restaurant(<20)   \n",
              "\n",
              "  expiration  gender  age      maritalStatus  ...  occupation income  Bar  \\\n",
              "0         1d  Female    1  Unmarried partner  ...  Unemployed      3  0.0   \n",
              "\n",
              "   CoffeeHouse  CarryAway  RestaurantLessThan20  Restaurant20To50  \\\n",
              "0          0.0        NaN                   3.0               2.0   \n",
              "\n",
              "   direction_same  Y  distance  \n",
              "0               0  1         0  \n",
              "\n",
              "[1 rows x 22 columns]"
            ],
            "text/html": [
              "\n",
              "  <div id=\"df-c489beff-cb2b-4b53-84db-b5004387ea0d\">\n",
              "    <div class=\"colab-df-container\">\n",
              "      <div>\n",
              "<style scoped>\n",
              "    .dataframe tbody tr th:only-of-type {\n",
              "        vertical-align: middle;\n",
              "    }\n",
              "\n",
              "    .dataframe tbody tr th {\n",
              "        vertical-align: top;\n",
              "    }\n",
              "\n",
              "    .dataframe thead th {\n",
              "        text-align: right;\n",
              "    }\n",
              "</style>\n",
              "<table border=\"1\" class=\"dataframe\">\n",
              "  <thead>\n",
              "    <tr style=\"text-align: right;\">\n",
              "      <th></th>\n",
              "      <th>destination</th>\n",
              "      <th>passanger</th>\n",
              "      <th>weather</th>\n",
              "      <th>temperature</th>\n",
              "      <th>time</th>\n",
              "      <th>coupon</th>\n",
              "      <th>expiration</th>\n",
              "      <th>gender</th>\n",
              "      <th>age</th>\n",
              "      <th>maritalStatus</th>\n",
              "      <th>...</th>\n",
              "      <th>occupation</th>\n",
              "      <th>income</th>\n",
              "      <th>Bar</th>\n",
              "      <th>CoffeeHouse</th>\n",
              "      <th>CarryAway</th>\n",
              "      <th>RestaurantLessThan20</th>\n",
              "      <th>Restaurant20To50</th>\n",
              "      <th>direction_same</th>\n",
              "      <th>Y</th>\n",
              "      <th>distance</th>\n",
              "    </tr>\n",
              "  </thead>\n",
              "  <tbody>\n",
              "    <tr>\n",
              "      <th>0</th>\n",
              "      <td>No Urgent Place</td>\n",
              "      <td>Alone</td>\n",
              "      <td>Sunny</td>\n",
              "      <td>55</td>\n",
              "      <td>2PM</td>\n",
              "      <td>Restaurant(&lt;20)</td>\n",
              "      <td>1d</td>\n",
              "      <td>Female</td>\n",
              "      <td>1</td>\n",
              "      <td>Unmarried partner</td>\n",
              "      <td>...</td>\n",
              "      <td>Unemployed</td>\n",
              "      <td>3</td>\n",
              "      <td>0.0</td>\n",
              "      <td>0.0</td>\n",
              "      <td>NaN</td>\n",
              "      <td>3.0</td>\n",
              "      <td>2.0</td>\n",
              "      <td>0</td>\n",
              "      <td>1</td>\n",
              "      <td>0</td>\n",
              "    </tr>\n",
              "  </tbody>\n",
              "</table>\n",
              "<p>1 rows × 22 columns</p>\n",
              "</div>\n",
              "      <button class=\"colab-df-convert\" onclick=\"convertToInteractive('df-c489beff-cb2b-4b53-84db-b5004387ea0d')\"\n",
              "              title=\"Convert this dataframe to an interactive table.\"\n",
              "              style=\"display:none;\">\n",
              "        \n",
              "  <svg xmlns=\"http://www.w3.org/2000/svg\" height=\"24px\"viewBox=\"0 0 24 24\"\n",
              "       width=\"24px\">\n",
              "    <path d=\"M0 0h24v24H0V0z\" fill=\"none\"/>\n",
              "    <path d=\"M18.56 5.44l.94 2.06.94-2.06 2.06-.94-2.06-.94-.94-2.06-.94 2.06-2.06.94zm-11 1L8.5 8.5l.94-2.06 2.06-.94-2.06-.94L8.5 2.5l-.94 2.06-2.06.94zm10 10l.94 2.06.94-2.06 2.06-.94-2.06-.94-.94-2.06-.94 2.06-2.06.94z\"/><path d=\"M17.41 7.96l-1.37-1.37c-.4-.4-.92-.59-1.43-.59-.52 0-1.04.2-1.43.59L10.3 9.45l-7.72 7.72c-.78.78-.78 2.05 0 2.83L4 21.41c.39.39.9.59 1.41.59.51 0 1.02-.2 1.41-.59l7.78-7.78 2.81-2.81c.8-.78.8-2.07 0-2.86zM5.41 20L4 18.59l7.72-7.72 1.47 1.35L5.41 20z\"/>\n",
              "  </svg>\n",
              "      </button>\n",
              "      \n",
              "  <style>\n",
              "    .colab-df-container {\n",
              "      display:flex;\n",
              "      flex-wrap:wrap;\n",
              "      gap: 12px;\n",
              "    }\n",
              "\n",
              "    .colab-df-convert {\n",
              "      background-color: #E8F0FE;\n",
              "      border: none;\n",
              "      border-radius: 50%;\n",
              "      cursor: pointer;\n",
              "      display: none;\n",
              "      fill: #1967D2;\n",
              "      height: 32px;\n",
              "      padding: 0 0 0 0;\n",
              "      width: 32px;\n",
              "    }\n",
              "\n",
              "    .colab-df-convert:hover {\n",
              "      background-color: #E2EBFA;\n",
              "      box-shadow: 0px 1px 2px rgba(60, 64, 67, 0.3), 0px 1px 3px 1px rgba(60, 64, 67, 0.15);\n",
              "      fill: #174EA6;\n",
              "    }\n",
              "\n",
              "    [theme=dark] .colab-df-convert {\n",
              "      background-color: #3B4455;\n",
              "      fill: #D2E3FC;\n",
              "    }\n",
              "\n",
              "    [theme=dark] .colab-df-convert:hover {\n",
              "      background-color: #434B5C;\n",
              "      box-shadow: 0px 1px 3px 1px rgba(0, 0, 0, 0.15);\n",
              "      filter: drop-shadow(0px 1px 2px rgba(0, 0, 0, 0.3));\n",
              "      fill: #FFFFFF;\n",
              "    }\n",
              "  </style>\n",
              "\n",
              "      <script>\n",
              "        const buttonEl =\n",
              "          document.querySelector('#df-c489beff-cb2b-4b53-84db-b5004387ea0d button.colab-df-convert');\n",
              "        buttonEl.style.display =\n",
              "          google.colab.kernel.accessAllowed ? 'block' : 'none';\n",
              "\n",
              "        async function convertToInteractive(key) {\n",
              "          const element = document.querySelector('#df-c489beff-cb2b-4b53-84db-b5004387ea0d');\n",
              "          const dataTable =\n",
              "            await google.colab.kernel.invokeFunction('convertToInteractive',\n",
              "                                                     [key], {});\n",
              "          if (!dataTable) return;\n",
              "\n",
              "          const docLinkHtml = 'Like what you see? Visit the ' +\n",
              "            '<a target=\"_blank\" href=https://colab.research.google.com/notebooks/data_table.ipynb>data table notebook</a>'\n",
              "            + ' to learn more about interactive tables.';\n",
              "          element.innerHTML = '';\n",
              "          dataTable['output_type'] = 'display_data';\n",
              "          await google.colab.output.renderOutput(dataTable, element);\n",
              "          const docLink = document.createElement('div');\n",
              "          docLink.innerHTML = docLinkHtml;\n",
              "          element.appendChild(docLink);\n",
              "        }\n",
              "      </script>\n",
              "    </div>\n",
              "  </div>\n",
              "  "
            ]
          },
          "metadata": {},
          "execution_count": 25
        }
      ]
    },
    {
      "cell_type": "code",
      "source": [
        "clean_df.has_children = clean_df.has_children.astype(str)\n",
        "clean_df.direction_same = clean_df.direction_same.astype(str)"
      ],
      "metadata": {
        "id": "CghlktY_9gMV"
      },
      "execution_count": 26,
      "outputs": []
    },
    {
      "cell_type": "code",
      "source": [
        "fig, axes = plt.subplots(1, 2, figsize=(10, 5))\n",
        "axes = axes.flatten()\n",
        "\n",
        "for ax, col in zip(axes, ['distance', 'temperature']):\n",
        "    sns.countplot(x=col, hue='Y', data=clean_df, \n",
        "                  ax=ax, palette=\"ch:.25\");\n",
        "\n",
        "plt.tight_layout()\n",
        "plt.show()"
      ],
      "metadata": {
        "colab": {
          "base_uri": "https://localhost:8080/",
          "height": 369
        },
        "id": "8cl51dgc9x2o",
        "outputId": "e68dbdfa-298b-412d-e34e-c8111e54fc6f"
      },
      "execution_count": 27,
      "outputs": [
        {
          "output_type": "display_data",
          "data": {
            "text/plain": [
              "<Figure size 720x360 with 2 Axes>"
            ],
            "image/png": "[encoded data removed]"
          },
          "metadata": {
            "needs_background": "light"
          }
        }
      ]
    },
    {
      "cell_type": "code",
      "source": [
        "clean_df.isna().sum()\n"
      ],
      "metadata": {
        "colab": {
          "base_uri": "https://localhost:8080/"
        },
        "id": "HbucMzl2-DeM",
        "outputId": "37e85b3f-bf99-4d55-89c1-263231bcc857"
      },
      "execution_count": 28,
      "outputs": [
        {
          "output_type": "execute_result",
          "data": {
            "text/plain": [
              "destination               0\n",
              "passanger                 0\n",
              "weather                   0\n",
              "temperature               0\n",
              "time                      0\n",
              "coupon                    0\n",
              "expiration                0\n",
              "gender                    0\n",
              "age                       0\n",
              "maritalStatus             0\n",
              "has_children              0\n",
              "education                 0\n",
              "occupation                0\n",
              "income                    0\n",
              "Bar                     107\n",
              "CoffeeHouse             217\n",
              "CarryAway               151\n",
              "RestaurantLessThan20    130\n",
              "Restaurant20To50        189\n",
              "direction_same            0\n",
              "Y                         0\n",
              "distance                  0\n",
              "dtype: int64"
            ]
          },
          "metadata": {},
          "execution_count": 28
        }
      ]
    },
    {
      "cell_type": "code",
      "source": [
        "clean_df.to_csv('clean_df.csv', index=False)\n"
      ],
      "metadata": {
        "id": "6_2Y9hXp-GN6"
      },
      "execution_count": 29,
      "outputs": []
    },
    {
      "cell_type": "code",
      "source": [
        "clean_df[\"passanger\"]"
      ],
      "metadata": {
        "colab": {
          "base_uri": "https://localhost:8080/"
        },
        "id": "-i66CZke-eci",
        "outputId": "f536a962-005a-4b1c-da35-c71f0e975eba"
      },
      "execution_count": 30,
      "outputs": [
        {
          "output_type": "execute_result",
          "data": {
            "text/plain": [
              "0            Alone\n",
              "1        Friend(s)\n",
              "2        Friend(s)\n",
              "3        Friend(s)\n",
              "4        Friend(s)\n",
              "           ...    \n",
              "12679      Partner\n",
              "12680        Alone\n",
              "12681        Alone\n",
              "12682        Alone\n",
              "12683        Alone\n",
              "Name: passanger, Length: 12684, dtype: object"
            ]
          },
          "metadata": {},
          "execution_count": 30
        }
      ]
    },
    {
      "cell_type": "code",
      "source": [
        "X = clean_df.drop(columns=['Y'])\n",
        "y = clean_df.Y\n",
        "X_train, X_test, y_train, y_test = train_test_split(X, y, random_state=1, test_size=0.2)"
      ],
      "metadata": {
        "id": "O7ZAOEq9-9eS"
      },
      "execution_count": 31,
      "outputs": []
    },
    {
      "cell_type": "markdown",
      "source": [
        "##Approach 1"
      ],
      "metadata": {
        "id": "dc_jGxgW_7t4"
      }
    },
    {
      "cell_type": "code",
      "source": [
        "X_train"
      ],
      "metadata": {
        "colab": {
          "base_uri": "https://localhost:8080/",
          "height": 783
        },
        "id": "1lPJYwCF_4P-",
        "outputId": "d16fec4f-a925-49a0-8b2a-7f24d49e8c26"
      },
      "execution_count": 32,
      "outputs": [
        {
          "output_type": "execute_result",
          "data": {
            "text/plain": [
              "           destination  passanger weather  temperature  time  \\\n",
              "5282   No Urgent Place  Friend(s)   Sunny           80  10AM   \n",
              "11372  No Urgent Place  Friend(s)   Snowy           30   2PM   \n",
              "11650             Work      Alone   Rainy           55   7AM   \n",
              "8733              Work      Alone   Rainy           55   7AM   \n",
              "7663   No Urgent Place      Alone   Sunny           80  10AM   \n",
              "...                ...        ...     ...          ...   ...   \n",
              "10955  No Urgent Place      Alone   Rainy           55  10AM   \n",
              "905    No Urgent Place  Friend(s)   Sunny           80   2PM   \n",
              "5192              Work      Alone   Sunny           55   7AM   \n",
              "12172             Work      Alone   Sunny           80   7AM   \n",
              "235               Work      Alone   Sunny           55   7AM   \n",
              "\n",
              "                  coupon expiration  gender  age      maritalStatus  ...  \\\n",
              "5282        Coffee House         2h    Male    6  Unmarried partner  ...   \n",
              "11372    Restaurant(<20)         1d  Female    1    Married partner  ...   \n",
              "11650    Restaurant(<20)         2h    Male    1             Single  ...   \n",
              "8733     Restaurant(<20)         2h  Female    3    Married partner  ...   \n",
              "7663        Coffee House         1d    Male    4             Single  ...   \n",
              "...                  ...        ...     ...  ...                ...  ...   \n",
              "10955                Bar         1d  Female    3    Married partner  ...   \n",
              "905         Coffee House         2h  Female    3  Unmarried partner  ...   \n",
              "5192        Coffee House         1d  Female    7             Single  ...   \n",
              "12172  Restaurant(20-50)         2h  Female    3             Single  ...   \n",
              "235      Restaurant(<20)         1d  Female    1  Unmarried partner  ...   \n",
              "\n",
              "                                    education  \\\n",
              "5282                 Some college - no degree   \n",
              "11372                       Associates degree   \n",
              "11650                Some college - no degree   \n",
              "8733                 Some college - no degree   \n",
              "7663                 Some college - no degree   \n",
              "...                                       ...   \n",
              "10955                        Bachelors degree   \n",
              "905                         Associates degree   \n",
              "5192   Graduate degree (Masters or Doctorate)   \n",
              "12172                       Associates degree   \n",
              "235                          Bachelors degree   \n",
              "\n",
              "                                     occupation income  Bar  CoffeeHouse  \\\n",
              "5282           Transportation & Material Moving      1  0.0          1.0   \n",
              "11372                                Unemployed      4  0.0          2.0   \n",
              "11650                                   Student      0  1.0          1.0   \n",
              "8733   Arts Design Entertainment Sports & Media      8  1.0          1.0   \n",
              "7663                  Construction & Extraction      4  0.0          0.0   \n",
              "...                                         ...    ...  ...          ...   \n",
              "10955                                   Student      3  0.0          1.0   \n",
              "905                  Education&Training&Library      4  0.0          0.0   \n",
              "5192                 Education&Training&Library      1  0.0          0.0   \n",
              "12172  Arts Design Entertainment Sports & Media      6  NaN          1.0   \n",
              "235                                  Management      7  2.0          2.0   \n",
              "\n",
              "       CarryAway  RestaurantLessThan20  Restaurant20To50  direction_same  \\\n",
              "5282         2.0                   1.0               1.0               0   \n",
              "11372        2.0                   2.0               2.0               0   \n",
              "11650        1.0                   2.0               2.0               1   \n",
              "8733         4.0                   3.0               1.0               0   \n",
              "7663         2.0                   1.0               1.0               0   \n",
              "...          ...                   ...               ...             ...   \n",
              "10955        4.0                   3.0               1.0               0   \n",
              "905          3.0                   NaN               0.0               0   \n",
              "5192         3.0                   3.0               1.0               0   \n",
              "12172        4.0                   2.0               1.0               1   \n",
              "235          2.0                   2.0               2.0               0   \n",
              "\n",
              "      distance  \n",
              "5282         1  \n",
              "11372        0  \n",
              "11650        0  \n",
              "8733         2  \n",
              "7663         1  \n",
              "...        ...  \n",
              "10955        1  \n",
              "905          1  \n",
              "5192         1  \n",
              "12172        0  \n",
              "235          0  \n",
              "\n",
              "[10147 rows x 21 columns]"
            ],
            "text/html": [
              "\n",
              "  <div id=\"df-5518e3a6-643d-417b-850c-dc479ddf253c\">\n",
              "    <div class=\"colab-df-container\">\n",
              "      <div>\n",
              "<style scoped>\n",
              "    .dataframe tbody tr th:only-of-type {\n",
              "        vertical-align: middle;\n",
              "    }\n",
              "\n",
              "    .dataframe tbody tr th {\n",
              "        vertical-align: top;\n",
              "    }\n",
              "\n",
              "    .dataframe thead th {\n",
              "        text-align: right;\n",
              "    }\n",
              "</style>\n",
              "<table border=\"1\" class=\"dataframe\">\n",
              "  <thead>\n",
              "    <tr style=\"text-align: right;\">\n",
              "      <th></th>\n",
              "      <th>destination</th>\n",
              "      <th>passanger</th>\n",
              "      <th>weather</th>\n",
              "      <th>temperature</th>\n",
              "      <th>time</th>\n",
              "      <th>coupon</th>\n",
              "      <th>expiration</th>\n",
              "      <th>gender</th>\n",
              "      <th>age</th>\n",
              "      <th>maritalStatus</th>\n",
              "      <th>...</th>\n",
              "      <th>education</th>\n",
              "      <th>occupation</th>\n",
              "      <th>income</th>\n",
              "      <th>Bar</th>\n",
              "      <th>CoffeeHouse</th>\n",
              "      <th>CarryAway</th>\n",
              "      <th>RestaurantLessThan20</th>\n",
              "      <th>Restaurant20To50</th>\n",
              "      <th>direction_same</th>\n",
              "      <th>distance</th>\n",
              "    </tr>\n",
              "  </thead>\n",
              "  <tbody>\n",
              "    <tr>\n",
              "      <th>5282</th>\n",
              "      <td>No Urgent Place</td>\n",
              "      <td>Friend(s)</td>\n",
              "      <td>Sunny</td>\n",
              "      <td>80</td>\n",
              "      <td>10AM</td>\n",
              "      <td>Coffee House</td>\n",
              "      <td>2h</td>\n",
              "      <td>Male</td>\n",
              "      <td>6</td>\n",
              "      <td>Unmarried partner</td>\n",
              "      <td>...</td>\n",
              "      <td>Some college - no degree</td>\n",
              "      <td>Transportation &amp; Material Moving</td>\n",
              "      <td>1</td>\n",
              "      <td>0.0</td>\n",
              "      <td>1.0</td>\n",
              "      <td>2.0</td>\n",
              "      <td>1.0</td>\n",
              "      <td>1.0</td>\n",
              "      <td>0</td>\n",
              "      <td>1</td>\n",
              "    </tr>\n",
              "    <tr>\n",
              "      <th>11372</th>\n",
              "      <td>No Urgent Place</td>\n",
              "      <td>Friend(s)</td>\n",
              "      <td>Snowy</td>\n",
              "      <td>30</td>\n",
              "      <td>2PM</td>\n",
              "      <td>Restaurant(&lt;20)</td>\n",
              "      <td>1d</td>\n",
              "      <td>Female</td>\n",
              "      <td>1</td>\n",
              "      <td>Married partner</td>\n",
              "      <td>...</td>\n",
              "      <td>Associates degree</td>\n",
              "      <td>Unemployed</td>\n",
              "      <td>4</td>\n",
              "      <td>0.0</td>\n",
              "      <td>2.0</td>\n",
              "      <td>2.0</td>\n",
              "      <td>2.0</td>\n",
              "      <td>2.0</td>\n",
              "      <td>0</td>\n",
              "      <td>0</td>\n",
              "    </tr>\n",
              "    <tr>\n",
              "      <th>11650</th>\n",
              "      <td>Work</td>\n",
              "      <td>Alone</td>\n",
              "      <td>Rainy</td>\n",
              "      <td>55</td>\n",
              "      <td>7AM</td>\n",
              "      <td>Restaurant(&lt;20)</td>\n",
              "      <td>2h</td>\n",
              "      <td>Male</td>\n",
              "      <td>1</td>\n",
              "      <td>Single</td>\n",
              "      <td>...</td>\n",
              "      <td>Some college - no degree</td>\n",
              "      <td>Student</td>\n",
              "      <td>0</td>\n",
              "      <td>1.0</td>\n",
              "      <td>1.0</td>\n",
              "      <td>1.0</td>\n",
              "      <td>2.0</td>\n",
              "      <td>2.0</td>\n",
              "      <td>1</td>\n",
              "      <td>0</td>\n",
              "    </tr>\n",
              "    <tr>\n",
              "      <th>8733</th>\n",
              "      <td>Work</td>\n",
              "      <td>Alone</td>\n",
              "      <td>Rainy</td>\n",
              "      <td>55</td>\n",
              "      <td>7AM</td>\n",
              "      <td>Restaurant(&lt;20)</td>\n",
              "      <td>2h</td>\n",
              "      <td>Female</td>\n",
              "      <td>3</td>\n",
              "      <td>Married partner</td>\n",
              "      <td>...</td>\n",
              "      <td>Some college - no degree</td>\n",
              "      <td>Arts Design Entertainment Sports &amp; Media</td>\n",
              "      <td>8</td>\n",
              "      <td>1.0</td>\n",
              "      <td>1.0</td>\n",
              "      <td>4.0</td>\n",
              "      <td>3.0</td>\n",
              "      <td>1.0</td>\n",
              "      <td>0</td>\n",
              "      <td>2</td>\n",
              "    </tr>\n",
              "    <tr>\n",
              "      <th>7663</th>\n",
              "      <td>No Urgent Place</td>\n",
              "      <td>Alone</td>\n",
              "      <td>Sunny</td>\n",
              "      <td>80</td>\n",
              "      <td>10AM</td>\n",
              "      <td>Coffee House</td>\n",
              "      <td>1d</td>\n",
              "      <td>Male</td>\n",
              "      <td>4</td>\n",
              "      <td>Single</td>\n",
              "      <td>...</td>\n",
              "      <td>Some college - no degree</td>\n",
              "      <td>Construction &amp; Extraction</td>\n",
              "      <td>4</td>\n",
              "      <td>0.0</td>\n",
              "      <td>0.0</td>\n",
              "      <td>2.0</td>\n",
              "      <td>1.0</td>\n",
              "      <td>1.0</td>\n",
              "      <td>0</td>\n",
              "      <td>1</td>\n",
              "    </tr>\n",
              "    <tr>\n",
              "      <th>...</th>\n",
              "      <td>...</td>\n",
              "      <td>...</td>\n",
              "      <td>...</td>\n",
              "      <td>...</td>\n",
              "      <td>...</td>\n",
              "      <td>...</td>\n",
              "      <td>...</td>\n",
              "      <td>...</td>\n",
              "      <td>...</td>\n",
              "      <td>...</td>\n",
              "      <td>...</td>\n",
              "      <td>...</td>\n",
              "      <td>...</td>\n",
              "      <td>...</td>\n",
              "      <td>...</td>\n",
              "      <td>...</td>\n",
              "      <td>...</td>\n",
              "      <td>...</td>\n",
              "      <td>...</td>\n",
              "      <td>...</td>\n",
              "      <td>...</td>\n",
              "    </tr>\n",
              "    <tr>\n",
              "      <th>10955</th>\n",
              "      <td>No Urgent Place</td>\n",
              "      <td>Alone</td>\n",
              "      <td>Rainy</td>\n",
              "      <td>55</td>\n",
              "      <td>10AM</td>\n",
              "      <td>Bar</td>\n",
              "      <td>1d</td>\n",
              "      <td>Female</td>\n",
              "      <td>3</td>\n",
              "      <td>Married partner</td>\n",
              "      <td>...</td>\n",
              "      <td>Bachelors degree</td>\n",
              "      <td>Student</td>\n",
              "      <td>3</td>\n",
              "      <td>0.0</td>\n",
              "      <td>1.0</td>\n",
              "      <td>4.0</td>\n",
              "      <td>3.0</td>\n",
              "      <td>1.0</td>\n",
              "      <td>0</td>\n",
              "      <td>1</td>\n",
              "    </tr>\n",
              "    <tr>\n",
              "      <th>905</th>\n",
              "      <td>No Urgent Place</td>\n",
              "      <td>Friend(s)</td>\n",
              "      <td>Sunny</td>\n",
              "      <td>80</td>\n",
              "      <td>2PM</td>\n",
              "      <td>Coffee House</td>\n",
              "      <td>2h</td>\n",
              "      <td>Female</td>\n",
              "      <td>3</td>\n",
              "      <td>Unmarried partner</td>\n",
              "      <td>...</td>\n",
              "      <td>Associates degree</td>\n",
              "      <td>Education&amp;Training&amp;Library</td>\n",
              "      <td>4</td>\n",
              "      <td>0.0</td>\n",
              "      <td>0.0</td>\n",
              "      <td>3.0</td>\n",
              "      <td>NaN</td>\n",
              "      <td>0.0</td>\n",
              "      <td>0</td>\n",
              "      <td>1</td>\n",
              "    </tr>\n",
              "    <tr>\n",
              "      <th>5192</th>\n",
              "      <td>Work</td>\n",
              "      <td>Alone</td>\n",
              "      <td>Sunny</td>\n",
              "      <td>55</td>\n",
              "      <td>7AM</td>\n",
              "      <td>Coffee House</td>\n",
              "      <td>1d</td>\n",
              "      <td>Female</td>\n",
              "      <td>7</td>\n",
              "      <td>Single</td>\n",
              "      <td>...</td>\n",
              "      <td>Graduate degree (Masters or Doctorate)</td>\n",
              "      <td>Education&amp;Training&amp;Library</td>\n",
              "      <td>1</td>\n",
              "      <td>0.0</td>\n",
              "      <td>0.0</td>\n",
              "      <td>3.0</td>\n",
              "      <td>3.0</td>\n",
              "      <td>1.0</td>\n",
              "      <td>0</td>\n",
              "      <td>1</td>\n",
              "    </tr>\n",
              "    <tr>\n",
              "      <th>12172</th>\n",
              "      <td>Work</td>\n",
              "      <td>Alone</td>\n",
              "      <td>Sunny</td>\n",
              "      <td>80</td>\n",
              "      <td>7AM</td>\n",
              "      <td>Restaurant(20-50)</td>\n",
              "      <td>2h</td>\n",
              "      <td>Female</td>\n",
              "      <td>3</td>\n",
              "      <td>Single</td>\n",
              "      <td>...</td>\n",
              "      <td>Associates degree</td>\n",
              "      <td>Arts Design Entertainment Sports &amp; Media</td>\n",
              "      <td>6</td>\n",
              "      <td>NaN</td>\n",
              "      <td>1.0</td>\n",
              "      <td>4.0</td>\n",
              "      <td>2.0</td>\n",
              "      <td>1.0</td>\n",
              "      <td>1</td>\n",
              "      <td>0</td>\n",
              "    </tr>\n",
              "    <tr>\n",
              "      <th>235</th>\n",
              "      <td>Work</td>\n",
              "      <td>Alone</td>\n",
              "      <td>Sunny</td>\n",
              "      <td>55</td>\n",
              "      <td>7AM</td>\n",
              "      <td>Restaurant(&lt;20)</td>\n",
              "      <td>1d</td>\n",
              "      <td>Female</td>\n",
              "      <td>1</td>\n",
              "      <td>Unmarried partner</td>\n",
              "      <td>...</td>\n",
              "      <td>Bachelors degree</td>\n",
              "      <td>Management</td>\n",
              "      <td>7</td>\n",
              "      <td>2.0</td>\n",
              "      <td>2.0</td>\n",
              "      <td>2.0</td>\n",
              "      <td>2.0</td>\n",
              "      <td>2.0</td>\n",
              "      <td>0</td>\n",
              "      <td>0</td>\n",
              "    </tr>\n",
              "  </tbody>\n",
              "</table>\n",
              "<p>10147 rows × 21 columns</p>\n",
              "</div>\n",
              "      <button class=\"colab-df-convert\" onclick=\"convertToInteractive('df-5518e3a6-643d-417b-850c-dc479ddf253c')\"\n",
              "              title=\"Convert this dataframe to an interactive table.\"\n",
              "              style=\"display:none;\">\n",
              "        \n",
              "  <svg xmlns=\"http://www.w3.org/2000/svg\" height=\"24px\"viewBox=\"0 0 24 24\"\n",
              "       width=\"24px\">\n",
              "    <path d=\"M0 0h24v24H0V0z\" fill=\"none\"/>\n",
              "    <path d=\"M18.56 5.44l.94 2.06.94-2.06 2.06-.94-2.06-.94-.94-2.06-.94 2.06-2.06.94zm-11 1L8.5 8.5l.94-2.06 2.06-.94-2.06-.94L8.5 2.5l-.94 2.06-2.06.94zm10 10l.94 2.06.94-2.06 2.06-.94-2.06-.94-.94-2.06-.94 2.06-2.06.94z\"/><path d=\"M17.41 7.96l-1.37-1.37c-.4-.4-.92-.59-1.43-.59-.52 0-1.04.2-1.43.59L10.3 9.45l-7.72 7.72c-.78.78-.78 2.05 0 2.83L4 21.41c.39.39.9.59 1.41.59.51 0 1.02-.2 1.41-.59l7.78-7.78 2.81-2.81c.8-.78.8-2.07 0-2.86zM5.41 20L4 18.59l7.72-7.72 1.47 1.35L5.41 20z\"/>\n",
              "  </svg>\n",
              "      </button>\n",
              "      \n",
              "  <style>\n",
              "    .colab-df-container {\n",
              "      display:flex;\n",
              "      flex-wrap:wrap;\n",
              "      gap: 12px;\n",
              "    }\n",
              "\n",
              "    .colab-df-convert {\n",
              "      background-color: #E8F0FE;\n",
              "      border: none;\n",
              "      border-radius: 50%;\n",
              "      cursor: pointer;\n",
              "      display: none;\n",
              "      fill: #1967D2;\n",
              "      height: 32px;\n",
              "      padding: 0 0 0 0;\n",
              "      width: 32px;\n",
              "    }\n",
              "\n",
              "    .colab-df-convert:hover {\n",
              "      background-color: #E2EBFA;\n",
              "      box-shadow: 0px 1px 2px rgba(60, 64, 67, 0.3), 0px 1px 3px 1px rgba(60, 64, 67, 0.15);\n",
              "      fill: #174EA6;\n",
              "    }\n",
              "\n",
              "    [theme=dark] .colab-df-convert {\n",
              "      background-color: #3B4455;\n",
              "      fill: #D2E3FC;\n",
              "    }\n",
              "\n",
              "    [theme=dark] .colab-df-convert:hover {\n",
              "      background-color: #434B5C;\n",
              "      box-shadow: 0px 1px 3px 1px rgba(0, 0, 0, 0.15);\n",
              "      filter: drop-shadow(0px 1px 2px rgba(0, 0, 0, 0.3));\n",
              "      fill: #FFFFFF;\n",
              "    }\n",
              "  </style>\n",
              "\n",
              "      <script>\n",
              "        const buttonEl =\n",
              "          document.querySelector('#df-5518e3a6-643d-417b-850c-dc479ddf253c button.colab-df-convert');\n",
              "        buttonEl.style.display =\n",
              "          google.colab.kernel.accessAllowed ? 'block' : 'none';\n",
              "\n",
              "        async function convertToInteractive(key) {\n",
              "          const element = document.querySelector('#df-5518e3a6-643d-417b-850c-dc479ddf253c');\n",
              "          const dataTable =\n",
              "            await google.colab.kernel.invokeFunction('convertToInteractive',\n",
              "                                                     [key], {});\n",
              "          if (!dataTable) return;\n",
              "\n",
              "          const docLinkHtml = 'Like what you see? Visit the ' +\n",
              "            '<a target=\"_blank\" href=https://colab.research.google.com/notebooks/data_table.ipynb>data table notebook</a>'\n",
              "            + ' to learn more about interactive tables.';\n",
              "          element.innerHTML = '';\n",
              "          dataTable['output_type'] = 'display_data';\n",
              "          await google.colab.output.renderOutput(dataTable, element);\n",
              "          const docLink = document.createElement('div');\n",
              "          docLink.innerHTML = docLinkHtml;\n",
              "          element.appendChild(docLink);\n",
              "        }\n",
              "      </script>\n",
              "    </div>\n",
              "  </div>\n",
              "  "
            ]
          },
          "metadata": {},
          "execution_count": 32
        }
      ]
    },
    {
      "cell_type": "code",
      "source": [
        "X_train_a = X_train.copy()\n",
        "X_test_a = X_test.copy()\n"
      ],
      "metadata": {
        "id": "IO9hyOD8C3_N"
      },
      "execution_count": 33,
      "outputs": []
    },
    {
      "cell_type": "code",
      "source": [
        "strong_predictors = ['destination', 'passanger', 'weather', 'time', 'coupon',\n",
        "            'expiration', 'maritalStatus', 'education',\n",
        "            'occupation', 'direction_same']\n",
        "for col in strong_predictors:\n",
        "    # create frequency encoder\n",
        "    freq_encoder = X_train_a.groupby(col).size() / len(X_train_a)\n",
        "    # fit_transform for X_train\n",
        "    X_train_a[col + '_freq'] = X_train_a[col].apply(lambda x: freq_encoder[x])\n",
        "    # transform for X_test\n",
        "    X_test_a[col + '_freq'] = X_test_a[col].apply(lambda x: freq_encoder[x])"
      ],
      "metadata": {
        "id": "P7syanCyCkG4"
      },
      "execution_count": 34,
      "outputs": []
    },
    {
      "cell_type": "code",
      "source": [
        "X_test_a"
      ],
      "metadata": {
        "colab": {
          "base_uri": "https://localhost:8080/",
          "height": 609
        },
        "id": "UsY8z9S3Cw5w",
        "outputId": "b7d84d03-e992-47f1-9922-5ce587c8af61"
      },
      "execution_count": 35,
      "outputs": [
        {
          "output_type": "execute_result",
          "data": {
            "text/plain": [
              "           destination  passanger weather  temperature  time  \\\n",
              "12493             Home      Alone   Snowy           30  10PM   \n",
              "7508   No Urgent Place  Friend(s)   Sunny           80   2PM   \n",
              "10212  No Urgent Place    Partner   Sunny           55   2PM   \n",
              "7714   No Urgent Place  Friend(s)   Sunny           30  10PM   \n",
              "2403              Work      Alone   Sunny           55   7AM   \n",
              "...                ...        ...     ...          ...   ...   \n",
              "8699   No Urgent Place  Friend(s)   Snowy           30  10AM   \n",
              "6313              Home      Alone   Sunny           80   6PM   \n",
              "7305   No Urgent Place      Alone   Sunny           80  10AM   \n",
              "4182              Home      Alone   Sunny           55  10PM   \n",
              "11275             Work      Alone   Snowy           30   7AM   \n",
              "\n",
              "                      coupon expiration  gender  age      maritalStatus  ...  \\\n",
              "12493           Coffee House         2h  Female    2  Unmarried partner  ...   \n",
              "7508       Restaurant(20-50)         2h  Female    5  Unmarried partner  ...   \n",
              "10212                    Bar         1d  Female    3    Married partner  ...   \n",
              "7714         Restaurant(<20)         2h  Female    3             Single  ...   \n",
              "2403                     Bar         1d  Female    7    Married partner  ...   \n",
              "...                      ...        ...     ...  ...                ...  ...   \n",
              "8699   Carry out & Take away         1d    Male    3    Married partner  ...   \n",
              "6313            Coffee House         2h  Female    3    Married partner  ...   \n",
              "7305            Coffee House         1d  Female    2             Single  ...   \n",
              "4182   Carry out & Take away         1d    Male    2             Single  ...   \n",
              "11275        Restaurant(<20)         1d    Male    3             Single  ...   \n",
              "\n",
              "      destination_freq passanger_freq weather_freq  time_freq  coupon_freq  \\\n",
              "12493         0.258007       0.577215     0.112546   0.158372     0.315955   \n",
              "7508          0.493446       0.258500     0.792550   0.156795     0.115896   \n",
              "10212         0.493446       0.083966     0.792550   0.156795     0.158273   \n",
              "7714          0.493446       0.258500     0.792550   0.158372     0.219671   \n",
              "2403          0.248546       0.577215     0.792550   0.248546     0.158273   \n",
              "...                ...            ...          ...        ...          ...   \n",
              "8699          0.493446       0.258500     0.112546   0.180152     0.190204   \n",
              "6313          0.258007       0.577215     0.792550   0.256135     0.315955   \n",
              "7305          0.493446       0.577215     0.792550   0.180152     0.315955   \n",
              "4182          0.258007       0.577215     0.792550   0.158372     0.190204   \n",
              "11275         0.248546       0.577215     0.112546   0.248546     0.219671   \n",
              "\n",
              "       expiration_freq  maritalStatus_freq  education_freq  occupation_freq  \\\n",
              "12493         0.444466            0.171873        0.342761         0.049966   \n",
              "7508          0.444466            0.171873        0.342761         0.148812   \n",
              "10212         0.555534            0.402681        0.342761         0.110377   \n",
              "7714          0.444466            0.374889        0.340495         0.148812   \n",
              "2403          0.555534            0.402681        0.342761         0.016458   \n",
              "...                ...                 ...             ...              ...   \n",
              "8699          0.555534            0.402681        0.145856         0.042870   \n",
              "6313          0.444466            0.402681        0.145856         0.110377   \n",
              "7305          0.555534            0.374889        0.340495         0.049966   \n",
              "4182          0.555534            0.374889        0.090766         0.148812   \n",
              "11275         0.555534            0.374889        0.342761         0.016458   \n",
              "\n",
              "      direction_same_freq  \n",
              "12493             0.78368  \n",
              "7508              0.78368  \n",
              "10212             0.78368  \n",
              "7714              0.78368  \n",
              "2403              0.78368  \n",
              "...                   ...  \n",
              "8699              0.78368  \n",
              "6313              0.78368  \n",
              "7305              0.78368  \n",
              "4182              0.78368  \n",
              "11275             0.78368  \n",
              "\n",
              "[2537 rows x 31 columns]"
            ],
            "text/html": [
              "\n",
              "  <div id=\"df-f453a9cc-1573-437b-b010-ea9945e81279\">\n",
              "    <div class=\"colab-df-container\">\n",
              "      <div>\n",
              "<style scoped>\n",
              "    .dataframe tbody tr th:only-of-type {\n",
              "        vertical-align: middle;\n",
              "    }\n",
              "\n",
              "    .dataframe tbody tr th {\n",
              "        vertical-align: top;\n",
              "    }\n",
              "\n",
              "    .dataframe thead th {\n",
              "        text-align: right;\n",
              "    }\n",
              "</style>\n",
              "<table border=\"1\" class=\"dataframe\">\n",
              "  <thead>\n",
              "    <tr style=\"text-align: right;\">\n",
              "      <th></th>\n",
              "      <th>destination</th>\n",
              "      <th>passanger</th>\n",
              "      <th>weather</th>\n",
              "      <th>temperature</th>\n",
              "      <th>time</th>\n",
              "      <th>coupon</th>\n",
              "      <th>expiration</th>\n",
              "      <th>gender</th>\n",
              "      <th>age</th>\n",
              "      <th>maritalStatus</th>\n",
              "      <th>...</th>\n",
              "      <th>destination_freq</th>\n",
              "      <th>passanger_freq</th>\n",
              "      <th>weather_freq</th>\n",
              "      <th>time_freq</th>\n",
              "      <th>coupon_freq</th>\n",
              "      <th>expiration_freq</th>\n",
              "      <th>maritalStatus_freq</th>\n",
              "      <th>education_freq</th>\n",
              "      <th>occupation_freq</th>\n",
              "      <th>direction_same_freq</th>\n",
              "    </tr>\n",
              "  </thead>\n",
              "  <tbody>\n",
              "    <tr>\n",
              "      <th>12493</th>\n",
              "      <td>Home</td>\n",
              "      <td>Alone</td>\n",
              "      <td>Snowy</td>\n",
              "      <td>30</td>\n",
              "      <td>10PM</td>\n",
              "      <td>Coffee House</td>\n",
              "      <td>2h</td>\n",
              "      <td>Female</td>\n",
              "      <td>2</td>\n",
              "      <td>Unmarried partner</td>\n",
              "      <td>...</td>\n",
              "      <td>0.258007</td>\n",
              "      <td>0.577215</td>\n",
              "      <td>0.112546</td>\n",
              "      <td>0.158372</td>\n",
              "      <td>0.315955</td>\n",
              "      <td>0.444466</td>\n",
              "      <td>0.171873</td>\n",
              "      <td>0.342761</td>\n",
              "      <td>0.049966</td>\n",
              "      <td>0.78368</td>\n",
              "    </tr>\n",
              "    <tr>\n",
              "      <th>7508</th>\n",
              "      <td>No Urgent Place</td>\n",
              "      <td>Friend(s)</td>\n",
              "      <td>Sunny</td>\n",
              "      <td>80</td>\n",
              "      <td>2PM</td>\n",
              "      <td>Restaurant(20-50)</td>\n",
              "      <td>2h</td>\n",
              "      <td>Female</td>\n",
              "      <td>5</td>\n",
              "      <td>Unmarried partner</td>\n",
              "      <td>...</td>\n",
              "      <td>0.493446</td>\n",
              "      <td>0.258500</td>\n",
              "      <td>0.792550</td>\n",
              "      <td>0.156795</td>\n",
              "      <td>0.115896</td>\n",
              "      <td>0.444466</td>\n",
              "      <td>0.171873</td>\n",
              "      <td>0.342761</td>\n",
              "      <td>0.148812</td>\n",
              "      <td>0.78368</td>\n",
              "    </tr>\n",
              "    <tr>\n",
              "      <th>10212</th>\n",
              "      <td>No Urgent Place</td>\n",
              "      <td>Partner</td>\n",
              "      <td>Sunny</td>\n",
              "      <td>55</td>\n",
              "      <td>2PM</td>\n",
              "      <td>Bar</td>\n",
              "      <td>1d</td>\n",
              "      <td>Female</td>\n",
              "      <td>3</td>\n",
              "      <td>Married partner</td>\n",
              "      <td>...</td>\n",
              "      <td>0.493446</td>\n",
              "      <td>0.083966</td>\n",
              "      <td>0.792550</td>\n",
              "      <td>0.156795</td>\n",
              "      <td>0.158273</td>\n",
              "      <td>0.555534</td>\n",
              "      <td>0.402681</td>\n",
              "      <td>0.342761</td>\n",
              "      <td>0.110377</td>\n",
              "      <td>0.78368</td>\n",
              "    </tr>\n",
              "    <tr>\n",
              "      <th>7714</th>\n",
              "      <td>No Urgent Place</td>\n",
              "      <td>Friend(s)</td>\n",
              "      <td>Sunny</td>\n",
              "      <td>30</td>\n",
              "      <td>10PM</td>\n",
              "      <td>Restaurant(&lt;20)</td>\n",
              "      <td>2h</td>\n",
              "      <td>Female</td>\n",
              "      <td>3</td>\n",
              "      <td>Single</td>\n",
              "      <td>...</td>\n",
              "      <td>0.493446</td>\n",
              "      <td>0.258500</td>\n",
              "      <td>0.792550</td>\n",
              "      <td>0.158372</td>\n",
              "      <td>0.219671</td>\n",
              "      <td>0.444466</td>\n",
              "      <td>0.374889</td>\n",
              "      <td>0.340495</td>\n",
              "      <td>0.148812</td>\n",
              "      <td>0.78368</td>\n",
              "    </tr>\n",
              "    <tr>\n",
              "      <th>2403</th>\n",
              "      <td>Work</td>\n",
              "      <td>Alone</td>\n",
              "      <td>Sunny</td>\n",
              "      <td>55</td>\n",
              "      <td>7AM</td>\n",
              "      <td>Bar</td>\n",
              "      <td>1d</td>\n",
              "      <td>Female</td>\n",
              "      <td>7</td>\n",
              "      <td>Married partner</td>\n",
              "      <td>...</td>\n",
              "      <td>0.248546</td>\n",
              "      <td>0.577215</td>\n",
              "      <td>0.792550</td>\n",
              "      <td>0.248546</td>\n",
              "      <td>0.158273</td>\n",
              "      <td>0.555534</td>\n",
              "      <td>0.402681</td>\n",
              "      <td>0.342761</td>\n",
              "      <td>0.016458</td>\n",
              "      <td>0.78368</td>\n",
              "    </tr>\n",
              "    <tr>\n",
              "      <th>...</th>\n",
              "      <td>...</td>\n",
              "      <td>...</td>\n",
              "      <td>...</td>\n",
              "      <td>...</td>\n",
              "      <td>...</td>\n",
              "      <td>...</td>\n",
              "      <td>...</td>\n",
              "      <td>...</td>\n",
              "      <td>...</td>\n",
              "      <td>...</td>\n",
              "      <td>...</td>\n",
              "      <td>...</td>\n",
              "      <td>...</td>\n",
              "      <td>...</td>\n",
              "      <td>...</td>\n",
              "      <td>...</td>\n",
              "      <td>...</td>\n",
              "      <td>...</td>\n",
              "      <td>...</td>\n",
              "      <td>...</td>\n",
              "      <td>...</td>\n",
              "    </tr>\n",
              "    <tr>\n",
              "      <th>8699</th>\n",
              "      <td>No Urgent Place</td>\n",
              "      <td>Friend(s)</td>\n",
              "      <td>Snowy</td>\n",
              "      <td>30</td>\n",
              "      <td>10AM</td>\n",
              "      <td>Carry out &amp; Take away</td>\n",
              "      <td>1d</td>\n",
              "      <td>Male</td>\n",
              "      <td>3</td>\n",
              "      <td>Married partner</td>\n",
              "      <td>...</td>\n",
              "      <td>0.493446</td>\n",
              "      <td>0.258500</td>\n",
              "      <td>0.112546</td>\n",
              "      <td>0.180152</td>\n",
              "      <td>0.190204</td>\n",
              "      <td>0.555534</td>\n",
              "      <td>0.402681</td>\n",
              "      <td>0.145856</td>\n",
              "      <td>0.042870</td>\n",
              "      <td>0.78368</td>\n",
              "    </tr>\n",
              "    <tr>\n",
              "      <th>6313</th>\n",
              "      <td>Home</td>\n",
              "      <td>Alone</td>\n",
              "      <td>Sunny</td>\n",
              "      <td>80</td>\n",
              "      <td>6PM</td>\n",
              "      <td>Coffee House</td>\n",
              "      <td>2h</td>\n",
              "      <td>Female</td>\n",
              "      <td>3</td>\n",
              "      <td>Married partner</td>\n",
              "      <td>...</td>\n",
              "      <td>0.258007</td>\n",
              "      <td>0.577215</td>\n",
              "      <td>0.792550</td>\n",
              "      <td>0.256135</td>\n",
              "      <td>0.315955</td>\n",
              "      <td>0.444466</td>\n",
              "      <td>0.402681</td>\n",
              "      <td>0.145856</td>\n",
              "      <td>0.110377</td>\n",
              "      <td>0.78368</td>\n",
              "    </tr>\n",
              "    <tr>\n",
              "      <th>7305</th>\n",
              "      <td>No Urgent Place</td>\n",
              "      <td>Alone</td>\n",
              "      <td>Sunny</td>\n",
              "      <td>80</td>\n",
              "      <td>10AM</td>\n",
              "      <td>Coffee House</td>\n",
              "      <td>1d</td>\n",
              "      <td>Female</td>\n",
              "      <td>2</td>\n",
              "      <td>Single</td>\n",
              "      <td>...</td>\n",
              "      <td>0.493446</td>\n",
              "      <td>0.577215</td>\n",
              "      <td>0.792550</td>\n",
              "      <td>0.180152</td>\n",
              "      <td>0.315955</td>\n",
              "      <td>0.555534</td>\n",
              "      <td>0.374889</td>\n",
              "      <td>0.340495</td>\n",
              "      <td>0.049966</td>\n",
              "      <td>0.78368</td>\n",
              "    </tr>\n",
              "    <tr>\n",
              "      <th>4182</th>\n",
              "      <td>Home</td>\n",
              "      <td>Alone</td>\n",
              "      <td>Sunny</td>\n",
              "      <td>55</td>\n",
              "      <td>10PM</td>\n",
              "      <td>Carry out &amp; Take away</td>\n",
              "      <td>1d</td>\n",
              "      <td>Male</td>\n",
              "      <td>2</td>\n",
              "      <td>Single</td>\n",
              "      <td>...</td>\n",
              "      <td>0.258007</td>\n",
              "      <td>0.577215</td>\n",
              "      <td>0.792550</td>\n",
              "      <td>0.158372</td>\n",
              "      <td>0.190204</td>\n",
              "      <td>0.555534</td>\n",
              "      <td>0.374889</td>\n",
              "      <td>0.090766</td>\n",
              "      <td>0.148812</td>\n",
              "      <td>0.78368</td>\n",
              "    </tr>\n",
              "    <tr>\n",
              "      <th>11275</th>\n",
              "      <td>Work</td>\n",
              "      <td>Alone</td>\n",
              "      <td>Snowy</td>\n",
              "      <td>30</td>\n",
              "      <td>7AM</td>\n",
              "      <td>Restaurant(&lt;20)</td>\n",
              "      <td>1d</td>\n",
              "      <td>Male</td>\n",
              "      <td>3</td>\n",
              "      <td>Single</td>\n",
              "      <td>...</td>\n",
              "      <td>0.248546</td>\n",
              "      <td>0.577215</td>\n",
              "      <td>0.112546</td>\n",
              "      <td>0.248546</td>\n",
              "      <td>0.219671</td>\n",
              "      <td>0.555534</td>\n",
              "      <td>0.374889</td>\n",
              "      <td>0.342761</td>\n",
              "      <td>0.016458</td>\n",
              "      <td>0.78368</td>\n",
              "    </tr>\n",
              "  </tbody>\n",
              "</table>\n",
              "<p>2537 rows × 31 columns</p>\n",
              "</div>\n",
              "      <button class=\"colab-df-convert\" onclick=\"convertToInteractive('df-f453a9cc-1573-437b-b010-ea9945e81279')\"\n",
              "              title=\"Convert this dataframe to an interactive table.\"\n",
              "              style=\"display:none;\">\n",
              "        \n",
              "  <svg xmlns=\"http://www.w3.org/2000/svg\" height=\"24px\"viewBox=\"0 0 24 24\"\n",
              "       width=\"24px\">\n",
              "    <path d=\"M0 0h24v24H0V0z\" fill=\"none\"/>\n",
              "    <path d=\"M18.56 5.44l.94 2.06.94-2.06 2.06-.94-2.06-.94-.94-2.06-.94 2.06-2.06.94zm-11 1L8.5 8.5l.94-2.06 2.06-.94-2.06-.94L8.5 2.5l-.94 2.06-2.06.94zm10 10l.94 2.06.94-2.06 2.06-.94-2.06-.94-.94-2.06-.94 2.06-2.06.94z\"/><path d=\"M17.41 7.96l-1.37-1.37c-.4-.4-.92-.59-1.43-.59-.52 0-1.04.2-1.43.59L10.3 9.45l-7.72 7.72c-.78.78-.78 2.05 0 2.83L4 21.41c.39.39.9.59 1.41.59.51 0 1.02-.2 1.41-.59l7.78-7.78 2.81-2.81c.8-.78.8-2.07 0-2.86zM5.41 20L4 18.59l7.72-7.72 1.47 1.35L5.41 20z\"/>\n",
              "  </svg>\n",
              "      </button>\n",
              "      \n",
              "  <style>\n",
              "    .colab-df-container {\n",
              "      display:flex;\n",
              "      flex-wrap:wrap;\n",
              "      gap: 12px;\n",
              "    }\n",
              "\n",
              "    .colab-df-convert {\n",
              "      background-color: #E8F0FE;\n",
              "      border: none;\n",
              "      border-radius: 50%;\n",
              "      cursor: pointer;\n",
              "      display: none;\n",
              "      fill: #1967D2;\n",
              "      height: 32px;\n",
              "      padding: 0 0 0 0;\n",
              "      width: 32px;\n",
              "    }\n",
              "\n",
              "    .colab-df-convert:hover {\n",
              "      background-color: #E2EBFA;\n",
              "      box-shadow: 0px 1px 2px rgba(60, 64, 67, 0.3), 0px 1px 3px 1px rgba(60, 64, 67, 0.15);\n",
              "      fill: #174EA6;\n",
              "    }\n",
              "\n",
              "    [theme=dark] .colab-df-convert {\n",
              "      background-color: #3B4455;\n",
              "      fill: #D2E3FC;\n",
              "    }\n",
              "\n",
              "    [theme=dark] .colab-df-convert:hover {\n",
              "      background-color: #434B5C;\n",
              "      box-shadow: 0px 1px 3px 1px rgba(0, 0, 0, 0.15);\n",
              "      filter: drop-shadow(0px 1px 2px rgba(0, 0, 0, 0.3));\n",
              "      fill: #FFFFFF;\n",
              "    }\n",
              "  </style>\n",
              "\n",
              "      <script>\n",
              "        const buttonEl =\n",
              "          document.querySelector('#df-f453a9cc-1573-437b-b010-ea9945e81279 button.colab-df-convert');\n",
              "        buttonEl.style.display =\n",
              "          google.colab.kernel.accessAllowed ? 'block' : 'none';\n",
              "\n",
              "        async function convertToInteractive(key) {\n",
              "          const element = document.querySelector('#df-f453a9cc-1573-437b-b010-ea9945e81279');\n",
              "          const dataTable =\n",
              "            await google.colab.kernel.invokeFunction('convertToInteractive',\n",
              "                                                     [key], {});\n",
              "          if (!dataTable) return;\n",
              "\n",
              "          const docLinkHtml = 'Like what you see? Visit the ' +\n",
              "            '<a target=\"_blank\" href=https://colab.research.google.com/notebooks/data_table.ipynb>data table notebook</a>'\n",
              "            + ' to learn more about interactive tables.';\n",
              "          element.innerHTML = '';\n",
              "          dataTable['output_type'] = 'display_data';\n",
              "          await google.colab.output.renderOutput(dataTable, element);\n",
              "          const docLink = document.createElement('div');\n",
              "          docLink.innerHTML = docLinkHtml;\n",
              "          element.appendChild(docLink);\n",
              "        }\n",
              "      </script>\n",
              "    </div>\n",
              "  </div>\n",
              "  "
            ]
          },
          "metadata": {},
          "execution_count": 35
        }
      ]
    },
    {
      "cell_type": "code",
      "source": [
        "class KFoldTargetEncoderTrain(base.BaseEstimator, base.TransformerMixin):\n",
        "    \"\"\"\n",
        "    This object contains a target encoder for a training set which should have\n",
        "    both X and y. \n",
        "    \n",
        "    Arguments\n",
        "    ---------\n",
        "    feature:          string. Name of the feature in the training set.\n",
        "    target:           string. Name of the target in the training set.\n",
        "    n_fold:           default 5. Number of folds to use in KFold.\n",
        "    verbose:          bool, default True. If set to True, the correlation between the \n",
        "                      feature and the target will be calculated and printed out.\n",
        "    discard_original: bool,, default False. If set to True, the feature column will be \n",
        "                      deleted from the training set.\n",
        "                      \n",
        "    Example\n",
        "    ---------\n",
        "    train_target_encoder = KFoldTargetEncoderTrain(feature='A', target='target')\n",
        "    new_train = train_target_encoder.fit_transform(train)\n",
        "    \"\"\"\n",
        "    def __init__(self, feature, target, n_fold=5, verbose=True, discard_original=False):\n",
        "\n",
        "        self.feature = feature\n",
        "        self.target = target\n",
        "        self.n_fold = n_fold\n",
        "        self.verbose = verbose\n",
        "        self.discard_original = discard_original\n",
        "\n",
        "    def fit(self, X, y=None):\n",
        "        return self\n",
        "\n",
        "    def transform(self,X):\n",
        "        \"\"\"\n",
        "        Transform the original training set. Notice this function can only encode \n",
        "        one feature once.\n",
        "        \n",
        "        Arguments:\n",
        "        ----------\n",
        "        X: A pandas DataFrame which should include both the feature and the target.\n",
        "        \n",
        "        Output:\n",
        "        X: A pandas DataFrame with the target encoding.\n",
        "        \"\"\"\n",
        "        \n",
        "        # notice this function can only encode one feature at a time\n",
        "        assert(type(self.feature) == str)\n",
        "        assert(type(self.target) == str)\n",
        "        assert(self.feature in X.columns)\n",
        "        assert(self.target in X.columns)\n",
        "\n",
        "        mean_of_target = X[self.target].mean()\n",
        "        kf = KFold(n_splits = self.n_fold, shuffle = True, random_state=1)\n",
        "        # create the target encoding\n",
        "        col_mean_name = self.feature + '_target'\n",
        "        X[col_mean_name] = np.nan\n",
        "\n",
        "        for train_index, val_index in kf.split(X):\n",
        "            X_train, X_val = X.iloc[train_index], X.iloc[val_index]\n",
        "            X.loc[X.index[val_index], col_mean_name] = \\\n",
        "            X_val[self.feature].map(X_train.groupby(self.feature)[self.target].mean())\n",
        "        # missing value imputation\n",
        "        X[col_mean_name].fillna(mean_of_target, inplace = True)\n",
        "\n",
        "        if self.verbose:\n",
        "            encoded_feature = X[col_mean_name].values\n",
        "            print('Correlation between {} and, {} is {}.'.\\\n",
        "                  format(col_mean_name, self.target,\n",
        "                         np.corrcoef(X[self.target].values, encoded_feature)[0][1]))\n",
        "        # discard orginal feature column if needed\n",
        "        if self.discard_original:\n",
        "            X = X.drop(self.target, axis=1)\n",
        "\n",
        "        return X"
      ],
      "metadata": {
        "id": "-tiQ_ARLC6kl"
      },
      "execution_count": 36,
      "outputs": []
    },
    {
      "cell_type": "code",
      "source": [
        "class KFoldTargetEncoderTest(base.BaseEstimator, base.TransformerMixin):\n",
        "    \"\"\"\n",
        "    This object contains a target encoder for a testing set which should have\n",
        "    both X and y.\n",
        "    \n",
        "    Arguments\n",
        "    ---------\n",
        "    train:          pandas DataFrame. The training DataFrame with the feature and \n",
        "                    the target encoded column of it.\n",
        "    feature:        string. The column name of the feature.\n",
        "    feature_target: string. The column name of the feature_target that \n",
        "                    has been calculated in the training set.\n",
        "                    \n",
        "    Example\n",
        "    ---------\n",
        "    test_target_encoder = KFoldTargetEncoderTest(new_train, 'A', 'A_target')\n",
        "    new_test = test_target_encoder.transform(test)\n",
        "    \"\"\"\n",
        "    \n",
        "    def __init__(self, train, feature, feature_target):\n",
        "        \n",
        "        self.train = train\n",
        "        self.feature = feature\n",
        "        self.feature_target = feature_target\n",
        "        \n",
        "        \n",
        "    def fit(self, X, y=None):\n",
        "        return self\n",
        "\n",
        "    def transform(self,X):\n",
        "        \"\"\"\n",
        "        Transform the testing set based on K-fold target encoder of the training set.\n",
        "        Notice this function can only encode one feature at a time.\n",
        "        \n",
        "        Argument\n",
        "        --------\n",
        "        X: pandas DataFrame. The testing set to be transformed.\n",
        "        \n",
        "        Output\n",
        "        --------\n",
        "        X: A pandas DataFrame with transformed target encoding.\n",
        "        \"\"\"\n",
        "\n",
        "        mean = self.train[[self.feature,self.feature_target]].groupby(self.feature).mean().reset_index() \n",
        "        \n",
        "        dd = {}\n",
        "        for index, row in mean.iterrows():\n",
        "            dd[row[self.feature]] = row[self.feature_target]\n",
        "\n",
        "        \n",
        "        X[self.feature_target] = X[self.feature]\n",
        "        X = X.replace({self.feature_target: dd})\n",
        "\n",
        "        return X"
      ],
      "metadata": {
        "id": "tVixEKXQDfli"
      },
      "execution_count": 37,
      "outputs": []
    },
    {
      "cell_type": "code",
      "source": [
        "train_df = pd.concat([X_train_a, y_train], axis=1)\n",
        "new_train = train_df.copy()\n",
        "for feature in strong_predictors:\n",
        "    train_target_encoder = KFoldTargetEncoderTrain(feature, 'Y')\n",
        "    new_train = train_target_encoder.fit_transform(new_train)"
      ],
      "metadata": {
        "colab": {
          "base_uri": "https://localhost:8080/"
        },
        "id": "6K8wTNa2GHiL",
        "outputId": "b3357501-a663-48e2-ef7b-793a9f710d5d"
      },
      "execution_count": 38,
      "outputs": [
        {
          "output_type": "stream",
          "name": "stdout",
          "text": [
            "Correlation between destination_target and, Y is 0.1260193064022866.\n",
            "Correlation between passanger_target and, Y is 0.12876755870856293.\n",
            "Correlation between weather_target and, Y is 0.09768922837497095.\n",
            "Correlation between time_target and, Y is 0.11845314093978036.\n",
            "Correlation between coupon_target and, Y is 0.25156783152688666.\n",
            "Correlation between expiration_target and, Y is 0.13111956684151896.\n",
            "Correlation between maritalStatus_target and, Y is 0.06573526429387919.\n",
            "Correlation between education_target and, Y is 0.04935259992232305.\n",
            "Correlation between occupation_target and, Y is 0.09341590006882591.\n",
            "Correlation between direction_same_target and, Y is 0.005885700616190399.\n"
          ]
        }
      ]
    },
    {
      "cell_type": "code",
      "source": [
        "new_train"
      ],
      "metadata": {
        "colab": {
          "base_uri": "https://localhost:8080/",
          "height": 609
        },
        "id": "Ky1nYh6GGSKj",
        "outputId": "a425337c-4447-4bba-8f89-e729269a3266"
      },
      "execution_count": 39,
      "outputs": [
        {
          "output_type": "execute_result",
          "data": {
            "text/plain": [
              "           destination  passanger weather  temperature  time  \\\n",
              "5282   No Urgent Place  Friend(s)   Sunny           80  10AM   \n",
              "11372  No Urgent Place  Friend(s)   Snowy           30   2PM   \n",
              "11650             Work      Alone   Rainy           55   7AM   \n",
              "8733              Work      Alone   Rainy           55   7AM   \n",
              "7663   No Urgent Place      Alone   Sunny           80  10AM   \n",
              "...                ...        ...     ...          ...   ...   \n",
              "10955  No Urgent Place      Alone   Rainy           55  10AM   \n",
              "905    No Urgent Place  Friend(s)   Sunny           80   2PM   \n",
              "5192              Work      Alone   Sunny           55   7AM   \n",
              "12172             Work      Alone   Sunny           80   7AM   \n",
              "235               Work      Alone   Sunny           55   7AM   \n",
              "\n",
              "                  coupon expiration  gender  age      maritalStatus  ...  \\\n",
              "5282        Coffee House         2h    Male    6  Unmarried partner  ...   \n",
              "11372    Restaurant(<20)         1d  Female    1    Married partner  ...   \n",
              "11650    Restaurant(<20)         2h    Male    1             Single  ...   \n",
              "8733     Restaurant(<20)         2h  Female    3    Married partner  ...   \n",
              "7663        Coffee House         1d    Male    4             Single  ...   \n",
              "...                  ...        ...     ...  ...                ...  ...   \n",
              "10955                Bar         1d  Female    3    Married partner  ...   \n",
              "905         Coffee House         2h  Female    3  Unmarried partner  ...   \n",
              "5192        Coffee House         1d  Female    7             Single  ...   \n",
              "12172  Restaurant(20-50)         2h  Female    3             Single  ...   \n",
              "235      Restaurant(<20)         1d  Female    1  Unmarried partner  ...   \n",
              "\n",
              "      destination_target passanger_target weather_target  time_target  \\\n",
              "5282            0.629797         0.666506       0.591213     0.595498   \n",
              "11372           0.629016         0.668258       0.453450     0.667704   \n",
              "11650           0.493870         0.526617       0.476005     0.493870   \n",
              "8733            0.502238         0.525471       0.453104     0.502238   \n",
              "7663            0.634128         0.524443       0.591510     0.606020   \n",
              "...                  ...              ...            ...          ...   \n",
              "10955           0.629797         0.526617       0.476005     0.595498   \n",
              "905             0.631290         0.672030       0.592489     0.653188   \n",
              "5192            0.502238         0.525471       0.595745     0.502238   \n",
              "12172           0.502238         0.525471       0.595745     0.502238   \n",
              "235             0.484258         0.521564       0.590994     0.484258   \n",
              "\n",
              "       coupon_target  expiration_target  maritalStatus_target  \\\n",
              "5282        0.496051           0.489655              0.551227   \n",
              "11372       0.703099           0.621419              0.539046   \n",
              "11650       0.705589           0.489655              0.610423   \n",
              "8733        0.696000           0.494751              0.537538   \n",
              "7663        0.497253           0.628978              0.613509   \n",
              "...              ...                ...                   ...   \n",
              "10955       0.422118           0.628756              0.540898   \n",
              "905         0.504106           0.499025              0.559346   \n",
              "5192        0.499614           0.626056              0.613725   \n",
              "12172       0.447761           0.494751              0.613725   \n",
              "235         0.703099           0.621419              0.556423   \n",
              "\n",
              "       education_target  occupation_target direction_same_target  \n",
              "5282           0.590990           0.571429              0.562816  \n",
              "11372          0.557510           0.549959              0.560101  \n",
              "11650          0.590990           0.603941              0.580247  \n",
              "8733           0.592780           0.500000              0.561627  \n",
              "7663           0.595009           0.708738              0.565925  \n",
              "...                 ...                ...                   ...  \n",
              "10955          0.556001           0.603941              0.562816  \n",
              "905            0.545817           0.524590              0.562019  \n",
              "5192           0.532489           0.508914              0.561627  \n",
              "12172          0.539084           0.500000              0.588908  \n",
              "235            0.547300           0.591497              0.560101  \n",
              "\n",
              "[10147 rows x 42 columns]"
            ],
            "text/html": [
              "\n",
              "  <div id=\"df-5e75b1bd-51b3-4da0-8854-e87ddc71c70e\">\n",
              "    <div class=\"colab-df-container\">\n",
              "      <div>\n",
              "<style scoped>\n",
              "    .dataframe tbody tr th:only-of-type {\n",
              "        vertical-align: middle;\n",
              "    }\n",
              "\n",
              "    .dataframe tbody tr th {\n",
              "        vertical-align: top;\n",
              "    }\n",
              "\n",
              "    .dataframe thead th {\n",
              "        text-align: right;\n",
              "    }\n",
              "</style>\n",
              "<table border=\"1\" class=\"dataframe\">\n",
              "  <thead>\n",
              "    <tr style=\"text-align: right;\">\n",
              "      <th></th>\n",
              "      <th>destination</th>\n",
              "      <th>passanger</th>\n",
              "      <th>weather</th>\n",
              "      <th>temperature</th>\n",
              "      <th>time</th>\n",
              "      <th>coupon</th>\n",
              "      <th>expiration</th>\n",
              "      <th>gender</th>\n",
              "      <th>age</th>\n",
              "      <th>maritalStatus</th>\n",
              "      <th>...</th>\n",
              "      <th>destination_target</th>\n",
              "      <th>passanger_target</th>\n",
              "      <th>weather_target</th>\n",
              "      <th>time_target</th>\n",
              "      <th>coupon_target</th>\n",
              "      <th>expiration_target</th>\n",
              "      <th>maritalStatus_target</th>\n",
              "      <th>education_target</th>\n",
              "      <th>occupation_target</th>\n",
              "      <th>direction_same_target</th>\n",
              "    </tr>\n",
              "  </thead>\n",
              "  <tbody>\n",
              "    <tr>\n",
              "      <th>5282</th>\n",
              "      <td>No Urgent Place</td>\n",
              "      <td>Friend(s)</td>\n",
              "      <td>Sunny</td>\n",
              "      <td>80</td>\n",
              "      <td>10AM</td>\n",
              "      <td>Coffee House</td>\n",
              "      <td>2h</td>\n",
              "      <td>Male</td>\n",
              "      <td>6</td>\n",
              "      <td>Unmarried partner</td>\n",
              "      <td>...</td>\n",
              "      <td>0.629797</td>\n",
              "      <td>0.666506</td>\n",
              "      <td>0.591213</td>\n",
              "      <td>0.595498</td>\n",
              "      <td>0.496051</td>\n",
              "      <td>0.489655</td>\n",
              "      <td>0.551227</td>\n",
              "      <td>0.590990</td>\n",
              "      <td>0.571429</td>\n",
              "      <td>0.562816</td>\n",
              "    </tr>\n",
              "    <tr>\n",
              "      <th>11372</th>\n",
              "      <td>No Urgent Place</td>\n",
              "      <td>Friend(s)</td>\n",
              "      <td>Snowy</td>\n",
              "      <td>30</td>\n",
              "      <td>2PM</td>\n",
              "      <td>Restaurant(&lt;20)</td>\n",
              "      <td>1d</td>\n",
              "      <td>Female</td>\n",
              "      <td>1</td>\n",
              "      <td>Married partner</td>\n",
              "      <td>...</td>\n",
              "      <td>0.629016</td>\n",
              "      <td>0.668258</td>\n",
              "      <td>0.453450</td>\n",
              "      <td>0.667704</td>\n",
              "      <td>0.703099</td>\n",
              "      <td>0.621419</td>\n",
              "      <td>0.539046</td>\n",
              "      <td>0.557510</td>\n",
              "      <td>0.549959</td>\n",
              "      <td>0.560101</td>\n",
              "    </tr>\n",
              "    <tr>\n",
              "      <th>11650</th>\n",
              "      <td>Work</td>\n",
              "      <td>Alone</td>\n",
              "      <td>Rainy</td>\n",
              "      <td>55</td>\n",
              "      <td>7AM</td>\n",
              "      <td>Restaurant(&lt;20)</td>\n",
              "      <td>2h</td>\n",
              "      <td>Male</td>\n",
              "      <td>1</td>\n",
              "      <td>Single</td>\n",
              "      <td>...</td>\n",
              "      <td>0.493870</td>\n",
              "      <td>0.526617</td>\n",
              "      <td>0.476005</td>\n",
              "      <td>0.493870</td>\n",
              "      <td>0.705589</td>\n",
              "      <td>0.489655</td>\n",
              "      <td>0.610423</td>\n",
              "      <td>0.590990</td>\n",
              "      <td>0.603941</td>\n",
              "      <td>0.580247</td>\n",
              "    </tr>\n",
              "    <tr>\n",
              "      <th>8733</th>\n",
              "      <td>Work</td>\n",
              "      <td>Alone</td>\n",
              "      <td>Rainy</td>\n",
              "      <td>55</td>\n",
              "      <td>7AM</td>\n",
              "      <td>Restaurant(&lt;20)</td>\n",
              "      <td>2h</td>\n",
              "      <td>Female</td>\n",
              "      <td>3</td>\n",
              "      <td>Married partner</td>\n",
              "      <td>...</td>\n",
              "      <td>0.502238</td>\n",
              "      <td>0.525471</td>\n",
              "      <td>0.453104</td>\n",
              "      <td>0.502238</td>\n",
              "      <td>0.696000</td>\n",
              "      <td>0.494751</td>\n",
              "      <td>0.537538</td>\n",
              "      <td>0.592780</td>\n",
              "      <td>0.500000</td>\n",
              "      <td>0.561627</td>\n",
              "    </tr>\n",
              "    <tr>\n",
              "      <th>7663</th>\n",
              "      <td>No Urgent Place</td>\n",
              "      <td>Alone</td>\n",
              "      <td>Sunny</td>\n",
              "      <td>80</td>\n",
              "      <td>10AM</td>\n",
              "      <td>Coffee House</td>\n",
              "      <td>1d</td>\n",
              "      <td>Male</td>\n",
              "      <td>4</td>\n",
              "      <td>Single</td>\n",
              "      <td>...</td>\n",
              "      <td>0.634128</td>\n",
              "      <td>0.524443</td>\n",
              "      <td>0.591510</td>\n",
              "      <td>0.606020</td>\n",
              "      <td>0.497253</td>\n",
              "      <td>0.628978</td>\n",
              "      <td>0.613509</td>\n",
              "      <td>0.595009</td>\n",
              "      <td>0.708738</td>\n",
              "      <td>0.565925</td>\n",
              "    </tr>\n",
              "    <tr>\n",
              "      <th>...</th>\n",
              "      <td>...</td>\n",
              "      <td>...</td>\n",
              "      <td>...</td>\n",
              "      <td>...</td>\n",
              "      <td>...</td>\n",
              "      <td>...</td>\n",
              "      <td>...</td>\n",
              "      <td>...</td>\n",
              "      <td>...</td>\n",
              "      <td>...</td>\n",
              "      <td>...</td>\n",
              "      <td>...</td>\n",
              "      <td>...</td>\n",
              "      <td>...</td>\n",
              "      <td>...</td>\n",
              "      <td>...</td>\n",
              "      <td>...</td>\n",
              "      <td>...</td>\n",
              "      <td>...</td>\n",
              "      <td>...</td>\n",
              "      <td>...</td>\n",
              "    </tr>\n",
              "    <tr>\n",
              "      <th>10955</th>\n",
              "      <td>No Urgent Place</td>\n",
              "      <td>Alone</td>\n",
              "      <td>Rainy</td>\n",
              "      <td>55</td>\n",
              "      <td>10AM</td>\n",
              "      <td>Bar</td>\n",
              "      <td>1d</td>\n",
              "      <td>Female</td>\n",
              "      <td>3</td>\n",
              "      <td>Married partner</td>\n",
              "      <td>...</td>\n",
              "      <td>0.629797</td>\n",
              "      <td>0.526617</td>\n",
              "      <td>0.476005</td>\n",
              "      <td>0.595498</td>\n",
              "      <td>0.422118</td>\n",
              "      <td>0.628756</td>\n",
              "      <td>0.540898</td>\n",
              "      <td>0.556001</td>\n",
              "      <td>0.603941</td>\n",
              "      <td>0.562816</td>\n",
              "    </tr>\n",
              "    <tr>\n",
              "      <th>905</th>\n",
              "      <td>No Urgent Place</td>\n",
              "      <td>Friend(s)</td>\n",
              "      <td>Sunny</td>\n",
              "      <td>80</td>\n",
              "      <td>2PM</td>\n",
              "      <td>Coffee House</td>\n",
              "      <td>2h</td>\n",
              "      <td>Female</td>\n",
              "      <td>3</td>\n",
              "      <td>Unmarried partner</td>\n",
              "      <td>...</td>\n",
              "      <td>0.631290</td>\n",
              "      <td>0.672030</td>\n",
              "      <td>0.592489</td>\n",
              "      <td>0.653188</td>\n",
              "      <td>0.504106</td>\n",
              "      <td>0.499025</td>\n",
              "      <td>0.559346</td>\n",
              "      <td>0.545817</td>\n",
              "      <td>0.524590</td>\n",
              "      <td>0.562019</td>\n",
              "    </tr>\n",
              "    <tr>\n",
              "      <th>5192</th>\n",
              "      <td>Work</td>\n",
              "      <td>Alone</td>\n",
              "      <td>Sunny</td>\n",
              "      <td>55</td>\n",
              "      <td>7AM</td>\n",
              "      <td>Coffee House</td>\n",
              "      <td>1d</td>\n",
              "      <td>Female</td>\n",
              "      <td>7</td>\n",
              "      <td>Single</td>\n",
              "      <td>...</td>\n",
              "      <td>0.502238</td>\n",
              "      <td>0.525471</td>\n",
              "      <td>0.595745</td>\n",
              "      <td>0.502238</td>\n",
              "      <td>0.499614</td>\n",
              "      <td>0.626056</td>\n",
              "      <td>0.613725</td>\n",
              "      <td>0.532489</td>\n",
              "      <td>0.508914</td>\n",
              "      <td>0.561627</td>\n",
              "    </tr>\n",
              "    <tr>\n",
              "      <th>12172</th>\n",
              "      <td>Work</td>\n",
              "      <td>Alone</td>\n",
              "      <td>Sunny</td>\n",
              "      <td>80</td>\n",
              "      <td>7AM</td>\n",
              "      <td>Restaurant(20-50)</td>\n",
              "      <td>2h</td>\n",
              "      <td>Female</td>\n",
              "      <td>3</td>\n",
              "      <td>Single</td>\n",
              "      <td>...</td>\n",
              "      <td>0.502238</td>\n",
              "      <td>0.525471</td>\n",
              "      <td>0.595745</td>\n",
              "      <td>0.502238</td>\n",
              "      <td>0.447761</td>\n",
              "      <td>0.494751</td>\n",
              "      <td>0.613725</td>\n",
              "      <td>0.539084</td>\n",
              "      <td>0.500000</td>\n",
              "      <td>0.588908</td>\n",
              "    </tr>\n",
              "    <tr>\n",
              "      <th>235</th>\n",
              "      <td>Work</td>\n",
              "      <td>Alone</td>\n",
              "      <td>Sunny</td>\n",
              "      <td>55</td>\n",
              "      <td>7AM</td>\n",
              "      <td>Restaurant(&lt;20)</td>\n",
              "      <td>1d</td>\n",
              "      <td>Female</td>\n",
              "      <td>1</td>\n",
              "      <td>Unmarried partner</td>\n",
              "      <td>...</td>\n",
              "      <td>0.484258</td>\n",
              "      <td>0.521564</td>\n",
              "      <td>0.590994</td>\n",
              "      <td>0.484258</td>\n",
              "      <td>0.703099</td>\n",
              "      <td>0.621419</td>\n",
              "      <td>0.556423</td>\n",
              "      <td>0.547300</td>\n",
              "      <td>0.591497</td>\n",
              "      <td>0.560101</td>\n",
              "    </tr>\n",
              "  </tbody>\n",
              "</table>\n",
              "<p>10147 rows × 42 columns</p>\n",
              "</div>\n",
              "      <button class=\"colab-df-convert\" onclick=\"convertToInteractive('df-5e75b1bd-51b3-4da0-8854-e87ddc71c70e')\"\n",
              "              title=\"Convert this dataframe to an interactive table.\"\n",
              "              style=\"display:none;\">\n",
              "        \n",
              "  <svg xmlns=\"http://www.w3.org/2000/svg\" height=\"24px\"viewBox=\"0 0 24 24\"\n",
              "       width=\"24px\">\n",
              "    <path d=\"M0 0h24v24H0V0z\" fill=\"none\"/>\n",
              "    <path d=\"M18.56 5.44l.94 2.06.94-2.06 2.06-.94-2.06-.94-.94-2.06-.94 2.06-2.06.94zm-11 1L8.5 8.5l.94-2.06 2.06-.94-2.06-.94L8.5 2.5l-.94 2.06-2.06.94zm10 10l.94 2.06.94-2.06 2.06-.94-2.06-.94-.94-2.06-.94 2.06-2.06.94z\"/><path d=\"M17.41 7.96l-1.37-1.37c-.4-.4-.92-.59-1.43-.59-.52 0-1.04.2-1.43.59L10.3 9.45l-7.72 7.72c-.78.78-.78 2.05 0 2.83L4 21.41c.39.39.9.59 1.41.59.51 0 1.02-.2 1.41-.59l7.78-7.78 2.81-2.81c.8-.78.8-2.07 0-2.86zM5.41 20L4 18.59l7.72-7.72 1.47 1.35L5.41 20z\"/>\n",
              "  </svg>\n",
              "      </button>\n",
              "      \n",
              "  <style>\n",
              "    .colab-df-container {\n",
              "      display:flex;\n",
              "      flex-wrap:wrap;\n",
              "      gap: 12px;\n",
              "    }\n",
              "\n",
              "    .colab-df-convert {\n",
              "      background-color: #E8F0FE;\n",
              "      border: none;\n",
              "      border-radius: 50%;\n",
              "      cursor: pointer;\n",
              "      display: none;\n",
              "      fill: #1967D2;\n",
              "      height: 32px;\n",
              "      padding: 0 0 0 0;\n",
              "      width: 32px;\n",
              "    }\n",
              "\n",
              "    .colab-df-convert:hover {\n",
              "      background-color: #E2EBFA;\n",
              "      box-shadow: 0px 1px 2px rgba(60, 64, 67, 0.3), 0px 1px 3px 1px rgba(60, 64, 67, 0.15);\n",
              "      fill: #174EA6;\n",
              "    }\n",
              "\n",
              "    [theme=dark] .colab-df-convert {\n",
              "      background-color: #3B4455;\n",
              "      fill: #D2E3FC;\n",
              "    }\n",
              "\n",
              "    [theme=dark] .colab-df-convert:hover {\n",
              "      background-color: #434B5C;\n",
              "      box-shadow: 0px 1px 3px 1px rgba(0, 0, 0, 0.15);\n",
              "      filter: drop-shadow(0px 1px 2px rgba(0, 0, 0, 0.3));\n",
              "      fill: #FFFFFF;\n",
              "    }\n",
              "  </style>\n",
              "\n",
              "      <script>\n",
              "        const buttonEl =\n",
              "          document.querySelector('#df-5e75b1bd-51b3-4da0-8854-e87ddc71c70e button.colab-df-convert');\n",
              "        buttonEl.style.display =\n",
              "          google.colab.kernel.accessAllowed ? 'block' : 'none';\n",
              "\n",
              "        async function convertToInteractive(key) {\n",
              "          const element = document.querySelector('#df-5e75b1bd-51b3-4da0-8854-e87ddc71c70e');\n",
              "          const dataTable =\n",
              "            await google.colab.kernel.invokeFunction('convertToInteractive',\n",
              "                                                     [key], {});\n",
              "          if (!dataTable) return;\n",
              "\n",
              "          const docLinkHtml = 'Like what you see? Visit the ' +\n",
              "            '<a target=\"_blank\" href=https://colab.research.google.com/notebooks/data_table.ipynb>data table notebook</a>'\n",
              "            + ' to learn more about interactive tables.';\n",
              "          element.innerHTML = '';\n",
              "          dataTable['output_type'] = 'display_data';\n",
              "          await google.colab.output.renderOutput(dataTable, element);\n",
              "          const docLink = document.createElement('div');\n",
              "          docLink.innerHTML = docLinkHtml;\n",
              "          element.appendChild(docLink);\n",
              "        }\n",
              "      </script>\n",
              "    </div>\n",
              "  </div>\n",
              "  "
            ]
          },
          "metadata": {},
          "execution_count": 39
        }
      ]
    },
    {
      "cell_type": "code",
      "source": [
        "test_df = pd.concat([X_test_a, y_test], axis=1)\n",
        "new_test = test_df.copy()\n",
        "strong_predictors_targets = []\n",
        "for feature in strong_predictors:\n",
        "    strong_predictors_targets.append(feature + '_target')\n",
        "for feature, feature_target in zip(strong_predictors, strong_predictors_targets):\n",
        "    test_target_encoder = KFoldTargetEncoderTest(new_train, feature, feature_target)\n",
        "    new_test = test_target_encoder.transform(new_test)"
      ],
      "metadata": {
        "id": "_FtTiZpNG1AF"
      },
      "execution_count": 40,
      "outputs": []
    },
    {
      "cell_type": "code",
      "source": [
        "new_train.drop(columns=strong_predictors, inplace=True)\n",
        "new_test.drop(columns=strong_predictors, inplace=True)\n",
        "X_train_a = new_train.drop(columns=['Y'])\n",
        "X_test_a = new_test.drop(columns=['Y'])"
      ],
      "metadata": {
        "id": "F2Zx6vB7G8Mu"
      },
      "execution_count": 41,
      "outputs": []
    },
    {
      "cell_type": "code",
      "source": [
        "X_test_a"
      ],
      "metadata": {
        "colab": {
          "base_uri": "https://localhost:8080/",
          "height": 488
        },
        "id": "GADFB4xuHOaP",
        "outputId": "93920630-247a-4b9d-dd0b-1717997a8687"
      },
      "execution_count": 42,
      "outputs": [
        {
          "output_type": "execute_result",
          "data": {
            "text/plain": [
              "       temperature  gender  age has_children  income  Bar  CoffeeHouse  \\\n",
              "12493           30  Female    2            0       4  2.0          0.0   \n",
              "7508            80  Female    5            1       0  0.0          2.0   \n",
              "10212           55  Female    3            0       8  1.0          1.0   \n",
              "7714            30  Female    3            0       8  0.0          3.0   \n",
              "2403            55  Female    7            1       6  0.0          0.0   \n",
              "...            ...     ...  ...          ...     ...  ...          ...   \n",
              "8699            30    Male    3            0       6  2.0          3.0   \n",
              "6313            80  Female    3            1       5  1.0          3.0   \n",
              "7305            80  Female    2            0       7  4.0          1.0   \n",
              "4182            55    Male    2            0       0  1.0          0.0   \n",
              "11275           30    Male    3            0       4  2.0          3.0   \n",
              "\n",
              "       CarryAway  RestaurantLessThan20  Restaurant20To50  ...  \\\n",
              "12493        3.0                   3.0               1.0  ...   \n",
              "7508         2.0                   3.0               1.0  ...   \n",
              "10212        4.0                   3.0               1.0  ...   \n",
              "7714         4.0                   3.0               1.0  ...   \n",
              "2403         3.0                   4.0               1.0  ...   \n",
              "...          ...                   ...               ...  ...   \n",
              "8699         1.0                   3.0               1.0  ...   \n",
              "6313         3.0                   2.0               0.0  ...   \n",
              "7305         2.0                   2.0               2.0  ...   \n",
              "4182         2.0                   1.0               1.0  ...   \n",
              "11275        3.0                   3.0               2.0  ...   \n",
              "\n",
              "       destination_target  passanger_target  weather_target  time_target  \\\n",
              "12493            0.513953          0.524850        0.466697     0.508355   \n",
              "7508             0.630689          0.670942        0.592390     0.663244   \n",
              "10212            0.630689          0.595839        0.592390     0.663244   \n",
              "7714             0.630689          0.670942        0.592390     0.508355   \n",
              "2403             0.494380          0.524850        0.592390     0.494380   \n",
              "...                   ...               ...             ...          ...   \n",
              "8699             0.630689          0.670942        0.466697     0.601628   \n",
              "6313             0.513953          0.524850        0.592390     0.589500   \n",
              "7305             0.630689          0.524850        0.592390     0.601628   \n",
              "4182             0.513953          0.524850        0.592390     0.508355   \n",
              "11275            0.494380          0.524850        0.466697     0.494380   \n",
              "\n",
              "       coupon_target  expiration_target  maritalStatus_target  \\\n",
              "12493       0.499035           0.493381              0.554364   \n",
              "7508        0.437595           0.493381              0.554364   \n",
              "10212       0.417750           0.625573              0.538900   \n",
              "7714        0.700189           0.493381              0.611119   \n",
              "2403        0.417750           0.625573              0.538900   \n",
              "...              ...                ...                   ...   \n",
              "8699        0.727610           0.625573              0.538900   \n",
              "6313        0.499035           0.493381              0.538900   \n",
              "7305        0.499035           0.625573              0.611119   \n",
              "4182        0.727610           0.625573              0.611119   \n",
              "11275       0.700189           0.625573              0.611119   \n",
              "\n",
              "       education_target  occupation_target  direction_same_target  \n",
              "12493          0.593775           0.611214               0.562487  \n",
              "7508           0.593775           0.547532               0.562487  \n",
              "10212          0.593775           0.566407               0.562487  \n",
              "7714           0.553398           0.547532               0.562487  \n",
              "2403           0.593775           0.581453               0.562487  \n",
              "...                 ...                ...                    ...  \n",
              "8699           0.525756           0.569176               0.562487  \n",
              "6313           0.525756           0.566407               0.562487  \n",
              "7305           0.553398           0.611214               0.562487  \n",
              "4182           0.547305           0.547532               0.562487  \n",
              "11275          0.593775           0.581453               0.562487  \n",
              "\n",
              "[2537 rows x 31 columns]"
            ],
            "text/html": [
              "\n",
              "  <div id=\"df-dded5ac6-0b9e-456e-9fd9-00ccb98b4149\">\n",
              "    <div class=\"colab-df-container\">\n",
              "      <div>\n",
              "<style scoped>\n",
              "    .dataframe tbody tr th:only-of-type {\n",
              "        vertical-align: middle;\n",
              "    }\n",
              "\n",
              "    .dataframe tbody tr th {\n",
              "        vertical-align: top;\n",
              "    }\n",
              "\n",
              "    .dataframe thead th {\n",
              "        text-align: right;\n",
              "    }\n",
              "</style>\n",
              "<table border=\"1\" class=\"dataframe\">\n",
              "  <thead>\n",
              "    <tr style=\"text-align: right;\">\n",
              "      <th></th>\n",
              "      <th>temperature</th>\n",
              "      <th>gender</th>\n",
              "      <th>age</th>\n",
              "      <th>has_children</th>\n",
              "      <th>income</th>\n",
              "      <th>Bar</th>\n",
              "      <th>CoffeeHouse</th>\n",
              "      <th>CarryAway</th>\n",
              "      <th>RestaurantLessThan20</th>\n",
              "      <th>Restaurant20To50</th>\n",
              "      <th>...</th>\n",
              "      <th>destination_target</th>\n",
              "      <th>passanger_target</th>\n",
              "      <th>weather_target</th>\n",
              "      <th>time_target</th>\n",
              "      <th>coupon_target</th>\n",
              "      <th>expiration_target</th>\n",
              "      <th>maritalStatus_target</th>\n",
              "      <th>education_target</th>\n",
              "      <th>occupation_target</th>\n",
              "      <th>direction_same_target</th>\n",
              "    </tr>\n",
              "  </thead>\n",
              "  <tbody>\n",
              "    <tr>\n",
              "      <th>12493</th>\n",
              "      <td>30</td>\n",
              "      <td>Female</td>\n",
              "      <td>2</td>\n",
              "      <td>0</td>\n",
              "      <td>4</td>\n",
              "      <td>2.0</td>\n",
              "      <td>0.0</td>\n",
              "      <td>3.0</td>\n",
              "      <td>3.0</td>\n",
              "      <td>1.0</td>\n",
              "      <td>...</td>\n",
              "      <td>0.513953</td>\n",
              "      <td>0.524850</td>\n",
              "      <td>0.466697</td>\n",
              "      <td>0.508355</td>\n",
              "      <td>0.499035</td>\n",
              "      <td>0.493381</td>\n",
              "      <td>0.554364</td>\n",
              "      <td>0.593775</td>\n",
              "      <td>0.611214</td>\n",
              "      <td>0.562487</td>\n",
              "    </tr>\n",
              "    <tr>\n",
              "      <th>7508</th>\n",
              "      <td>80</td>\n",
              "      <td>Female</td>\n",
              "      <td>5</td>\n",
              "      <td>1</td>\n",
              "      <td>0</td>\n",
              "      <td>0.0</td>\n",
              "      <td>2.0</td>\n",
              "      <td>2.0</td>\n",
              "      <td>3.0</td>\n",
              "      <td>1.0</td>\n",
              "      <td>...</td>\n",
              "      <td>0.630689</td>\n",
              "      <td>0.670942</td>\n",
              "      <td>0.592390</td>\n",
              "      <td>0.663244</td>\n",
              "      <td>0.437595</td>\n",
              "      <td>0.493381</td>\n",
              "      <td>0.554364</td>\n",
              "      <td>0.593775</td>\n",
              "      <td>0.547532</td>\n",
              "      <td>0.562487</td>\n",
              "    </tr>\n",
              "    <tr>\n",
              "      <th>10212</th>\n",
              "      <td>55</td>\n",
              "      <td>Female</td>\n",
              "      <td>3</td>\n",
              "      <td>0</td>\n",
              "      <td>8</td>\n",
              "      <td>1.0</td>\n",
              "      <td>1.0</td>\n",
              "      <td>4.0</td>\n",
              "      <td>3.0</td>\n",
              "      <td>1.0</td>\n",
              "      <td>...</td>\n",
              "      <td>0.630689</td>\n",
              "      <td>0.595839</td>\n",
              "      <td>0.592390</td>\n",
              "      <td>0.663244</td>\n",
              "      <td>0.417750</td>\n",
              "      <td>0.625573</td>\n",
              "      <td>0.538900</td>\n",
              "      <td>0.593775</td>\n",
              "      <td>0.566407</td>\n",
              "      <td>0.562487</td>\n",
              "    </tr>\n",
              "    <tr>\n",
              "      <th>7714</th>\n",
              "      <td>30</td>\n",
              "      <td>Female</td>\n",
              "      <td>3</td>\n",
              "      <td>0</td>\n",
              "      <td>8</td>\n",
              "      <td>0.0</td>\n",
              "      <td>3.0</td>\n",
              "      <td>4.0</td>\n",
              "      <td>3.0</td>\n",
              "      <td>1.0</td>\n",
              "      <td>...</td>\n",
              "      <td>0.630689</td>\n",
              "      <td>0.670942</td>\n",
              "      <td>0.592390</td>\n",
              "      <td>0.508355</td>\n",
              "      <td>0.700189</td>\n",
              "      <td>0.493381</td>\n",
              "      <td>0.611119</td>\n",
              "      <td>0.553398</td>\n",
              "      <td>0.547532</td>\n",
              "      <td>0.562487</td>\n",
              "    </tr>\n",
              "    <tr>\n",
              "      <th>2403</th>\n",
              "      <td>55</td>\n",
              "      <td>Female</td>\n",
              "      <td>7</td>\n",
              "      <td>1</td>\n",
              "      <td>6</td>\n",
              "      <td>0.0</td>\n",
              "      <td>0.0</td>\n",
              "      <td>3.0</td>\n",
              "      <td>4.0</td>\n",
              "      <td>1.0</td>\n",
              "      <td>...</td>\n",
              "      <td>0.494380</td>\n",
              "      <td>0.524850</td>\n",
              "      <td>0.592390</td>\n",
              "      <td>0.494380</td>\n",
              "      <td>0.417750</td>\n",
              "      <td>0.625573</td>\n",
              "      <td>0.538900</td>\n",
              "      <td>0.593775</td>\n",
              "      <td>0.581453</td>\n",
              "      <td>0.562487</td>\n",
              "    </tr>\n",
              "    <tr>\n",
              "      <th>...</th>\n",
              "      <td>...</td>\n",
              "      <td>...</td>\n",
              "      <td>...</td>\n",
              "      <td>...</td>\n",
              "      <td>...</td>\n",
              "      <td>...</td>\n",
              "      <td>...</td>\n",
              "      <td>...</td>\n",
              "      <td>...</td>\n",
              "      <td>...</td>\n",
              "      <td>...</td>\n",
              "      <td>...</td>\n",
              "      <td>...</td>\n",
              "      <td>...</td>\n",
              "      <td>...</td>\n",
              "      <td>...</td>\n",
              "      <td>...</td>\n",
              "      <td>...</td>\n",
              "      <td>...</td>\n",
              "      <td>...</td>\n",
              "      <td>...</td>\n",
              "    </tr>\n",
              "    <tr>\n",
              "      <th>8699</th>\n",
              "      <td>30</td>\n",
              "      <td>Male</td>\n",
              "      <td>3</td>\n",
              "      <td>0</td>\n",
              "      <td>6</td>\n",
              "      <td>2.0</td>\n",
              "      <td>3.0</td>\n",
              "      <td>1.0</td>\n",
              "      <td>3.0</td>\n",
              "      <td>1.0</td>\n",
              "      <td>...</td>\n",
              "      <td>0.630689</td>\n",
              "      <td>0.670942</td>\n",
              "      <td>0.466697</td>\n",
              "      <td>0.601628</td>\n",
              "      <td>0.727610</td>\n",
              "      <td>0.625573</td>\n",
              "      <td>0.538900</td>\n",
              "      <td>0.525756</td>\n",
              "      <td>0.569176</td>\n",
              "      <td>0.562487</td>\n",
              "    </tr>\n",
              "    <tr>\n",
              "      <th>6313</th>\n",
              "      <td>80</td>\n",
              "      <td>Female</td>\n",
              "      <td>3</td>\n",
              "      <td>1</td>\n",
              "      <td>5</td>\n",
              "      <td>1.0</td>\n",
              "      <td>3.0</td>\n",
              "      <td>3.0</td>\n",
              "      <td>2.0</td>\n",
              "      <td>0.0</td>\n",
              "      <td>...</td>\n",
              "      <td>0.513953</td>\n",
              "      <td>0.524850</td>\n",
              "      <td>0.592390</td>\n",
              "      <td>0.589500</td>\n",
              "      <td>0.499035</td>\n",
              "      <td>0.493381</td>\n",
              "      <td>0.538900</td>\n",
              "      <td>0.525756</td>\n",
              "      <td>0.566407</td>\n",
              "      <td>0.562487</td>\n",
              "    </tr>\n",
              "    <tr>\n",
              "      <th>7305</th>\n",
              "      <td>80</td>\n",
              "      <td>Female</td>\n",
              "      <td>2</td>\n",
              "      <td>0</td>\n",
              "      <td>7</td>\n",
              "      <td>4.0</td>\n",
              "      <td>1.0</td>\n",
              "      <td>2.0</td>\n",
              "      <td>2.0</td>\n",
              "      <td>2.0</td>\n",
              "      <td>...</td>\n",
              "      <td>0.630689</td>\n",
              "      <td>0.524850</td>\n",
              "      <td>0.592390</td>\n",
              "      <td>0.601628</td>\n",
              "      <td>0.499035</td>\n",
              "      <td>0.625573</td>\n",
              "      <td>0.611119</td>\n",
              "      <td>0.553398</td>\n",
              "      <td>0.611214</td>\n",
              "      <td>0.562487</td>\n",
              "    </tr>\n",
              "    <tr>\n",
              "      <th>4182</th>\n",
              "      <td>55</td>\n",
              "      <td>Male</td>\n",
              "      <td>2</td>\n",
              "      <td>0</td>\n",
              "      <td>0</td>\n",
              "      <td>1.0</td>\n",
              "      <td>0.0</td>\n",
              "      <td>2.0</td>\n",
              "      <td>1.0</td>\n",
              "      <td>1.0</td>\n",
              "      <td>...</td>\n",
              "      <td>0.513953</td>\n",
              "      <td>0.524850</td>\n",
              "      <td>0.592390</td>\n",
              "      <td>0.508355</td>\n",
              "      <td>0.727610</td>\n",
              "      <td>0.625573</td>\n",
              "      <td>0.611119</td>\n",
              "      <td>0.547305</td>\n",
              "      <td>0.547532</td>\n",
              "      <td>0.562487</td>\n",
              "    </tr>\n",
              "    <tr>\n",
              "      <th>11275</th>\n",
              "      <td>30</td>\n",
              "      <td>Male</td>\n",
              "      <td>3</td>\n",
              "      <td>0</td>\n",
              "      <td>4</td>\n",
              "      <td>2.0</td>\n",
              "      <td>3.0</td>\n",
              "      <td>3.0</td>\n",
              "      <td>3.0</td>\n",
              "      <td>2.0</td>\n",
              "      <td>...</td>\n",
              "      <td>0.494380</td>\n",
              "      <td>0.524850</td>\n",
              "      <td>0.466697</td>\n",
              "      <td>0.494380</td>\n",
              "      <td>0.700189</td>\n",
              "      <td>0.625573</td>\n",
              "      <td>0.611119</td>\n",
              "      <td>0.593775</td>\n",
              "      <td>0.581453</td>\n",
              "      <td>0.562487</td>\n",
              "    </tr>\n",
              "  </tbody>\n",
              "</table>\n",
              "<p>2537 rows × 31 columns</p>\n",
              "</div>\n",
              "      <button class=\"colab-df-convert\" onclick=\"convertToInteractive('df-dded5ac6-0b9e-456e-9fd9-00ccb98b4149')\"\n",
              "              title=\"Convert this dataframe to an interactive table.\"\n",
              "              style=\"display:none;\">\n",
              "        \n",
              "  <svg xmlns=\"http://www.w3.org/2000/svg\" height=\"24px\"viewBox=\"0 0 24 24\"\n",
              "       width=\"24px\">\n",
              "    <path d=\"M0 0h24v24H0V0z\" fill=\"none\"/>\n",
              "    <path d=\"M18.56 5.44l.94 2.06.94-2.06 2.06-.94-2.06-.94-.94-2.06-.94 2.06-2.06.94zm-11 1L8.5 8.5l.94-2.06 2.06-.94-2.06-.94L8.5 2.5l-.94 2.06-2.06.94zm10 10l.94 2.06.94-2.06 2.06-.94-2.06-.94-.94-2.06-.94 2.06-2.06.94z\"/><path d=\"M17.41 7.96l-1.37-1.37c-.4-.4-.92-.59-1.43-.59-.52 0-1.04.2-1.43.59L10.3 9.45l-7.72 7.72c-.78.78-.78 2.05 0 2.83L4 21.41c.39.39.9.59 1.41.59.51 0 1.02-.2 1.41-.59l7.78-7.78 2.81-2.81c.8-.78.8-2.07 0-2.86zM5.41 20L4 18.59l7.72-7.72 1.47 1.35L5.41 20z\"/>\n",
              "  </svg>\n",
              "      </button>\n",
              "      \n",
              "  <style>\n",
              "    .colab-df-container {\n",
              "      display:flex;\n",
              "      flex-wrap:wrap;\n",
              "      gap: 12px;\n",
              "    }\n",
              "\n",
              "    .colab-df-convert {\n",
              "      background-color: #E8F0FE;\n",
              "      border: none;\n",
              "      border-radius: 50%;\n",
              "      cursor: pointer;\n",
              "      display: none;\n",
              "      fill: #1967D2;\n",
              "      height: 32px;\n",
              "      padding: 0 0 0 0;\n",
              "      width: 32px;\n",
              "    }\n",
              "\n",
              "    .colab-df-convert:hover {\n",
              "      background-color: #E2EBFA;\n",
              "      box-shadow: 0px 1px 2px rgba(60, 64, 67, 0.3), 0px 1px 3px 1px rgba(60, 64, 67, 0.15);\n",
              "      fill: #174EA6;\n",
              "    }\n",
              "\n",
              "    [theme=dark] .colab-df-convert {\n",
              "      background-color: #3B4455;\n",
              "      fill: #D2E3FC;\n",
              "    }\n",
              "\n",
              "    [theme=dark] .colab-df-convert:hover {\n",
              "      background-color: #434B5C;\n",
              "      box-shadow: 0px 1px 3px 1px rgba(0, 0, 0, 0.15);\n",
              "      filter: drop-shadow(0px 1px 2px rgba(0, 0, 0, 0.3));\n",
              "      fill: #FFFFFF;\n",
              "    }\n",
              "  </style>\n",
              "\n",
              "      <script>\n",
              "        const buttonEl =\n",
              "          document.querySelector('#df-dded5ac6-0b9e-456e-9fd9-00ccb98b4149 button.colab-df-convert');\n",
              "        buttonEl.style.display =\n",
              "          google.colab.kernel.accessAllowed ? 'block' : 'none';\n",
              "\n",
              "        async function convertToInteractive(key) {\n",
              "          const element = document.querySelector('#df-dded5ac6-0b9e-456e-9fd9-00ccb98b4149');\n",
              "          const dataTable =\n",
              "            await google.colab.kernel.invokeFunction('convertToInteractive',\n",
              "                                                     [key], {});\n",
              "          if (!dataTable) return;\n",
              "\n",
              "          const docLinkHtml = 'Like what you see? Visit the ' +\n",
              "            '<a target=\"_blank\" href=https://colab.research.google.com/notebooks/data_table.ipynb>data table notebook</a>'\n",
              "            + ' to learn more about interactive tables.';\n",
              "          element.innerHTML = '';\n",
              "          dataTable['output_type'] = 'display_data';\n",
              "          await google.colab.output.renderOutput(dataTable, element);\n",
              "          const docLink = document.createElement('div');\n",
              "          docLink.innerHTML = docLinkHtml;\n",
              "          element.appendChild(docLink);\n",
              "        }\n",
              "      </script>\n",
              "    </div>\n",
              "  </div>\n",
              "  "
            ]
          },
          "metadata": {},
          "execution_count": 42
        }
      ]
    },
    {
      "cell_type": "code",
      "source": [
        "num_features_a = X_train_a.select_dtypes(['int64', 'float64']).columns\n",
        "cat_features_a = X_train_a.select_dtypes(['object']).columns\n",
        "num_transformer = Pipeline(steps=[\n",
        "    ('imputer', SimpleImputer(strategy='most_frequent')),\n",
        "    ('scaler', StandardScaler())\n",
        "])\n",
        "cat_transformer = OneHotEncoder()\n",
        "preprocessor_a = ColumnTransformer(transformers=[\n",
        "    ('num', num_transformer, num_features_a),\n",
        "    ('cat', cat_transformer, cat_features_a)\n",
        "])\n",
        "X_train_a = preprocessor_a.fit_transform(X_train_a)\n",
        "X_test_a = preprocessor_a.transform(X_test_a)"
      ],
      "metadata": {
        "id": "3DVpqGX4HYW7"
      },
      "execution_count": 43,
      "outputs": []
    },
    {
      "cell_type": "code",
      "source": [
        "y_train1=np.array(y_train)\n",
        "y_test1=np.array(y_test)"
      ],
      "metadata": {
        "id": "vbPrDYzY2tzA"
      },
      "execution_count": 44,
      "outputs": []
    },
    {
      "cell_type": "markdown",
      "source": [
        "##Evaluate Function \n",
        "#####(Common For All)"
      ],
      "metadata": {
        "id": "ak3gfACR37vc"
      }
    },
    {
      "cell_type": "code",
      "source": [
        "def evaluate(y, y_hat):\n",
        "\n",
        "      y = (y == 1)\n",
        "      y_hat = (y_hat == 1)\n",
        "      accuracy = (y == y_hat).sum() / y.size\n",
        "      recall = (y & y_hat).sum()/ y.sum()\n",
        "      precision = (y & y_hat).sum()/ y_hat.sum()\n",
        "\n",
        "      f_score = 2*(precision * recall)/(precision+recall)  \n",
        "      print(confusion_matrix(y, y_hat))     \n",
        "      return accuracy, recall, precision, f_score "
      ],
      "metadata": {
        "id": "HfMtrRxG218u"
      },
      "execution_count": 45,
      "outputs": []
    },
    {
      "cell_type": "markdown",
      "source": [
        "##Logistic Regression"
      ],
      "metadata": {
        "id": "Fr0fwT4R22aX"
      }
    },
    {
      "cell_type": "code",
      "source": [
        "class LogisticRegression:\n",
        "    def __init__(self, X_train, X_test, y_train, y_test, learningRate, tolerance, maxIteration) -> None:\n",
        "        self.X_train = X_train\n",
        "        self.y_train = y_train\n",
        "        self.X_test = X_test\n",
        "        self.y_test = y_test\n",
        "        self.learningRate = learningRate\n",
        "        self.tolerance = tolerance\n",
        "        self.maxIteration = maxIteration\n",
        "      \n",
        "    \n",
        "    def sigmoid(self, z):\n",
        "        sig = 1 / (1 + np.exp(-z))\n",
        "        return sig\n",
        "\n",
        "    def costFunction(self, X, y, i):\n",
        "        sig = self.sigmoid(X.dot(self.w))\n",
        "\n",
        "        if i == 1:\n",
        "            cost = (y * np.log(sig) + (1-y)*np.log(1-sig)).sum()\n",
        "            cost = -cost/X.shape[0]\n",
        "        else:\n",
        "\n",
        "            cost = np.log(np.ones(X.shape[0]) + \n",
        "                          np.exp(X.dot(self.w))) - X.dot(self.w)*y\n",
        "            cost = cost.sum()\n",
        "        return cost\n",
        "\n",
        "\n",
        "    def gradient(self, X,y):\n",
        "        sig = self.sigmoid(X.dot(self.w))\n",
        "        gradient = (sig - y).dot(X)\n",
        "        return gradient\n",
        "\n",
        "    def gradientDescent(self, X, y):\n",
        "        errors_list = []\n",
        "        last_error = float('inf')\n",
        "\n",
        "        for i in tqdm(range(self.maxIteration)):\n",
        "            #learning rate decay function\n",
        "            learningRate = self.learningRate/(1+i*2)\n",
        "            \n",
        "            self.w = self.w - self.learningRate* self.gradient(X,y)\n",
        "\n",
        "            current_error = self.costFunction(X,y, 2)\n",
        "            diff = last_error - current_error\n",
        "            last_error = current_error\n",
        "            errors_list.append(current_error)\n",
        "\n",
        "            if np.abs(diff) < self.tolerance:\n",
        "                print('Model has stopped learning')\n",
        "                break\n",
        "        \n",
        "        self.error_plot(errors_list)\n",
        "\n",
        "        \n",
        "        return\n",
        "\n",
        "    def predict(self, X):\n",
        "        sig = self.sigmoid(X.dot(self.w))\n",
        "        return np.around(sig)\n",
        "\n",
        "    def fit(self):\n",
        "        self.w = np.ones(self.X_train.shape[1], dtype = np.float64)*0\n",
        "\n",
        "        self.gradientDescent(self.X_train, self.y_train)\n",
        "        print(self.w)\n",
        "\n",
        "        y_train_hat = self.predict(self.X_train)\n",
        "        \n",
        "        f_score, recall, precision, accuracy = evaluate(self.y_train, y_train_hat)\n",
        "        print('F score of training data {} '.format(f_score))\n",
        "        print('Recall of training data {}'.format(recall))\n",
        "        print('Precision of training data {}'.format(precision))\n",
        "        print('Accuracy of training data {}'.format(accuracy))\n",
        "        \n",
        "        self.y_test_hat = self.predict(self.X_test)\n",
        "\n",
        "        f_score, recall, precision, accuracy = evaluate(self.y_test, self.y_test_hat)\n",
        "        print('F score of test data {} '.format(f_score))\n",
        "        print('Recall of test data {}'.format(recall))\n",
        "        print('Precision of test data {}'.format(precision))\n",
        "        print('Accuracy of test data {}'.format(accuracy))\n",
        "\n",
        "     \n",
        "\n",
        "    def error_plot(self, errors_list):\n",
        "\n",
        "\n",
        "      y_axis = errors_list\n",
        "      x_axis = list(range(0,len(errors_list)))\n",
        "\n",
        "            \n",
        "      fig, ax = plt.subplots()\n",
        "      ax.plot(x_axis,y_axis)\n",
        "            \n",
        "      ax.set (xlabel = 'Iterations', ylabel = 'Error')\n",
        "      plt.show()\n",
        "\n",
        "    \n",
        "    "
      ],
      "metadata": {
        "id": "-x5q5YNf2uJ5"
      },
      "execution_count": 46,
      "outputs": []
    },
    {
      "cell_type": "code",
      "source": [
        "reg = LogisticRegression(X_train_a, X_test_a, y_train, y_test, learningRate = 0.0001, tolerance = 0.00001, maxIteration = 25000)"
      ],
      "metadata": {
        "id": "ebHdID0L2ugB"
      },
      "execution_count": 47,
      "outputs": []
    },
    {
      "cell_type": "code",
      "source": [
        "startlr = time.perf_counter()\n",
        "reg.fit()\n",
        "endlr = time.perf_counter()\n",
        "\n",
        "print('Completed in', endlr - startlr)\n",
        "lr_timer = endlr - startlr"
      ],
      "metadata": {
        "colab": {
          "base_uri": "https://localhost:8080/",
          "height": 643
        },
        "id": "SyFoqst23Ca2",
        "outputId": "872aea43-6466-48de-d7e6-17ad72efc9be"
      },
      "execution_count": 48,
      "outputs": [
        {
          "output_type": "stream",
          "name": "stderr",
          "text": [
            " 43%|████▎     | 10777/25000 [00:48<01:04, 220.67it/s]\n"
          ]
        },
        {
          "output_type": "stream",
          "name": "stdout",
          "text": [
            "Model has stopped learning\n"
          ]
        },
        {
          "output_type": "display_data",
          "data": {
            "text/plain": [
              "<Figure size 432x288 with 1 Axes>"
            ],
            "image/png": "[encoded data removed]"
          },
          "metadata": {
            "needs_background": "light"
          }
        },
        {
          "output_type": "stream",
          "name": "stdout",
          "text": [
            "[ 0.04254039 -0.05628443 -0.01701358  0.01511054  0.25975449 -0.02932812\n",
            " -0.008126    0.11679783 -0.02343402  0.4317585   0.02555219  0.62238826\n",
            "  0.13529801 -0.02009821  1.31847569  0.04921831 -0.01193673 -0.06034584\n",
            " -0.28971289 -0.13335064  0.15770812 -0.44736205  0.09173054  0.58076585\n",
            " -0.92563148  0.05364372  0.10616287  0.15724446 -0.13025941  0.08265132\n",
            "  0.23819354  0.16263103  0.15821383]\n",
            "[[2507 1889]\n",
            " [1365 4386]]\n",
            "F score of training data 0.6793140829801911 \n",
            "Recall of training data 0.7626499739175796\n",
            "Precision of training data 0.6989641434262949\n",
            "Accuracy of training data 0.7294195908864127\n",
            "[[ 624  454]\n",
            " [ 346 1113]]\n",
            "F score of test data 0.6846669294442255 \n",
            "Recall of test data 0.7628512679917752\n",
            "Precision of test data 0.7102744097000638\n",
            "Accuracy of test data 0.735624586913417\n",
            "Completed in 49.10513191300001\n"
          ]
        }
      ]
    },
    {
      "cell_type": "markdown",
      "source": [
        "##ROC/AUC"
      ],
      "metadata": {
        "id": "UDV7adfE3GDc"
      }
    },
    {
      "cell_type": "code",
      "source": [
        "from sklearn.metrics import roc_auc_score\n",
        "from sklearn.metrics import roc_curve\n",
        "logit_roc_auc = roc_auc_score(y_test, reg.predict(X_test_a))\n",
        "fpr, tpr, thresholds = roc_curve(y_test, reg.predict(X_test_a)[:])\n",
        "plt.figure()\n",
        "plt.plot(fpr, tpr, label='Logistic Regression (area = %0.2f)' % logit_roc_auc)\n",
        "plt.plot([0, 1], [0, 1])\n",
        "plt.xlim([0.0, 1.0])\n",
        "plt.ylim([0.0, 1.05])\n",
        "plt.xlabel('False Positive Rate')\n",
        "plt.ylabel('True Positive Rate')\n",
        "plt.title('Receiver operating characteristic')\n",
        "plt.legend(loc=\"lower right\")\n",
        "plt.show()"
      ],
      "metadata": {
        "colab": {
          "base_uri": "https://localhost:8080/",
          "height": 295
        },
        "id": "b1GhqWOY2u3_",
        "outputId": "de93360d-7fa7-4015-ab19-bd1b74242106"
      },
      "execution_count": 49,
      "outputs": [
        {
          "output_type": "display_data",
          "data": {
            "text/plain": [
              "<Figure size 432x288 with 1 Axes>"
            ],
            "image/png": "[encoded data removed]"
          },
          "metadata": {
            "needs_background": "light"
          }
        }
      ]
    },
    {
      "cell_type": "markdown",
      "source": [
        "##Gaussian Naive Bayes"
      ],
      "metadata": {
        "id": "Fb6hc8Mo5I36"
      }
    },
    {
      "cell_type": "code",
      "source": [
        "class GaussianNaiveBayes:\n",
        "    def __init__(self, X_train, y_train, X_test, y_test):\n",
        "        self.X_train = X_train\n",
        "        self.y_train = y_train\n",
        "        self.X_test = X_test\n",
        "        self.y_test = y_test\n",
        "\n",
        "    def distribution(self, data):\n",
        "        mean = np.mean(data)\n",
        "        std = np.std(data)\n",
        "        dist = norm(mean, std)\n",
        "        \n",
        "        return dist\n",
        "\n",
        "    def probability(self, X, prior, probfor):\n",
        "        prob = prior\n",
        "        if probfor == 0:\n",
        "            for i in range(self.X0_train.shape[1]):\n",
        "                prob *= self.dist_X0[i].pdf(X[i])\n",
        "        else:\n",
        "            for i in range(self.X1_train.shape[1]):\n",
        "                prob *= self.dist_X1[i].pdf(X[i])\n",
        "        return prob\n",
        "\n",
        "    def fit(self):\n",
        "        \n",
        "        self.X0_train = self.X_train[self.y_train == 0]\n",
        "        self.X1_train = self.X_train[self.y_train == 1]\n",
        "\n",
        "        self.prior0 = len(self.X0_train)/len(self.X_train)\n",
        "        self.prior1 = len(self.X1_train)/len(self.X_train)\n",
        "\n",
        "        self.dist_X0 = dict()\n",
        "        self.dist_X1 = dict()\n",
        "\n",
        "        for i in range(self.X0_train.shape[1]):\n",
        "            \n",
        "            self.dist_X0[i] = self.distribution(self.X0_train[i])\n",
        "            self.dist_X1[i] = self.distribution(self.X1_train[i])\n",
        "      \n",
        "    def predict(self):\n",
        "        self.predictions = []\n",
        "        for sample, target in zip(self.X_train, self.y_train):\n",
        "            prob0 = self.probability(sample, self.prior0, 0)\n",
        "            prob1 = self.probability(sample, self.prior1, 1)\n",
        "\n",
        "            self.predictions.append(np.argmax([prob0, prob1]))\n",
        "\n",
        "        f_score, recall, precision, accuracy = evaluate(self.y_train, np.array(self.predictions))\n",
        "        print('For Training Data')\n",
        "        print('F1 score of train data {}'.format(f_score))\n",
        "        print('Recall of train data {}'.format(recall))\n",
        "        print('Precision of train data {}'.format(precision))\n",
        "        print('Accuracy of train data {}'.format(accuracy))\n",
        "        \n",
        "        self.predictions = []\n",
        "        for sample, target in zip(self.X_test, self.y_test):\n",
        "            prob0 = self.probability(sample, self.prior0, 0)\n",
        "            prob1 = self.probability(sample, self.prior1, 1)\n",
        "\n",
        "            self.predictions.append(np.argmax([prob0, prob1]))\n",
        "\n",
        "        f_score, recall, precision, accuracy = evaluate(self.y_test, np.array(self.predictions))\n",
        "        print('For Test Data')\n",
        "        print('F1 score of test data {}'.format(f_score))\n",
        "        print('Recall of test data {}'.format(recall))\n",
        "        print('Precision of test data {}'.format(precision))\n",
        "        print('Accuracy of test data {}'.format(accuracy))"
      ],
      "metadata": {
        "id": "ZOEb8oRX5LLb"
      },
      "execution_count": 50,
      "outputs": []
    },
    {
      "cell_type": "code",
      "source": [
        "nb = GaussianNaiveBayes(X_train_a, y_train1, X_test_a, y_test1)"
      ],
      "metadata": {
        "id": "Idnu4MIs5NAU"
      },
      "execution_count": 51,
      "outputs": []
    },
    {
      "cell_type": "code",
      "source": [
        "startnb = time.perf_counter()\n",
        "\n",
        "nb.fit()\n",
        "nb.predict()\n",
        "\n",
        "endnb = time.perf_counter()\n",
        "\n",
        "print('Completed in', endnb - startnb)\n",
        "\n",
        "nb_timer = endnb - startnb"
      ],
      "metadata": {
        "colab": {
          "base_uri": "https://localhost:8080/"
        },
        "id": "ePNj-43r5RMc",
        "outputId": "a487a2f9-b9f2-4aa2-b976-1a34c9783e21"
      },
      "execution_count": 52,
      "outputs": [
        {
          "output_type": "stream",
          "name": "stdout",
          "text": [
            "[[2270 2126]\n",
            " [2322 3429]]\n",
            "For Training Data\n",
            "F1 score of train data 0.5616438356164384\n",
            "Recall of train data 0.596244131455399\n",
            "Precision of train data 0.6172817281728172\n",
            "Accuracy of train data 0.6065805766849459\n",
            "[[527 551]\n",
            " [584 875]]\n",
            "For Test Data\n",
            "F1 score of test data 0.5526212061489949\n",
            "Recall of test data 0.5997258396161754\n",
            "Precision of test data 0.6136044880785414\n",
            "Accuracy of test data 0.6065857885615251\n",
            "Completed in 177.20429227200003\n"
          ]
        }
      ]
    },
    {
      "cell_type": "markdown",
      "source": [
        "## SVM"
      ],
      "metadata": {
        "id": "pVB4o6kQ6TfE"
      }
    },
    {
      "cell_type": "code",
      "source": [
        "class SVM():\n",
        "    def __init__(self, max_iter=100, C=1.0, epsilon=0.001):\n",
        "        self.max_iter = max_iter\n",
        "        self.C = C\n",
        "        self.epsilon = epsilon\n",
        "    def fit(self, X, y):\n",
        "        n, d = X.shape[0], X.shape[1]\n",
        "        alpha = np.zeros((n))\n",
        "        count = 0\n",
        "        while True:\n",
        "            count += 1\n",
        "            alpha_prev = np.copy(alpha)\n",
        "            for j in range(0, n):\n",
        "                i = self.get_rnd_int(0, n-1, j)\n",
        "                x_i, x_j, y_i, y_j = X[i,:], X[j,:], y[i], y[j]\n",
        "                k_ij = -2 * self.kernel(x_i, x_j) + self.kernel(x_i, x_i) + self.kernel(x_j, x_j)\n",
        "                if k_ij == 0:\n",
        "                    continue\n",
        "                alpha_prime_j, alpha_prime_i = alpha[j], alpha[i]\n",
        "                (L, H) = self.compute_L_H(self.C, alpha_prime_j, alpha_prime_i, y_j, y_i)\n",
        "\n",
        "                self.w = self.calc_w(alpha, y, X)\n",
        "                self.b = self.calc_b(X, y, self.w)\n",
        "\n",
        "                E_i = self.E(x_i, y_i, self.w, self.b)\n",
        "                E_j = self.E(x_j, y_j, self.w, self.b)\n",
        "\n",
        "                alpha[j] = alpha_prime_j + float(y_j * (E_i - E_j))/k_ij\n",
        "                alpha[j] = max(alpha[j], L)\n",
        "                alpha[j] = min(alpha[j], H)\n",
        "\n",
        "                alpha[i] = alpha_prime_i + y_i*y_j * (alpha_prime_j - alpha[j])\n",
        "            # Check convergence\n",
        "            diff = np.linalg.norm(alpha - alpha_prev)\n",
        "            if diff < self.epsilon:\n",
        "                break\n",
        "            \n",
        "            if count >= self.max_iter:\n",
        "                print(\"The max of %d iterations has been reached\" % (self.max_iter))\n",
        "                self.support_vectors = X[np.where(alpha > 0)[0], :]\n",
        "                return\n",
        "        self.b = self.calc_b(X, y, self.w)\n",
        "        self.w = self.calc_w(alpha, y, X)\n",
        "\n",
        "        # Get support vectors\n",
        "        alpha_idx = np.where(alpha > 0)[0]\n",
        "        self.support_vectors = X[alpha_idx, :]\n",
        "        return self.support_vectors, count\n",
        "    def getsupportvectors(self):\n",
        "        return self.support_vectors\n",
        "    def predict(self, X):\n",
        "        return self.h(X, self.w, self.b)\n",
        "    def getcoeffintercept(self):\n",
        "        return self.w, self.b\n",
        "    def calc_b(self, X, y, w):\n",
        "        b_tmp = y - np.dot(w.T, X.T)\n",
        "        return np.mean(b_tmp)\n",
        "    def calc_w(self, alpha, y, X):\n",
        "        return np.dot(X.T, np.multiply(alpha,y))\n",
        "    def h(self, X, w, b):\n",
        "        return np.sign(np.dot(w.T, X.T) + b).astype(int)\n",
        "    def E(self, x_k, y_k, w, b):\n",
        "        return self.h(x_k, w, b) - y_k\n",
        "    def compute_L_H(self, C, alpha_prime_j, alpha_prime_i, y_j, y_i):\n",
        "        if(y_i != y_j):\n",
        "            return (max(0, alpha_prime_j - alpha_prime_i), min(C, C - alpha_prime_i + alpha_prime_j))\n",
        "        else:\n",
        "            return (max(0, alpha_prime_i + alpha_prime_j - C), min(C, alpha_prime_i + alpha_prime_j))\n",
        "    def get_rnd_int(self, a,b,z):\n",
        "        i = z\n",
        "        cnt=0\n",
        "        while i == z and cnt<1000:\n",
        "            i = rnd.randint(a,b)\n",
        "            cnt=cnt+1\n",
        "        return i\n",
        "    def kernel(self, x1, x2):\n",
        "        return np.dot(x1, x2.T)\n",
        "    def predict_proba(self, X):\n",
        "        return np.dot(self.w.T, X.T) + self.b"
      ],
      "metadata": {
        "id": "rZJN8xe66U4z"
      },
      "execution_count": 53,
      "outputs": []
    },
    {
      "cell_type": "code",
      "source": [
        "startsvm = time.perf_counter()\n",
        "\n",
        "\n",
        "model = SVM(max_iter=20, C=1.0, epsilon=0.00001)\n",
        "y_train_svm = []\n",
        "y_test_svm = []\n",
        "for i in range(len(y_train1)):\n",
        "    if(y_train1[i] == 0):\n",
        "      y_train_svm.append(-1)\n",
        "    else:\n",
        "      y_train_svm.append(1)\n",
        "\n",
        "for i in range(len(y_test1)):\n",
        "    if(y_test1[i] == 0):\n",
        "      y_test_svm.append(-1)\n",
        "    else:\n",
        "      y_test_svm.append(1)\n",
        "\n",
        "y_train_svm = np.asarray(y_train_svm)\n",
        "y_test_svm = np.asarray(y_test_svm)\n",
        "\n",
        "model.fit(X_train_a, y_train_svm)\n",
        "\n",
        "Y_predicted = [model.predict(x) for x in X_train_a]\n",
        "f_score, recall, precision, accuracy = evaluate(y_train_svm, np.array(Y_predicted))\n",
        "print('F1 score of train data {}'.format(f_score))\n",
        "print('Recall of train data {}'.format(recall))\n",
        "print('Precision of train data {}'.format(precision))\n",
        "print('Accuracy of train data {}'.format(accuracy))\n",
        "\n",
        "Y_predicted = [model.predict(x) for x in X_test_a]\n",
        "f_score, recall, precision, accuracy = evaluate(y_test_svm, np.array(Y_predicted))\n",
        "print('F1 score of test data {}'.format(f_score))\n",
        "print('Recall of test data {}'.format(recall))\n",
        "print('Precision of test data {}'.format(precision))\n",
        "print('Accuracy of test data {}'.format(accuracy))\n",
        "\n",
        "endsvm = time.perf_counter()\n",
        "\n",
        "print('Completed in', endsvm - startsvm)\n",
        "svm_timer = endsvm - startsvm"
      ],
      "metadata": {
        "colab": {
          "base_uri": "https://localhost:8080/"
        },
        "id": "-u3R0EAA6ZGq",
        "outputId": "e2859714-4d8f-48ec-b3d7-d76d4ded9eae"
      },
      "execution_count": 54,
      "outputs": [
        {
          "output_type": "stream",
          "name": "stdout",
          "text": [
            "The max of 20 iterations has been reached\n",
            "[[2517 1879]\n",
            " [2121 3630]]\n",
            "F1 score of train data 0.6057948162018331\n",
            "Recall of train data 0.6311945748565467\n",
            "Precision of train data 0.658921764385551\n",
            "Accuracy of train data 0.6447602131438721\n",
            "[[635 443]\n",
            " [534 925]]\n",
            "F1 score of test data 0.6148994875837603\n",
            "Recall of test data 0.6339958875942426\n",
            "Precision of test data 0.6761695906432749\n",
            "Accuracy of test data 0.6544039617969579\n",
            "Completed in 201.29620367300004\n"
          ]
        }
      ]
    },
    {
      "cell_type": "markdown",
      "source": [
        "##KNN"
      ],
      "metadata": {
        "id": "7kJigGx47C-d"
      }
    },
    {
      "cell_type": "code",
      "execution_count": 55,
      "metadata": {
        "id": "8r8XURFjaMff"
      },
      "outputs": [],
      "source": [
        "import numpy as np\n",
        "from scipy.stats import mode\n",
        " \n",
        "def eucledian(d1,d2):\n",
        "    dis = np.sqrt(np.sum((d1-d2)**2))\n",
        "    return dis\n",
        " \n",
        "\n",
        "def predictKNN(X_train, y , X_input, k):\n",
        "    op_labels = []\n",
        "     \n",
        "\n",
        "    for item in X_input: \n",
        "         \n",
        "        p_dist = []\n",
        "         \n",
        "        for j in range(len(X_train)): \n",
        "            distances = eucledian(np.array(X_train[j,:]) , item) \n",
        "            p_dist.append(distances) \n",
        "        p_dist = np.array(p_dist) \n",
        "         \n",
        "        dist = np.argsort(p_dist)[:k] \n",
        "         \n",
        "        labels = y[dist]\n",
        "         \n",
        "        lab = mode(labels) \n",
        "        lab = lab.mode[0]\n",
        "        op_labels.append(lab)\n",
        " \n",
        "    return op_labels"
      ]
    },
    {
      "cell_type": "code",
      "execution_count": 56,
      "metadata": {
        "id": "PDyYmkMZaMYe",
        "colab": {
          "base_uri": "https://localhost:8080/"
        },
        "outputId": "330a9ec8-fbd6-4306-eb47-8032c0235731"
      },
      "outputs": [
        {
          "output_type": "stream",
          "name": "stdout",
          "text": [
            "[[114 232]\n",
            " [203 451]]\n",
            "F1 score of train data 0.565\n",
            "Recall of train data 0.6896024464831805\n",
            "Precision of train data 0.6603221083455344\n",
            "Accuracy of train data 0.674644727000748\n",
            "[[154 264]\n",
            " [163 419]]\n",
            "F1 score of test data 0.573\n",
            "Recall of test data 0.7199312714776632\n",
            "Precision of test data 0.6134699853587116\n",
            "Accuracy of test data 0.6624505928853756\n",
            "Completed in 35.40986431400006\n"
          ]
        }
      ],
      "source": [
        "startknn = time.perf_counter()\n",
        "\n",
        "\n",
        "from numpy.random import randint\n",
        " \n",
        "\n",
        "idx = randint(0,150,1000)\n",
        "X_train_sam = X_train_a[idx]\n",
        "y_train_sam = y_train1[idx]\n",
        "\n",
        "X_test_sam = X_test_a[idx]\n",
        "y_test_sam = y_test1[idx]\n",
        " \n",
        "y_pred = predictKNN(X_train_sam,y_train_sam,X_test_sam , 14)\n",
        "\n",
        "f_score, recall, precision, accuracy = evaluate(y_train_sam, np.array(y_pred).astype('int64'))\n",
        "print('F1 score of train data {}'.format(f_score))\n",
        "print('Recall of train data {}'.format(recall))\n",
        "print('Precision of train data {}'.format(precision))\n",
        "print('Accuracy of train data {}'.format(accuracy))\n",
        "\n",
        "\n",
        "f_score, recall, precision, accuracy = evaluate(y_test_sam, np.array(y_pred).astype('int64'))\n",
        "print('F1 score of test data {}'.format(f_score))\n",
        "print('Recall of test data {}'.format(recall))\n",
        "print('Precision of test data {}'.format(precision))\n",
        "print('Accuracy of test data {}'.format(accuracy))\n",
        "\n",
        "\n",
        "endknn = time.perf_counter()\n",
        "\n",
        "print('Completed in', endknn - startknn)\n",
        "\n",
        "knn_timer = endknn - startknn"
      ]
    },
    {
      "cell_type": "markdown",
      "source": [
        "##NN"
      ],
      "metadata": {
        "id": "oJ07qP78JbZp"
      }
    },
    {
      "cell_type": "code",
      "source": [
        "#importing libraries\n",
        "import tensorflow as tf\n",
        "from tensorflow import keras\n",
        "from keras.models import Sequential\n",
        "from keras.layers import Dense"
      ],
      "metadata": {
        "id": "nJ-l2WAXJZLa"
      },
      "execution_count": 57,
      "outputs": []
    },
    {
      "cell_type": "code",
      "source": [
        "#Defining our sequential model\n",
        "nn = Sequential()\n",
        "\n",
        "#\n",
        "nn.add(Dense(64, input_shape=(X_train_a.shape[1],), activation='relu',kernel_regularizer=keras.regularizers.l2(0.01)))\n",
        "nn.add(Dense(32, activation='relu'))\n",
        "nn.add(Dense(16, activation='sigmoid'))\n",
        "nn.add(Dense(1))\n",
        "\n",
        "nn.summary()"
      ],
      "metadata": {
        "colab": {
          "base_uri": "https://localhost:8080/"
        },
        "id": "lmr5dipKJd0_",
        "outputId": "dbb9c457-a171-4b64-943a-ad7b331c1632"
      },
      "execution_count": 58,
      "outputs": [
        {
          "output_type": "stream",
          "name": "stdout",
          "text": [
            "Model: \"sequential\"\n",
            "_________________________________________________________________\n",
            " Layer (type)                Output Shape              Param #   \n",
            "=================================================================\n",
            " dense (Dense)               (None, 64)                2176      \n",
            "                                                                 \n",
            " dense_1 (Dense)             (None, 32)                2080      \n",
            "                                                                 \n",
            " dense_2 (Dense)             (None, 16)                528       \n",
            "                                                                 \n",
            " dense_3 (Dense)             (None, 1)                 17        \n",
            "                                                                 \n",
            "=================================================================\n",
            "Total params: 4,801\n",
            "Trainable params: 4,801\n",
            "Non-trainable params: 0\n",
            "_________________________________________________________________\n"
          ]
        }
      ]
    },
    {
      "cell_type": "code",
      "source": [
        "nn.compile(optimizer='adam',loss = tf.keras.losses.BinaryCrossentropy(from_logits=True), metrics=['accuracy'])"
      ],
      "metadata": {
        "id": "w6zTUXYbJjgp"
      },
      "execution_count": 59,
      "outputs": []
    },
    {
      "cell_type": "code",
      "source": [
        "startnn = time.perf_counter()\n",
        "\n",
        "EPOCHS = 20\n",
        "BATCH_SIZE = 10\n",
        "history = nn.fit(X_train_a, y_train1, validation_data=(X_test_a, y_test1), epochs=EPOCHS, batch_size=BATCH_SIZE)\n",
        "\n",
        "\n",
        "\n",
        "endnn = time.perf_counter()\n",
        "\n",
        "print('Completed in', endnn - startnn)\n",
        "\n",
        "nn_timer = endnn - startnn"
      ],
      "metadata": {
        "colab": {
          "base_uri": "https://localhost:8080/"
        },
        "id": "KnlIjQ1RJl7S",
        "outputId": "6f6e5d6f-32ed-4214-e242-e8f05ff4b317"
      },
      "execution_count": 60,
      "outputs": [
        {
          "output_type": "stream",
          "name": "stdout",
          "text": [
            "Epoch 1/20\n",
            "1015/1015 [==============================] - 4s 3ms/step - loss: 0.6861 - accuracy: 0.6262 - val_loss: 0.6121 - val_accuracy: 0.6460\n",
            "Epoch 2/20\n",
            "1015/1015 [==============================] - 3s 3ms/step - loss: 0.6090 - accuracy: 0.6681 - val_loss: 0.5878 - val_accuracy: 0.6941\n",
            "Epoch 3/20\n",
            "1015/1015 [==============================] - 3s 3ms/step - loss: 0.5950 - accuracy: 0.6789 - val_loss: 0.5861 - val_accuracy: 0.6795\n",
            "Epoch 4/20\n",
            "1015/1015 [==============================] - 3s 3ms/step - loss: 0.5885 - accuracy: 0.6862 - val_loss: 0.5721 - val_accuracy: 0.7044\n",
            "Epoch 5/20\n",
            "1015/1015 [==============================] - 3s 3ms/step - loss: 0.5854 - accuracy: 0.6891 - val_loss: 0.5749 - val_accuracy: 0.6819\n",
            "Epoch 6/20\n",
            "1015/1015 [==============================] - 3s 3ms/step - loss: 0.5803 - accuracy: 0.6964 - val_loss: 0.5735 - val_accuracy: 0.7186\n",
            "Epoch 7/20\n",
            "1015/1015 [==============================] - 3s 3ms/step - loss: 0.5759 - accuracy: 0.7001 - val_loss: 0.5677 - val_accuracy: 0.6981\n",
            "Epoch 8/20\n",
            "1015/1015 [==============================] - 3s 3ms/step - loss: 0.5759 - accuracy: 0.7018 - val_loss: 0.5746 - val_accuracy: 0.6926\n",
            "Epoch 9/20\n",
            "1015/1015 [==============================] - 3s 3ms/step - loss: 0.5715 - accuracy: 0.7065 - val_loss: 0.5679 - val_accuracy: 0.7063\n",
            "Epoch 10/20\n",
            "1015/1015 [==============================] - 5s 5ms/step - loss: 0.5697 - accuracy: 0.7076 - val_loss: 0.5647 - val_accuracy: 0.7241\n",
            "Epoch 11/20\n",
            "1015/1015 [==============================] - 5s 5ms/step - loss: 0.5655 - accuracy: 0.7115 - val_loss: 0.5772 - val_accuracy: 0.7012\n",
            "Epoch 12/20\n",
            "1015/1015 [==============================] - 5s 5ms/step - loss: 0.5660 - accuracy: 0.7090 - val_loss: 0.5744 - val_accuracy: 0.7052\n",
            "Epoch 13/20\n",
            "1015/1015 [==============================] - 5s 5ms/step - loss: 0.5627 - accuracy: 0.7159 - val_loss: 0.5716 - val_accuracy: 0.6945\n",
            "Epoch 14/20\n",
            "1015/1015 [==============================] - 3s 3ms/step - loss: 0.5616 - accuracy: 0.7166 - val_loss: 0.5786 - val_accuracy: 0.6933\n",
            "Epoch 15/20\n",
            "1015/1015 [==============================] - 3s 3ms/step - loss: 0.5605 - accuracy: 0.7140 - val_loss: 0.5639 - val_accuracy: 0.7205\n",
            "Epoch 16/20\n",
            "1015/1015 [==============================] - 5s 5ms/step - loss: 0.5592 - accuracy: 0.7167 - val_loss: 0.5722 - val_accuracy: 0.7339\n",
            "Epoch 17/20\n",
            "1015/1015 [==============================] - 3s 3ms/step - loss: 0.5575 - accuracy: 0.7183 - val_loss: 0.5669 - val_accuracy: 0.7099\n",
            "Epoch 18/20\n",
            "1015/1015 [==============================] - 3s 3ms/step - loss: 0.5562 - accuracy: 0.7214 - val_loss: 0.5663 - val_accuracy: 0.7162\n",
            "Epoch 19/20\n",
            "1015/1015 [==============================] - 3s 3ms/step - loss: 0.5531 - accuracy: 0.7177 - val_loss: 0.5773 - val_accuracy: 0.7178\n",
            "Epoch 20/20\n",
            "1015/1015 [==============================] - 3s 3ms/step - loss: 0.5549 - accuracy: 0.7149 - val_loss: 0.5780 - val_accuracy: 0.6996\n",
            "Completed in 83.16790960000003\n"
          ]
        }
      ]
    },
    {
      "cell_type": "markdown",
      "source": [
        "Plotting epoch vs accuracy/loss"
      ],
      "metadata": {
        "id": "bsujicr7J_17"
      }
    },
    {
      "cell_type": "code",
      "source": [
        "plt.plot(history.history['accuracy'])\n",
        "plt.plot(history.history['val_accuracy'])\n",
        "plt.title('Model Accuracy')\n",
        "plt.ylabel('accuracy')\n",
        "plt.xlabel('epoch')\n",
        "plt.legend(['train', 'test'], loc='upper left')\n",
        "plt.show()\n",
        "\n",
        "plt.plot(history.history['loss'])\n",
        "plt.plot(history.history['val_loss'])\n",
        "plt.title('Model Loss')\n",
        "plt.ylabel('loss')\n",
        "plt.xlabel('epoch')\n",
        "plt.legend(['train', 'test'], loc='upper left')\n",
        "plt.show()"
      ],
      "metadata": {
        "colab": {
          "base_uri": "https://localhost:8080/",
          "height": 573
        },
        "id": "Uc_SgwbqKBOe",
        "outputId": "6624f30e-9730-44cb-9727-cbfd1ff5a47a"
      },
      "execution_count": 61,
      "outputs": [
        {
          "output_type": "display_data",
          "data": {
            "text/plain": [
              "<Figure size 432x288 with 1 Axes>"
            ],
            "image/png": "[encoded data removed]"
          },
          "metadata": {
            "needs_background": "light"
          }
        },
        {
          "output_type": "display_data",
          "data": {
            "text/plain": [
              "<Figure size 432x288 with 1 Axes>"
            ],
            "image/png": "[encoded data removed]"
          },
          "metadata": {
            "needs_background": "light"
          }
        }
      ]
    },
    {
      "cell_type": "code",
      "source": [
        "nn_accuracy = max(history.history['accuracy'])\n",
        "nn_accuracy"
      ],
      "metadata": {
        "colab": {
          "base_uri": "https://localhost:8080/"
        },
        "id": "Dmt6TvPbKJCc",
        "outputId": "6dd42b05-26da-44aa-c69e-ed793ff28232"
      },
      "execution_count": 62,
      "outputs": [
        {
          "output_type": "execute_result",
          "data": {
            "text/plain": [
              "0.7213954925537109"
            ]
          },
          "metadata": {},
          "execution_count": 62
        }
      ]
    },
    {
      "cell_type": "code",
      "source": [
        "nn_accuracy_test = max(history.history['val_accuracy'])\n",
        "nn_accuracy_test"
      ],
      "metadata": {
        "colab": {
          "base_uri": "https://localhost:8080/"
        },
        "id": "eCnuhLkpKKHw",
        "outputId": "f28added-34b0-48a6-bc74-031d35aabd30"
      },
      "execution_count": 63,
      "outputs": [
        {
          "output_type": "execute_result",
          "data": {
            "text/plain": [
              "0.7339377403259277"
            ]
          },
          "metadata": {},
          "execution_count": 63
        }
      ]
    },
    {
      "cell_type": "code",
      "source": [
        "from sklearn.metrics import roc_auc_score\n",
        "from sklearn.metrics import roc_curve\n",
        "logit_roc_auc = roc_auc_score(y_test, nn.predict(X_test_a))\n",
        "fpr, tpr, thresholds = roc_curve(y_test, nn.predict(X_test_a)[:])\n",
        "plt.figure()\n",
        "plt.plot(fpr, tpr, label='Logistic Regression (area = %0.2f)' % logit_roc_auc)\n",
        "plt.plot([0, 1], [0, 1])\n",
        "plt.xlim([0.0, 1.0])\n",
        "plt.ylim([0.0, 1.05])\n",
        "plt.xlabel('False Positive Rate')\n",
        "plt.ylabel('True Positive Rate')\n",
        "plt.title('Receiver operating characteristic')\n",
        "plt.legend(loc=\"lower right\")\n",
        "plt.show()"
      ],
      "metadata": {
        "colab": {
          "base_uri": "https://localhost:8080/",
          "height": 295
        },
        "id": "qXSDiRmZUZ17",
        "outputId": "67359dd2-331f-471d-d318-89e798254511"
      },
      "execution_count": 64,
      "outputs": [
        {
          "output_type": "display_data",
          "data": {
            "text/plain": [
              "<Figure size 432x288 with 1 Axes>"
            ],
            "image/png": "[encoded data removed]"
          },
          "metadata": {
            "needs_background": "light"
          }
        }
      ]
    },
    {
      "cell_type": "markdown",
      "source": [
        "##Approach B"
      ],
      "metadata": {
        "id": "XwPjqKx3Ijk2"
      }
    },
    {
      "cell_type": "code",
      "source": [
        "X_train_b = X_train.copy()\n",
        "X_test_b = X_test.copy()\n"
      ],
      "metadata": {
        "id": "G2gIrLVOIo7Q"
      },
      "execution_count": 65,
      "outputs": []
    },
    {
      "cell_type": "code",
      "source": [
        "num_features_b = X_train_b.select_dtypes(['int64', 'float64']).columns\n",
        "cat_features_b = X_train_b.select_dtypes(['object']).columns\n",
        "\n",
        "preprocessor_b = ColumnTransformer(transformers=[\n",
        "    ('num', num_transformer, num_features_b),\n",
        "    ('cat', cat_transformer, cat_features_b)\n",
        "])\n",
        "X_train_b = preprocessor_b.fit_transform(X_train_b)\n",
        "X_test_b = preprocessor_b.transform(X_test_b)"
      ],
      "metadata": {
        "id": "VSfkZBqiIfKa"
      },
      "execution_count": 66,
      "outputs": []
    },
    {
      "cell_type": "code",
      "source": [
        "X_train_b, X_test_b=X_train_b.toarray(),X_test_b.toarray()\n"
      ],
      "metadata": {
        "id": "TVPJYEILIn5V"
      },
      "execution_count": 67,
      "outputs": []
    },
    {
      "cell_type": "code",
      "source": [
        ""
      ],
      "metadata": {
        "id": "1SuIa-pY9M-H"
      },
      "execution_count": 67,
      "outputs": []
    },
    {
      "cell_type": "markdown",
      "source": [
        "##Logistic Regression"
      ],
      "metadata": {
        "id": "p4_GJd7VrPdL"
      }
    },
    {
      "cell_type": "code",
      "source": [
        "reg2 = LogisticRegression(X_train_b, X_test_b, y_train, y_test, learningRate = 0.0001, tolerance = 0.00001, maxIteration = 25000)"
      ],
      "metadata": {
        "id": "mZQcxilW9dSA"
      },
      "execution_count": 68,
      "outputs": []
    },
    {
      "cell_type": "code",
      "source": [
        ""
      ],
      "metadata": {
        "id": "wtN7ATeU9_wR"
      },
      "execution_count": 68,
      "outputs": []
    },
    {
      "cell_type": "code",
      "source": [
        "startlr2 = time.perf_counter()\n",
        "reg2.fit()\n",
        "endlr2 = time.perf_counter()\n",
        "\n",
        "print('Completed in', endlr2 - startlr2)\n",
        "lr_timer2 = endlr2 - startlr2"
      ],
      "metadata": {
        "colab": {
          "base_uri": "https://localhost:8080/",
          "height": 869
        },
        "outputId": "39c6bc4e-daac-4d2b-aa3c-dfed04140f3c",
        "id": "1DlnbEw2-NtK"
      },
      "execution_count": 69,
      "outputs": [
        {
          "output_type": "stream",
          "name": "stderr",
          "text": [
            " 12%|█▏        | 2912/25000 [00:25<03:11, 115.50it/s]\n"
          ]
        },
        {
          "output_type": "stream",
          "name": "stdout",
          "text": [
            "Model has stopped learning\n"
          ]
        },
        {
          "output_type": "display_data",
          "data": {
            "text/plain": [
              "<Figure size 432x288 with 1 Axes>"
            ],
            "image/png": "[encoded data removed]"
          },
          "metadata": {
            "needs_background": "light"
          }
        },
        {
          "output_type": "stream",
          "name": "stdout",
          "text": [
            "[ 6.97249842e-03 -4.99522721e-02 -3.19204287e-03  1.47802537e-02\n",
            "  2.86087224e-01 -3.92660583e-02 -1.91748202e-04  1.12368105e-01\n",
            "  9.35550208e-03 -2.61439909e-01  4.20428206e-01 -1.25002003e-01\n",
            " -2.27822014e-02  1.91119036e-01 -3.88748465e-01  2.54397923e-01\n",
            " -2.94029106e-02 -2.74175945e-01  3.37565148e-01  3.96977793e-02\n",
            " -1.66525628e-01  1.58835044e-02  2.69932641e-01 -1.25002003e-01\n",
            " -7.63916954e-01  7.99006480e-01 -2.72188903e-01 -4.27685066e-01\n",
            "  6.98770736e-01  4.35967989e-01 -4.01981696e-01 -6.20535515e-02\n",
            "  9.60398445e-02 -1.71533386e-01  4.83739108e-02  2.61414147e-01\n",
            "  4.17900667e-02 -1.46058446e-01 -2.50465307e-02  5.90328236e-02\n",
            " -4.51550833e-02 -1.58407165e-01 -3.76325533e-01  1.27072241e-02\n",
            "  6.14536929e-01 -1.33700790e-02  3.44339821e-01 -2.95607124e-01\n",
            "  2.33069637e-01 -8.53281885e-02 -3.11288901e-01 -8.78261708e-02\n",
            "  7.05038797e-01 -2.04665947e-01 -9.10127606e-02 -6.70960602e-02\n",
            "  6.53862437e-01  4.91715562e-01 -4.76173668e-01 -5.67312625e-01\n",
            "  2.04163486e-01 -7.16748120e-02  1.01835066e-01 -1.35372619e-02\n",
            "  1.08420457e-01  3.75820044e-01 -4.28081486e-01 -1.08879062e-01\n",
            " -1.75863125e-01 -3.98935942e-03 -1.95942464e-01 -2.14076166e-01\n",
            "  2.48062459e-01]\n",
            "[[2515 1881]\n",
            " [1347 4404]]\n",
            "F score of training data 0.6818764166748793 \n",
            "Recall of training data 0.7657798643714137\n",
            "Precision of training data 0.7007159904534607\n",
            "Accuracy of training data 0.7318045862412763\n",
            "[[ 620  458]\n",
            " [ 342 1117]]\n",
            "F score of test data 0.6846669294442255 \n",
            "Recall of test data 0.7655928718300206\n",
            "Precision of test data 0.7092063492063492\n",
            "Accuracy of test data 0.7363216875411998\n",
            "Completed in 25.626486684000042\n"
          ]
        }
      ]
    },
    {
      "cell_type": "code",
      "source": [
        "from sklearn.metrics import roc_auc_score\n",
        "from sklearn.metrics import roc_curve\n",
        "logit_roc_auc = roc_auc_score(y_test, reg2.predict(X_test_b))\n",
        "fpr, tpr, thresholds = roc_curve(y_test, reg2.predict(X_test_b)[:])\n",
        "plt.figure()\n",
        "plt.plot(fpr, tpr, label='Logistic Regression (area = %0.2f)' % logit_roc_auc)\n",
        "plt.plot([0, 1], [0, 1])\n",
        "plt.xlim([0.0, 1.0])\n",
        "plt.ylim([0.0, 1.05])\n",
        "plt.xlabel('False Positive Rate')\n",
        "plt.ylabel('True Positive Rate')\n",
        "plt.title('Receiver operating characteristic')\n",
        "plt.legend(loc=\"lower right\")\n",
        "plt.show()"
      ],
      "metadata": {
        "colab": {
          "base_uri": "https://localhost:8080/",
          "height": 295
        },
        "outputId": "26a4193f-4d7b-44f9-97cd-cee8417452b9",
        "id": "xtgWIG1o-NtK"
      },
      "execution_count": 70,
      "outputs": [
        {
          "output_type": "display_data",
          "data": {
            "text/plain": [
              "<Figure size 432x288 with 1 Axes>"
            ],
            "image/png": "[encoded data removed]"
          },
          "metadata": {
            "needs_background": "light"
          }
        }
      ]
    },
    {
      "cell_type": "markdown",
      "source": [
        "##SVM"
      ],
      "metadata": {
        "id": "ntgIepVy-0Ws"
      }
    },
    {
      "cell_type": "code",
      "source": [
        ""
      ],
      "metadata": {
        "id": "Bcx9lbBq-1je"
      },
      "execution_count": 70,
      "outputs": []
    },
    {
      "cell_type": "code",
      "source": [
        "startsvm = time.perf_counter()\n",
        "\n",
        "\n",
        "model2 = SVM(max_iter=10, C=1.0, epsilon=0.00001)\n",
        "y_train_svm = []\n",
        "y_test_svm = []\n",
        "for i in range(len(y_train1)):\n",
        "    if(y_train1[i] == 0):\n",
        "      y_train_svm.append(-1)\n",
        "    else:\n",
        "      y_train_svm.append(1)\n",
        "\n",
        "for i in range(len(y_test1)):\n",
        "    if(y_test1[i] == 0):\n",
        "      y_test_svm.append(-1)\n",
        "    else:\n",
        "      y_test_svm.append(1)\n",
        "\n",
        "y_train_svm = np.asarray(y_train_svm)\n",
        "y_test_svm = np.asarray(y_test_svm)\n",
        "\n",
        "model2.fit(X_train_b, y_train_svm)\n",
        "\n",
        "Y_predicted = [model2.predict(x) for x in X_train_b]\n",
        "f_score, recall, precision, accuracy = evaluate(y_train_svm, np.array(Y_predicted))\n",
        "print('F1 score of train data {}'.format(f_score))\n",
        "print('Recall of train data {}'.format(recall))\n",
        "print('Precision of train data {}'.format(precision))\n",
        "print('Accuracy of train data {}'.format(accuracy))\n",
        "\n",
        "Y_predicted = [model2.predict(x) for x in X_test_b]\n",
        "f_score, recall, precision, accuracy = evaluate(y_test_svm, np.array(Y_predicted))\n",
        "print('F1 score of test data {}'.format(f_score))\n",
        "print('Recall of test data {}'.format(recall))\n",
        "print('Precision of test data {}'.format(precision))\n",
        "print('Accuracy of test data {}'.format(accuracy))\n",
        "\n",
        "endsvm = time.perf_counter()\n",
        "\n",
        "print('Completed in', endsvm - startsvm)\n",
        "svm_timer = endsvm - startsvm"
      ],
      "metadata": {
        "colab": {
          "base_uri": "https://localhost:8080/"
        },
        "outputId": "57beeefc-6616-4be6-ede8-114f12112e77",
        "id": "HJpyNRqe_CmW"
      },
      "execution_count": 71,
      "outputs": [
        {
          "output_type": "stream",
          "name": "stdout",
          "text": [
            "The max of 10 iterations has been reached\n",
            "[[2572 1824]\n",
            " [1966 3785]]\n",
            "F1 score of train data 0.6264905883512368\n",
            "Recall of train data 0.6581464093201183\n",
            "Precision of train data 0.6748083437332858\n",
            "Accuracy of train data 0.6663732394366197\n",
            "[[635 443]\n",
            " [519 940]]\n",
            "F1 score of test data 0.6208119826566811\n",
            "Recall of test data 0.6442769019876627\n",
            "Precision of test data 0.6796818510484454\n",
            "Accuracy of test data 0.661505981703026\n",
            "Completed in 132.45774942799994\n"
          ]
        }
      ]
    },
    {
      "cell_type": "markdown",
      "source": [
        "##NN"
      ],
      "metadata": {
        "id": "KWA3qYtSradm"
      }
    },
    {
      "cell_type": "code",
      "source": [
        "nn2 = Sequential()\n",
        "\n",
        "#\n",
        "nn2.add(Dense(64, input_shape=(X_train_b.shape[1],), activation='relu', kernel_regularizer=keras.regularizers.l2(l=0.01)))\n",
        "nn2.add(Dense(32, activation='relu'))\n",
        "nn2.add(Dense(16, activation='sigmoid'))\n",
        "nn2.add(Dense(1))\n",
        "\n",
        "nn2.summary()\n",
        "\n",
        "nn2.compile(optimizer='adam',loss = tf.keras.losses.BinaryCrossentropy(from_logits=True), metrics=['accuracy'])\n",
        "\n",
        "startnn2 = time.perf_counter()\n",
        "EPOCHS = 20\n",
        "BATCH_SIZE = 10\n",
        "history = nn2.fit(X_train_b, y_train1, validation_data=(X_test_b, y_test1), epochs=EPOCHS, batch_size=BATCH_SIZE)\n",
        "\n",
        "\n",
        "\n",
        "endnn2 = time.perf_counter()\n",
        "\n",
        "print('Completed in', endnn2 - startnn2)\n",
        "\n",
        "nn_timer2 = endnn2 - startnn2"
      ],
      "metadata": {
        "colab": {
          "base_uri": "https://localhost:8080/"
        },
        "id": "lqT6O9be_Rvi",
        "outputId": "35685a3c-3234-41cd-e2ce-3ae836f788a9"
      },
      "execution_count": 72,
      "outputs": [
        {
          "output_type": "stream",
          "name": "stdout",
          "text": [
            "Model: \"sequential_1\"\n",
            "_________________________________________________________________\n",
            " Layer (type)                Output Shape              Param #   \n",
            "=================================================================\n",
            " dense_4 (Dense)             (None, 64)                4736      \n",
            "                                                                 \n",
            " dense_5 (Dense)             (None, 32)                2080      \n",
            "                                                                 \n",
            " dense_6 (Dense)             (None, 16)                528       \n",
            "                                                                 \n",
            " dense_7 (Dense)             (None, 1)                 17        \n",
            "                                                                 \n",
            "=================================================================\n",
            "Total params: 7,361\n",
            "Trainable params: 7,361\n",
            "Non-trainable params: 0\n",
            "_________________________________________________________________\n",
            "Epoch 1/20\n",
            "1015/1015 [==============================] - 4s 3ms/step - loss: 0.7068 - accuracy: 0.6144 - val_loss: 0.6164 - val_accuracy: 0.6681\n",
            "Epoch 2/20\n",
            "1015/1015 [==============================] - 3s 3ms/step - loss: 0.6173 - accuracy: 0.6632 - val_loss: 0.6097 - val_accuracy: 0.6996\n",
            "Epoch 3/20\n",
            "1015/1015 [==============================] - 3s 3ms/step - loss: 0.6019 - accuracy: 0.6806 - val_loss: 0.5831 - val_accuracy: 0.7123\n",
            "Epoch 4/20\n",
            "1015/1015 [==============================] - 4s 4ms/step - loss: 0.5860 - accuracy: 0.6986 - val_loss: 0.5836 - val_accuracy: 0.7016\n",
            "Epoch 5/20\n",
            "1015/1015 [==============================] - 3s 3ms/step - loss: 0.5829 - accuracy: 0.6925 - val_loss: 0.5807 - val_accuracy: 0.7091\n",
            "Epoch 6/20\n",
            "1015/1015 [==============================] - 3s 3ms/step - loss: 0.5775 - accuracy: 0.7039 - val_loss: 0.5760 - val_accuracy: 0.7103\n",
            "Epoch 7/20\n",
            "1015/1015 [==============================] - 3s 3ms/step - loss: 0.5701 - accuracy: 0.7096 - val_loss: 0.5754 - val_accuracy: 0.7111\n",
            "Epoch 8/20\n",
            "1015/1015 [==============================] - 3s 3ms/step - loss: 0.5672 - accuracy: 0.7173 - val_loss: 0.5758 - val_accuracy: 0.7107\n",
            "Epoch 9/20\n",
            "1015/1015 [==============================] - 3s 3ms/step - loss: 0.5616 - accuracy: 0.7169 - val_loss: 0.5743 - val_accuracy: 0.7095\n",
            "Epoch 10/20\n",
            "1015/1015 [==============================] - 3s 3ms/step - loss: 0.5619 - accuracy: 0.7255 - val_loss: 0.5726 - val_accuracy: 0.7123\n",
            "Epoch 11/20\n",
            "1015/1015 [==============================] - 3s 3ms/step - loss: 0.5586 - accuracy: 0.7223 - val_loss: 0.5700 - val_accuracy: 0.7115\n",
            "Epoch 12/20\n",
            "1015/1015 [==============================] - 3s 3ms/step - loss: 0.5559 - accuracy: 0.7275 - val_loss: 0.5878 - val_accuracy: 0.7213\n",
            "Epoch 13/20\n",
            "1015/1015 [==============================] - 3s 3ms/step - loss: 0.5560 - accuracy: 0.7240 - val_loss: 0.5780 - val_accuracy: 0.7264\n",
            "Epoch 14/20\n",
            "1015/1015 [==============================] - 3s 3ms/step - loss: 0.5531 - accuracy: 0.7281 - val_loss: 0.5725 - val_accuracy: 0.7178\n",
            "Epoch 15/20\n",
            "1015/1015 [==============================] - 3s 3ms/step - loss: 0.5517 - accuracy: 0.7311 - val_loss: 0.5782 - val_accuracy: 0.7056\n",
            "Epoch 16/20\n",
            "1015/1015 [==============================] - 3s 3ms/step - loss: 0.5522 - accuracy: 0.7280 - val_loss: 0.5689 - val_accuracy: 0.7241\n",
            "Epoch 17/20\n",
            "1015/1015 [==============================] - 3s 3ms/step - loss: 0.5512 - accuracy: 0.7284 - val_loss: 0.5779 - val_accuracy: 0.7166\n",
            "Epoch 18/20\n",
            "1015/1015 [==============================] - 3s 3ms/step - loss: 0.5515 - accuracy: 0.7302 - val_loss: 0.5792 - val_accuracy: 0.7071\n",
            "Epoch 19/20\n",
            "1015/1015 [==============================] - 3s 3ms/step - loss: 0.5487 - accuracy: 0.7314 - val_loss: 0.5803 - val_accuracy: 0.7119\n",
            "Epoch 20/20\n",
            "1015/1015 [==============================] - 3s 3ms/step - loss: 0.5515 - accuracy: 0.7294 - val_loss: 0.5888 - val_accuracy: 0.7320\n",
            "Completed in 82.66931627500003\n"
          ]
        }
      ]
    },
    {
      "cell_type": "code",
      "source": [
        ""
      ],
      "metadata": {
        "id": "Q7ENTm90KLlt"
      },
      "execution_count": 72,
      "outputs": []
    },
    {
      "cell_type": "code",
      "source": [
        "#Plotting model Accuracy\n",
        "plt.plot(history.history['accuracy'])\n",
        "plt.plot(history.history['val_accuracy'])\n",
        "plt.title('Model Accuracy')\n",
        "plt.ylabel('accuracy')\n",
        "plt.xlabel('epoch')\n",
        "plt.legend(['train', 'test'], loc='upper left')\n",
        "plt.show()\n",
        "\n",
        "# summarize history for loss\n",
        "plt.plot(history.history['loss'])\n",
        "plt.plot(history.history['val_loss'])\n",
        "plt.title('Model Loss')\n",
        "plt.ylabel('loss')\n",
        "plt.xlabel('epoch')\n",
        "plt.legend(['train', 'test'], loc='upper left')\n",
        "plt.show()"
      ],
      "metadata": {
        "colab": {
          "base_uri": "https://localhost:8080/",
          "height": 573
        },
        "outputId": "48270279-c6e8-4c2a-a2fb-b18057910f98",
        "id": "RWB90v27KL6e"
      },
      "execution_count": 73,
      "outputs": [
        {
          "output_type": "display_data",
          "data": {
            "text/plain": [
              "<Figure size 432x288 with 1 Axes>"
            ],
            "image/png": "[encoded data removed]"
          },
          "metadata": {
            "needs_background": "light"
          }
        },
        {
          "output_type": "display_data",
          "data": {
            "text/plain": [
              "<Figure size 432x288 with 1 Axes>"
            ],
            "image/png": "[encoded data removed]"
          },
          "metadata": {
            "needs_background": "light"
          }
        }
      ]
    },
    {
      "cell_type": "code",
      "source": [
        "nn_accuracy = max(history.history['accuracy'])\n",
        "nn_accuracy"
      ],
      "metadata": {
        "colab": {
          "base_uri": "https://localhost:8080/"
        },
        "outputId": "fe0f4292-1c71-4e57-e2d5-55a39a5e963b",
        "id": "lN_R8kaGJ8bh"
      },
      "execution_count": 74,
      "outputs": [
        {
          "output_type": "execute_result",
          "data": {
            "text/plain": [
              "0.731447696685791"
            ]
          },
          "metadata": {},
          "execution_count": 74
        }
      ]
    },
    {
      "cell_type": "code",
      "source": [
        "nn_accuracy_test = max(history.history['val_accuracy'])\n",
        "nn_accuracy_test"
      ],
      "metadata": {
        "colab": {
          "base_uri": "https://localhost:8080/"
        },
        "outputId": "53ebd8b4-7d52-4539-a149-72f291689b00",
        "id": "6a4ieL-UJ8bh"
      },
      "execution_count": 75,
      "outputs": [
        {
          "output_type": "execute_result",
          "data": {
            "text/plain": [
              "0.7319669127464294"
            ]
          },
          "metadata": {},
          "execution_count": 75
        }
      ]
    },
    {
      "cell_type": "code",
      "source": [
        "from sklearn.metrics import roc_auc_score\n",
        "from sklearn.metrics import roc_curve\n",
        "logit_roc_auc = roc_auc_score(y_test, nn2.predict(X_test_b))\n",
        "fpr, tpr, thresholds = roc_curve(y_test, nn2.predict(X_test_b)[:])\n",
        "plt.figure()\n",
        "plt.plot(fpr, tpr, label='Logistic Regression (area = %0.2f)' % logit_roc_auc)\n",
        "plt.plot([0, 1], [0, 1])\n",
        "plt.xlim([0.0, 1.0])\n",
        "plt.ylim([0.0, 1.05])\n",
        "plt.xlabel('False Positive Rate')\n",
        "plt.ylabel('True Positive Rate')\n",
        "plt.title('Receiver operating characteristic')\n",
        "plt.legend(loc=\"lower right\")\n",
        "plt.show()"
      ],
      "metadata": {
        "id": "wFVwTmI6CDuk",
        "colab": {
          "base_uri": "https://localhost:8080/",
          "height": 295
        },
        "outputId": "82079781-4355-48cb-9f2a-a73f82347158"
      },
      "execution_count": 76,
      "outputs": [
        {
          "output_type": "display_data",
          "data": {
            "text/plain": [
              "<Figure size 432x288 with 1 Axes>"
            ],
            "image/png": "[encoded data removed]"
          },
          "metadata": {
            "needs_background": "light"
          }
        }
      ]
    },
    {
      "cell_type": "markdown",
      "source": [
        "##KNN"
      ],
      "metadata": {
        "id": "DKOtYcM9KRT2"
      }
    },
    {
      "cell_type": "code",
      "source": [
        "startknn2 = time.perf_counter()\n",
        "\n",
        "\n",
        "from numpy.random import randint\n",
        " \n",
        "#Creating the training Data\n",
        "idx = randint(0,150,1000)\n",
        "X_train_sam = X_train_b[idx]\n",
        "y_train_sam = y_train1[idx]\n",
        "\n",
        "X_test_sam = X_test_b[idx]\n",
        "y_test_sam = y_test1[idx]\n",
        " \n",
        "#Applying our function \n",
        "y_pred = predictKNN(X_train_sam,y_train_sam,X_test_sam , 10)\n",
        "\n",
        "f_score, recall, precision, accuracy = evaluate(y_train_sam, np.array(y_pred).astype('int64'))\n",
        "print('F1 score of train data {}'.format(f_score))\n",
        "print('Recall of train data {}'.format(recall))\n",
        "print('Precision of train data {}'.format(precision))\n",
        "print('Accuracy of train data {}'.format(accuracy))\n",
        "\n",
        "\n",
        "f_score, recall, precision, accuracy = evaluate(y_test_sam, np.array(y_pred).astype('int64'))\n",
        "print('F1 score of test data {}'.format(f_score))\n",
        "print('Recall of test data {}'.format(recall))\n",
        "print('Precision of test data {}'.format(precision))\n",
        "print('Accuracy of test data {}'.format(accuracy))\n",
        "\n",
        "\n",
        "endknn2 = time.perf_counter()\n",
        "\n",
        "print('Completed in', endknn2 - startknn2)\n",
        "\n",
        "knn_timer = endknn2 - startknn2"
      ],
      "metadata": {
        "colab": {
          "base_uri": "https://localhost:8080/"
        },
        "id": "-9xScAbqKTMh",
        "outputId": "00ef35b3-1c7e-4084-af01-37ca740cfa57"
      },
      "execution_count": 77,
      "outputs": [
        {
          "output_type": "stream",
          "name": "stdout",
          "text": [
            "[[128 237]\n",
            " [197 438]]\n",
            "F1 score of train data 0.566\n",
            "Recall of train data 0.6897637795275591\n",
            "Precision of train data 0.6488888888888888\n",
            "Accuracy of train data 0.6687022900763359\n",
            "[[169 256]\n",
            " [156 419]]\n",
            "F1 score of test data 0.588\n",
            "Recall of test data 0.7286956521739131\n",
            "Precision of test data 0.6207407407407407\n",
            "Accuracy of test data 0.6704\n",
            "Completed in 16.001556875000006\n"
          ]
        }
      ]
    },
    {
      "cell_type": "code",
      "source": [
        ""
      ],
      "metadata": {
        "id": "i_iPwHIDKbPw"
      },
      "execution_count": 77,
      "outputs": []
    },
    {
      "cell_type": "markdown",
      "source": [
        "SVM"
      ],
      "metadata": {
        "id": "jFIZ1bDZLLEd"
      }
    },
    {
      "cell_type": "code",
      "source": [
        "startsvm2 = time.perf_counter()\n",
        "\n",
        "\n",
        "model2 = SVM(max_iter=20, C=1.0, epsilon=0.00001)\n",
        "y_train_svm = []\n",
        "y_test_svm = []\n",
        "for i in range(len(y_train1)):\n",
        "    if(y_train1[i] == 0):\n",
        "      y_train_svm.append(-1)\n",
        "    else:\n",
        "      y_train_svm.append(1)\n",
        "\n",
        "for i in range(len(y_test1)):\n",
        "    if(y_test1[i] == 0):\n",
        "      y_test_svm.append(-1)\n",
        "    else:\n",
        "      y_test_svm.append(1)\n",
        "\n",
        "y_train_svm = np.asarray(y_train_svm)\n",
        "y_test_svm = np.asarray(y_test_svm)\n",
        "\n",
        "model2.fit(X_train_b, y_train_svm)\n",
        "\n",
        "Y_predicted = [model2.predict(x) for x in X_train_b]\n",
        "f_score, recall, precision, accuracy = evaluate(y_train_svm, np.array(Y_predicted))\n",
        "print('F1 score of train data {}'.format(f_score))\n",
        "print('Recall of train data {}'.format(recall))\n",
        "print('Precision of train data {}'.format(precision))\n",
        "print('Accuracy of train data {}'.format(accuracy))\n",
        "\n",
        "Y_predicted = [model2.predict(x) for x in X_test_b]\n",
        "f_score, recall, precision, accuracy = evaluate(y_test_svm, np.array(Y_predicted))\n",
        "print('F1 score of test data {}'.format(f_score))\n",
        "print('Recall of test data {}'.format(recall))\n",
        "print('Precision of test data {}'.format(precision))\n",
        "print('Accuracy of test data {}'.format(accuracy))\n",
        "\n",
        "endsvm2 = time.perf_counter()\n",
        "\n",
        "print('Completed in', endsvm2 - startsvm2)\n",
        "svm_timer = endsvm2 - startsvm2"
      ],
      "metadata": {
        "colab": {
          "base_uri": "https://localhost:8080/"
        },
        "id": "7aPNCByGLMuj",
        "outputId": "daa70e48-ee59-47c3-94c2-e0ecfd73518a"
      },
      "execution_count": 78,
      "outputs": [
        {
          "output_type": "stream",
          "name": "stdout",
          "text": [
            "The max of 20 iterations has been reached\n",
            "[[2794 1602]\n",
            " [1732 4019]]\n",
            "F1 score of train data 0.6714299793042279\n",
            "Recall of train data 0.6988349852199618\n",
            "Precision of train data 0.7149973314356876\n",
            "Accuracy of train data 0.706823777699613\n",
            "[[ 701  377]\n",
            " [ 448 1011]]\n",
            "F1 score of test data 0.6748127709893575\n",
            "Recall of test data 0.6929403701165182\n",
            "Precision of test data 0.728386167146974\n",
            "Accuracy of test data 0.7102212855637514\n",
            "Completed in 175.8082392209999\n"
          ]
        }
      ]
    },
    {
      "cell_type": "code",
      "source": [
        ""
      ],
      "metadata": {
        "id": "NwRCV5ZJLh1k"
      },
      "execution_count": 78,
      "outputs": []
    },
    {
      "cell_type": "markdown",
      "source": [
        "## Gaussian Naive Bayes"
      ],
      "metadata": {
        "id": "m_KH646ErvoL"
      }
    },
    {
      "cell_type": "code",
      "source": [
        "nb2 = GaussianNaiveBayes(X_train_b, y_train1, X_test_b, y_test1)"
      ],
      "metadata": {
        "id": "qHO1_YOtrxpC"
      },
      "execution_count": 79,
      "outputs": []
    },
    {
      "cell_type": "code",
      "source": [
        "startnb2 = time.perf_counter()\n",
        "\n",
        "nb2.fit()\n",
        "nb2.predict()\n",
        "\n",
        "endnb2 = time.perf_counter()\n",
        "\n",
        "print('Completed in', endnb2 - startnb2)\n",
        "\n",
        "nb_timer = endnb2 - startnb2"
      ],
      "metadata": {
        "colab": {
          "base_uri": "https://localhost:8080/"
        },
        "id": "TbgXBeydrzMA",
        "outputId": "822ec1ee-df5b-4e19-fe20-7a7dace0b420"
      },
      "execution_count": 80,
      "outputs": [
        {
          "output_type": "stream",
          "name": "stdout",
          "text": [
            "[[2078 2318]\n",
            " [3007 2744]]\n",
            "For Training Data\n",
            "F1 score of train data 0.47521434906869026\n",
            "Recall of train data 0.47713441140671187\n",
            "Precision of train data 0.5420782299486369\n",
            "Accuracy of train data 0.5075372237121981\n",
            "[[530 548]\n",
            " [777 682]]\n",
            "For Test Data\n",
            "F1 score of test data 0.4777296018919984\n",
            "Recall of test data 0.4674434544208362\n",
            "Precision of test data 0.5544715447154471\n",
            "Accuracy of test data 0.5072517664559316\n",
            "Completed in 391.299024488\n"
          ]
        }
      ]
    }
  ]
}